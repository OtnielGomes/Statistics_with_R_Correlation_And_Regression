{
 "cells": [
  {
   "cell_type": "markdown",
   "id": "a38048a2-1cb2-4442-bd0c-095b9385d0ae",
   "metadata": {},
   "source": [
    "***\n",
    "# <font color='purple' size=10>Statistics With Language 'R':</font>\n",
    "# <font color='purple'>Correlation and Regression</font>\n",
    "***"
   ]
  },
  {
   "cell_type": "markdown",
   "id": "1539cf1e-e123-4e27-a5cd-8a77444f2ca0",
   "metadata": {},
   "source": [
    "# <font color='lightgreen'> Knowing The Data</font>\n",
    "***"
   ]
  },
  {
   "cell_type": "markdown",
   "id": "399aba15-9943-4772-87ab-06b3ad36d437",
   "metadata": {},
   "source": [
    "## <font color='lightgreen'> Project Dataset</font>\n",
    "***"
   ]
  },
  {
   "cell_type": "markdown",
   "id": "e9610da0-e1d3-4a0a-8467-8c556301aa59",
   "metadata": {},
   "source": [
    "### National Household Sample Survey - 2015\n",
    "\n",
    "The **National Household Sample Survey - PNAD** investigates annually, on a permanent basis, general characteristics of the population, education, work, income and housing and others, with variable frequency, according to the information needs of the country , such as features on migration, fertility, nuptiality, health, food security, among other topics. The survey of these statistics constitutes, over the 49 years of research, an important instrument for formulating, validating and evaluating policies aimed at socioeconomic development and improving living conditions in Brazil."
   ]
  },
  {
   "cell_type": "markdown",
   "id": "3b968a9c-58c5-4b24-934b-8fd874ed83cc",
   "metadata": {},
   "source": [
    "### Data Source\n",
    "\n",
    "https://ww2.ibge.gov.br/home/estatistica/populacao/trabalhoerendimento/pnad2015/microdados.shtm"
   ]
  },
  {
   "cell_type": "markdown",
   "id": "1005cb71-1121-428d-9afb-ef8900457dde",
   "metadata": {},
   "source": [
    "***\n",
    "### Variables used\n",
    "\n",
    "### Income\n",
    "***\n",
    "\n",
    "Monthly income from main job for people aged 10 or over.\n",
    "\n",
    "### Age\n",
    "***\n",
    "\n",
    "Age of the resident on the reference date in years.\n",
    "\n",
    "### Height (own elaboration)\n",
    "***\n",
    "\n",
    "Resident's height in meters.\n",
    "\n",
    "### UF\n",
    "***\n",
    "\n",
    "|Code|Description|\n",
    "|---|---|\n",
    "|11|Rondônia|\n",
    "|12|Acre|\n",
    "|13|Amazons|\n",
    "|14|Roraima|\n",
    "|15|Para|\n",
    "|16|Amapá|\n",
    "|17|Tocantins|\n",
    "|21|Maranhão|\n",
    "|22|Piauí|\n",
    "|23|Ceará|\n",
    "|24|Rio Grande do Norte|\n",
    "|25|Paraíba|\n",
    "|26|Pernambuco|\n",
    "|27|Alagoas|\n",
    "|28|Sergipe|\n",
    "|29|Bahia|\n",
    "|31|Minas Gerais|\n",
    "|32|Holy Spirit|\n",
    "|33|Rio de Janeiro|\n",
    "|35|São Paulo|\n",
    "|41|Paraná|\n",
    "|42|Santa Catarina|\n",
    "|43|Rio Grande do Sul|\n",
    "|50|Mato Grosso do Sul|\n",
    "|51|Mato Grosso|\n",
    "|52|Goiás|\n",
    "|53|Distrito Federal|\n",
    "\n",
    "### Sex\n",
    "***\n",
    "\n",
    "|Code|Description|\n",
    "|---|---|\n",
    "|0|Masculine|\n",
    "|1|Feminine|\n",
    "\n",
    "### Years of Study\n",
    "***\n",
    "\n",
    "|Code|Description|\n",
    "|---|---|\n",
    "|1|No education and less than 1 year|\n",
    "|2|1 year|\n",
    "|3|2 years|\n",
    "|4|3 years|\n",
    "|5|4 years|\n",
    "|6|5 years|\n",
    "|7|6 years|\n",
    "|8|7 years|\n",
    "|9|8 years|\n",
    "|10|9 years|\n",
    "|11|10 years|\n",
    "|12|11 years|\n",
    "|13|12 years old|\n",
    "|14|13 years old|\n",
    "|15|14 years old|\n",
    "|16|15 years or more|\n",
    "|17|Not determined|\n",
    "||Not applicable|\n",
    "\n",
    "### Color\n",
    "***\n",
    "\n",
    "|Code|Description|\n",
    "|---|---|\n",
    "|0|Indigenous|\n",
    "|2|White|\n",
    "|4|Black|\n",
    "|6|Yellow|\n",
    "|8|Brown|\n",
    "|9|No statement|"
   ]
  },
  {
   "cell_type": "markdown",
   "id": "18860088-32a8-487b-bd70-0208c37b2da8",
   "metadata": {},
   "source": [
    "***\n",
    "## <font color='purple'>Imports:</font>\n",
    "***"
   ]
  },
  {
   "cell_type": "code",
   "execution_count": 107,
   "id": "8a56ec8d-b8e9-4f0d-9d31-59de0ea1873a",
   "metadata": {},
   "outputs": [],
   "source": [
    "library(ggplot2)\n",
    "library(dplyr)\n",
    "library(DescTools)\n",
    "library(BSDA)"
   ]
  },
  {
   "cell_type": "markdown",
   "id": "505912f1-0585-4145-b93d-221ab246e1b9",
   "metadata": {},
   "source": [
    "***\n",
    "### <font color='purple'>Configs:</font>\n",
    "***"
   ]
  },
  {
   "cell_type": "code",
   "execution_count": 2,
   "id": "28148301-67bc-40b9-8670-6e583be9601e",
   "metadata": {},
   "outputs": [],
   "source": [
    "options(repr.plot.width = 12, repr.plot.height = 6)"
   ]
  },
  {
   "cell_type": "markdown",
   "id": "721d1c24-5264-4ac2-9a8d-1c284403909f",
   "metadata": {},
   "source": [
    "***\n",
    "## <font color='lightgreen'>Loading Project Dataset:</font>\n",
    "***"
   ]
  },
  {
   "cell_type": "code",
   "execution_count": 3,
   "id": "e1c764a0-4013-4842-8330-859e1e8c4e32",
   "metadata": {},
   "outputs": [],
   "source": [
    "dataset <- read.csv('dataset_IBGE.csv')"
   ]
  },
  {
   "cell_type": "code",
   "execution_count": 4,
   "id": "edfa0809-50e3-4abb-acee-fecdced27e12",
   "metadata": {},
   "outputs": [
    {
     "data": {
      "text/html": [
       "<table class=\"dataframe\">\n",
       "<caption>A data.frame: 6 × 7</caption>\n",
       "<thead>\n",
       "\t<tr><th></th><th scope=col>UF</th><th scope=col>Sex</th><th scope=col>Age</th><th scope=col>Color</th><th scope=col>Years.of.Studies</th><th scope=col>Income</th><th scope=col>Height</th></tr>\n",
       "\t<tr><th></th><th scope=col>&lt;int&gt;</th><th scope=col>&lt;int&gt;</th><th scope=col>&lt;int&gt;</th><th scope=col>&lt;int&gt;</th><th scope=col>&lt;int&gt;</th><th scope=col>&lt;int&gt;</th><th scope=col>&lt;dbl&gt;</th></tr>\n",
       "</thead>\n",
       "<tbody>\n",
       "\t<tr><th scope=row>1</th><td>11</td><td>0</td><td>23</td><td>8</td><td>12</td><td> 800</td><td>1.603808</td></tr>\n",
       "\t<tr><th scope=row>2</th><td>11</td><td>1</td><td>23</td><td>2</td><td>12</td><td>1150</td><td>1.739790</td></tr>\n",
       "\t<tr><th scope=row>3</th><td>11</td><td>1</td><td>35</td><td>8</td><td>15</td><td> 880</td><td>1.760444</td></tr>\n",
       "\t<tr><th scope=row>4</th><td>11</td><td>0</td><td>46</td><td>2</td><td> 6</td><td>3500</td><td>1.783158</td></tr>\n",
       "\t<tr><th scope=row>5</th><td>11</td><td>1</td><td>47</td><td>8</td><td> 9</td><td> 150</td><td>1.690631</td></tr>\n",
       "\t<tr><th scope=row>6</th><td>11</td><td>1</td><td>34</td><td>8</td><td>12</td><td> 790</td><td>1.637906</td></tr>\n",
       "</tbody>\n",
       "</table>\n"
      ],
      "text/latex": [
       "A data.frame: 6 × 7\n",
       "\\begin{tabular}{r|lllllll}\n",
       "  & UF & Sex & Age & Color & Years.of.Studies & Income & Height\\\\\n",
       "  & <int> & <int> & <int> & <int> & <int> & <int> & <dbl>\\\\\n",
       "\\hline\n",
       "\t1 & 11 & 0 & 23 & 8 & 12 &  800 & 1.603808\\\\\n",
       "\t2 & 11 & 1 & 23 & 2 & 12 & 1150 & 1.739790\\\\\n",
       "\t3 & 11 & 1 & 35 & 8 & 15 &  880 & 1.760444\\\\\n",
       "\t4 & 11 & 0 & 46 & 2 &  6 & 3500 & 1.783158\\\\\n",
       "\t5 & 11 & 1 & 47 & 8 &  9 &  150 & 1.690631\\\\\n",
       "\t6 & 11 & 1 & 34 & 8 & 12 &  790 & 1.637906\\\\\n",
       "\\end{tabular}\n"
      ],
      "text/markdown": [
       "\n",
       "A data.frame: 6 × 7\n",
       "\n",
       "| <!--/--> | UF &lt;int&gt; | Sex &lt;int&gt; | Age &lt;int&gt; | Color &lt;int&gt; | Years.of.Studies &lt;int&gt; | Income &lt;int&gt; | Height &lt;dbl&gt; |\n",
       "|---|---|---|---|---|---|---|---|\n",
       "| 1 | 11 | 0 | 23 | 8 | 12 |  800 | 1.603808 |\n",
       "| 2 | 11 | 1 | 23 | 2 | 12 | 1150 | 1.739790 |\n",
       "| 3 | 11 | 1 | 35 | 8 | 15 |  880 | 1.760444 |\n",
       "| 4 | 11 | 0 | 46 | 2 |  6 | 3500 | 1.783158 |\n",
       "| 5 | 11 | 1 | 47 | 8 |  9 |  150 | 1.690631 |\n",
       "| 6 | 11 | 1 | 34 | 8 | 12 |  790 | 1.637906 |\n",
       "\n"
      ],
      "text/plain": [
       "  UF Sex Age Color Years.of.Studies Income Height  \n",
       "1 11 0   23  8     12                800   1.603808\n",
       "2 11 1   23  2     12               1150   1.739790\n",
       "3 11 1   35  8     15                880   1.760444\n",
       "4 11 0   46  2      6               3500   1.783158\n",
       "5 11 1   47  8      9                150   1.690631\n",
       "6 11 1   34  8     12                790   1.637906"
      ]
     },
     "metadata": {},
     "output_type": "display_data"
    }
   ],
   "source": [
    "head(dataset)"
   ]
  },
  {
   "cell_type": "markdown",
   "id": "c4fc9499-db91-4294-a34b-7c6e780c1706",
   "metadata": {},
   "source": [
    "***\n",
    "## <font color='lightgreen'>Running a Linear Regression\n",
    "***"
   ]
  },
  {
   "cell_type": "markdown",
   "id": "c326d26a-d074-4c0f-b639-17b5139d75d2",
   "metadata": {},
   "source": [
    "## Example dataset\n",
    "> ### $Y$ = Household spending\n",
    "> ### $X$ = Household Income"
   ]
  },
  {
   "cell_type": "code",
   "execution_count": 5,
   "id": "32492f1e-fe90-49bf-b6d1-de59c356efcc",
   "metadata": {},
   "outputs": [],
   "source": [
    "dataset_regression = data.frame(\n",
    "    Y = c(3011, 1305, 1879, 2654, 2849, 1068, 2892, 2543, 3074, 849, 2184, 2943, 1357, 2755, 2163, 3099, 1600, 353, 1778, 740, 2129, 3302, 2412, 2683, 2515, 2395, 2292, 1000, 600, 1864, 3027, 1978, 2791, 1982, 900, 1964, 1247, 3067, 700, 1500, 3110, 2644, 1378, 2601, 501, 1292, 2125, 1431, 2260, 1770),\n",
    "    X = c(9714, 3728, 6062, 8845, 8378, 3338, 8507, 7947, 9915, 1632, 6825, 8918, 4100, 9184, 6180, 9997, 4500, 1069, 5925, 2466, 6083, 9712, 7780, 8383, 7185, 7483, 7640, 2100, 2000, 6012, 8902, 5345, 8210, 5662, 2700, 6546, 2900, 9894, 1500, 5000, 8885, 8813, 3446, 7881, 1164, 3401, 6641, 3329, 6648, 4800)\n",
    ")"
   ]
  },
  {
   "cell_type": "code",
   "execution_count": 6,
   "id": "85fcb1a2-e9d9-4232-83d7-2b2af04f5db3",
   "metadata": {},
   "outputs": [
    {
     "data": {
      "text/html": [
       "<table class=\"dataframe\">\n",
       "<caption>A data.frame: 6 × 2</caption>\n",
       "<thead>\n",
       "\t<tr><th></th><th scope=col>Y</th><th scope=col>X</th></tr>\n",
       "\t<tr><th></th><th scope=col>&lt;dbl&gt;</th><th scope=col>&lt;dbl&gt;</th></tr>\n",
       "</thead>\n",
       "<tbody>\n",
       "\t<tr><th scope=row>1</th><td>3011</td><td>9714</td></tr>\n",
       "\t<tr><th scope=row>2</th><td>1305</td><td>3728</td></tr>\n",
       "\t<tr><th scope=row>3</th><td>1879</td><td>6062</td></tr>\n",
       "\t<tr><th scope=row>4</th><td>2654</td><td>8845</td></tr>\n",
       "\t<tr><th scope=row>5</th><td>2849</td><td>8378</td></tr>\n",
       "\t<tr><th scope=row>6</th><td>1068</td><td>3338</td></tr>\n",
       "</tbody>\n",
       "</table>\n"
      ],
      "text/latex": [
       "A data.frame: 6 × 2\n",
       "\\begin{tabular}{r|ll}\n",
       "  & Y & X\\\\\n",
       "  & <dbl> & <dbl>\\\\\n",
       "\\hline\n",
       "\t1 & 3011 & 9714\\\\\n",
       "\t2 & 1305 & 3728\\\\\n",
       "\t3 & 1879 & 6062\\\\\n",
       "\t4 & 2654 & 8845\\\\\n",
       "\t5 & 2849 & 8378\\\\\n",
       "\t6 & 1068 & 3338\\\\\n",
       "\\end{tabular}\n"
      ],
      "text/markdown": [
       "\n",
       "A data.frame: 6 × 2\n",
       "\n",
       "| <!--/--> | Y &lt;dbl&gt; | X &lt;dbl&gt; |\n",
       "|---|---|---|\n",
       "| 1 | 3011 | 9714 |\n",
       "| 2 | 1305 | 3728 |\n",
       "| 3 | 1879 | 6062 |\n",
       "| 4 | 2654 | 8845 |\n",
       "| 5 | 2849 | 8378 |\n",
       "| 6 | 1068 | 3338 |\n",
       "\n"
      ],
      "text/plain": [
       "  Y    X   \n",
       "1 3011 9714\n",
       "2 1305 3728\n",
       "3 1879 6062\n",
       "4 2654 8845\n",
       "5 2849 8378\n",
       "6 1068 3338"
      ]
     },
     "metadata": {},
     "output_type": "display_data"
    }
   ],
   "source": [
    "head(dataset_regression)"
   ]
  },
  {
   "cell_type": "code",
   "execution_count": 7,
   "id": "3e57b44f-8ad6-4c52-8344-307486cddbe5",
   "metadata": {},
   "outputs": [
    {
     "data": {
      "text/html": [
       "50"
      ],
      "text/latex": [
       "50"
      ],
      "text/markdown": [
       "50"
      ],
      "text/plain": [
       "[1] 50"
      ]
     },
     "metadata": {},
     "output_type": "display_data"
    }
   ],
   "source": [
    "nrow(dataset_regression)"
   ]
  },
  {
   "cell_type": "markdown",
   "id": "d67bdab2-8f06-416f-b62c-612ad6e0427f",
   "metadata": {},
   "source": [
    "## Descriptive Statistics"
   ]
  },
  {
   "cell_type": "code",
   "execution_count": 8,
   "id": "a886d0b5-991d-415e-8dbf-548a6674d766",
   "metadata": {},
   "outputs": [
    {
     "data": {
      "text/plain": [
       "       Y              X       \n",
       " Min.   : 353   Min.   :1069  \n",
       " 1st Qu.:1362   1st Qu.:3516  \n",
       " Median :2127   Median :6363  \n",
       " Mean   :2011   Mean   :6066  \n",
       " 3rd Qu.:2676   3rd Qu.:8382  \n",
       " Max.   :3302   Max.   :9997  "
      ]
     },
     "metadata": {},
     "output_type": "display_data"
    }
   ],
   "source": [
    "summary(dataset_regression)"
   ]
  },
  {
   "cell_type": "code",
   "execution_count": 9,
   "id": "b264ce72-0c37-4c5f-83e7-d98fbddf81f4",
   "metadata": {},
   "outputs": [
    {
     "data": {
      "text/html": [
       "<style>\n",
       ".dl-inline {width: auto; margin:0; padding: 0}\n",
       ".dl-inline>dt, .dl-inline>dd {float: none; width: auto; display: inline-block}\n",
       ".dl-inline>dt::after {content: \":\\0020\"; padding-right: .5ex}\n",
       ".dl-inline>dt:not(:first-of-type) {padding-left: .5ex}\n",
       "</style><dl class=dl-inline><dt>Y</dt><dd>817.214648195007</dd><dt>X</dt><dd>2707.18781153779</dd></dl>\n"
      ],
      "text/latex": [
       "\\begin{description*}\n",
       "\\item[Y] 817.214648195007\n",
       "\\item[X] 2707.18781153779\n",
       "\\end{description*}\n"
      ],
      "text/markdown": [
       "Y\n",
       ":   817.214648195007X\n",
       ":   2707.18781153779\n",
       "\n"
      ],
      "text/plain": [
       "        Y         X \n",
       " 817.2146 2707.1878 "
      ]
     },
     "metadata": {},
     "output_type": "display_data"
    }
   ],
   "source": [
    "apply(dataset_regression, 2, sd)"
   ]
  },
  {
   "cell_type": "markdown",
   "id": "ff747671-d257-401e-a133-1f6f6f934395",
   "metadata": {},
   "source": [
    "## Graphical Analysis"
   ]
  },
  {
   "cell_type": "code",
   "execution_count": 10,
   "id": "9aa42120-1595-4e6f-aed0-abf91f60629a",
   "metadata": {},
   "outputs": [
    {
     "data": {
      "text/html": [
       "<table class=\"dataframe\">\n",
       "<caption>A data.frame: 100 × 2</caption>\n",
       "<thead>\n",
       "\t<tr><th scope=col>values</th><th scope=col>ind</th></tr>\n",
       "\t<tr><th scope=col>&lt;dbl&gt;</th><th scope=col>&lt;fct&gt;</th></tr>\n",
       "</thead>\n",
       "<tbody>\n",
       "\t<tr><td>3011</td><td>Y</td></tr>\n",
       "\t<tr><td>1305</td><td>Y</td></tr>\n",
       "\t<tr><td>1879</td><td>Y</td></tr>\n",
       "\t<tr><td>2654</td><td>Y</td></tr>\n",
       "\t<tr><td>2849</td><td>Y</td></tr>\n",
       "\t<tr><td>1068</td><td>Y</td></tr>\n",
       "\t<tr><td>2892</td><td>Y</td></tr>\n",
       "\t<tr><td>2543</td><td>Y</td></tr>\n",
       "\t<tr><td>3074</td><td>Y</td></tr>\n",
       "\t<tr><td> 849</td><td>Y</td></tr>\n",
       "\t<tr><td>2184</td><td>Y</td></tr>\n",
       "\t<tr><td>2943</td><td>Y</td></tr>\n",
       "\t<tr><td>1357</td><td>Y</td></tr>\n",
       "\t<tr><td>2755</td><td>Y</td></tr>\n",
       "\t<tr><td>2163</td><td>Y</td></tr>\n",
       "\t<tr><td>3099</td><td>Y</td></tr>\n",
       "\t<tr><td>1600</td><td>Y</td></tr>\n",
       "\t<tr><td> 353</td><td>Y</td></tr>\n",
       "\t<tr><td>1778</td><td>Y</td></tr>\n",
       "\t<tr><td> 740</td><td>Y</td></tr>\n",
       "\t<tr><td>2129</td><td>Y</td></tr>\n",
       "\t<tr><td>3302</td><td>Y</td></tr>\n",
       "\t<tr><td>2412</td><td>Y</td></tr>\n",
       "\t<tr><td>2683</td><td>Y</td></tr>\n",
       "\t<tr><td>2515</td><td>Y</td></tr>\n",
       "\t<tr><td>2395</td><td>Y</td></tr>\n",
       "\t<tr><td>2292</td><td>Y</td></tr>\n",
       "\t<tr><td>1000</td><td>Y</td></tr>\n",
       "\t<tr><td> 600</td><td>Y</td></tr>\n",
       "\t<tr><td>1864</td><td>Y</td></tr>\n",
       "\t<tr><td>⋮</td><td>⋮</td></tr>\n",
       "\t<tr><td>6083</td><td>X</td></tr>\n",
       "\t<tr><td>9712</td><td>X</td></tr>\n",
       "\t<tr><td>7780</td><td>X</td></tr>\n",
       "\t<tr><td>8383</td><td>X</td></tr>\n",
       "\t<tr><td>7185</td><td>X</td></tr>\n",
       "\t<tr><td>7483</td><td>X</td></tr>\n",
       "\t<tr><td>7640</td><td>X</td></tr>\n",
       "\t<tr><td>2100</td><td>X</td></tr>\n",
       "\t<tr><td>2000</td><td>X</td></tr>\n",
       "\t<tr><td>6012</td><td>X</td></tr>\n",
       "\t<tr><td>8902</td><td>X</td></tr>\n",
       "\t<tr><td>5345</td><td>X</td></tr>\n",
       "\t<tr><td>8210</td><td>X</td></tr>\n",
       "\t<tr><td>5662</td><td>X</td></tr>\n",
       "\t<tr><td>2700</td><td>X</td></tr>\n",
       "\t<tr><td>6546</td><td>X</td></tr>\n",
       "\t<tr><td>2900</td><td>X</td></tr>\n",
       "\t<tr><td>9894</td><td>X</td></tr>\n",
       "\t<tr><td>1500</td><td>X</td></tr>\n",
       "\t<tr><td>5000</td><td>X</td></tr>\n",
       "\t<tr><td>8885</td><td>X</td></tr>\n",
       "\t<tr><td>8813</td><td>X</td></tr>\n",
       "\t<tr><td>3446</td><td>X</td></tr>\n",
       "\t<tr><td>7881</td><td>X</td></tr>\n",
       "\t<tr><td>1164</td><td>X</td></tr>\n",
       "\t<tr><td>3401</td><td>X</td></tr>\n",
       "\t<tr><td>6641</td><td>X</td></tr>\n",
       "\t<tr><td>3329</td><td>X</td></tr>\n",
       "\t<tr><td>6648</td><td>X</td></tr>\n",
       "\t<tr><td>4800</td><td>X</td></tr>\n",
       "</tbody>\n",
       "</table>\n"
      ],
      "text/latex": [
       "A data.frame: 100 × 2\n",
       "\\begin{tabular}{ll}\n",
       " values & ind\\\\\n",
       " <dbl> & <fct>\\\\\n",
       "\\hline\n",
       "\t 3011 & Y\\\\\n",
       "\t 1305 & Y\\\\\n",
       "\t 1879 & Y\\\\\n",
       "\t 2654 & Y\\\\\n",
       "\t 2849 & Y\\\\\n",
       "\t 1068 & Y\\\\\n",
       "\t 2892 & Y\\\\\n",
       "\t 2543 & Y\\\\\n",
       "\t 3074 & Y\\\\\n",
       "\t  849 & Y\\\\\n",
       "\t 2184 & Y\\\\\n",
       "\t 2943 & Y\\\\\n",
       "\t 1357 & Y\\\\\n",
       "\t 2755 & Y\\\\\n",
       "\t 2163 & Y\\\\\n",
       "\t 3099 & Y\\\\\n",
       "\t 1600 & Y\\\\\n",
       "\t  353 & Y\\\\\n",
       "\t 1778 & Y\\\\\n",
       "\t  740 & Y\\\\\n",
       "\t 2129 & Y\\\\\n",
       "\t 3302 & Y\\\\\n",
       "\t 2412 & Y\\\\\n",
       "\t 2683 & Y\\\\\n",
       "\t 2515 & Y\\\\\n",
       "\t 2395 & Y\\\\\n",
       "\t 2292 & Y\\\\\n",
       "\t 1000 & Y\\\\\n",
       "\t  600 & Y\\\\\n",
       "\t 1864 & Y\\\\\n",
       "\t ⋮ & ⋮\\\\\n",
       "\t 6083 & X\\\\\n",
       "\t 9712 & X\\\\\n",
       "\t 7780 & X\\\\\n",
       "\t 8383 & X\\\\\n",
       "\t 7185 & X\\\\\n",
       "\t 7483 & X\\\\\n",
       "\t 7640 & X\\\\\n",
       "\t 2100 & X\\\\\n",
       "\t 2000 & X\\\\\n",
       "\t 6012 & X\\\\\n",
       "\t 8902 & X\\\\\n",
       "\t 5345 & X\\\\\n",
       "\t 8210 & X\\\\\n",
       "\t 5662 & X\\\\\n",
       "\t 2700 & X\\\\\n",
       "\t 6546 & X\\\\\n",
       "\t 2900 & X\\\\\n",
       "\t 9894 & X\\\\\n",
       "\t 1500 & X\\\\\n",
       "\t 5000 & X\\\\\n",
       "\t 8885 & X\\\\\n",
       "\t 8813 & X\\\\\n",
       "\t 3446 & X\\\\\n",
       "\t 7881 & X\\\\\n",
       "\t 1164 & X\\\\\n",
       "\t 3401 & X\\\\\n",
       "\t 6641 & X\\\\\n",
       "\t 3329 & X\\\\\n",
       "\t 6648 & X\\\\\n",
       "\t 4800 & X\\\\\n",
       "\\end{tabular}\n"
      ],
      "text/markdown": [
       "\n",
       "A data.frame: 100 × 2\n",
       "\n",
       "| values &lt;dbl&gt; | ind &lt;fct&gt; |\n",
       "|---|---|\n",
       "| 3011 | Y |\n",
       "| 1305 | Y |\n",
       "| 1879 | Y |\n",
       "| 2654 | Y |\n",
       "| 2849 | Y |\n",
       "| 1068 | Y |\n",
       "| 2892 | Y |\n",
       "| 2543 | Y |\n",
       "| 3074 | Y |\n",
       "|  849 | Y |\n",
       "| 2184 | Y |\n",
       "| 2943 | Y |\n",
       "| 1357 | Y |\n",
       "| 2755 | Y |\n",
       "| 2163 | Y |\n",
       "| 3099 | Y |\n",
       "| 1600 | Y |\n",
       "|  353 | Y |\n",
       "| 1778 | Y |\n",
       "|  740 | Y |\n",
       "| 2129 | Y |\n",
       "| 3302 | Y |\n",
       "| 2412 | Y |\n",
       "| 2683 | Y |\n",
       "| 2515 | Y |\n",
       "| 2395 | Y |\n",
       "| 2292 | Y |\n",
       "| 1000 | Y |\n",
       "|  600 | Y |\n",
       "| 1864 | Y |\n",
       "| ⋮ | ⋮ |\n",
       "| 6083 | X |\n",
       "| 9712 | X |\n",
       "| 7780 | X |\n",
       "| 8383 | X |\n",
       "| 7185 | X |\n",
       "| 7483 | X |\n",
       "| 7640 | X |\n",
       "| 2100 | X |\n",
       "| 2000 | X |\n",
       "| 6012 | X |\n",
       "| 8902 | X |\n",
       "| 5345 | X |\n",
       "| 8210 | X |\n",
       "| 5662 | X |\n",
       "| 2700 | X |\n",
       "| 6546 | X |\n",
       "| 2900 | X |\n",
       "| 9894 | X |\n",
       "| 1500 | X |\n",
       "| 5000 | X |\n",
       "| 8885 | X |\n",
       "| 8813 | X |\n",
       "| 3446 | X |\n",
       "| 7881 | X |\n",
       "| 1164 | X |\n",
       "| 3401 | X |\n",
       "| 6641 | X |\n",
       "| 3329 | X |\n",
       "| 6648 | X |\n",
       "| 4800 | X |\n",
       "\n"
      ],
      "text/plain": [
       "    values ind\n",
       "1   3011   Y  \n",
       "2   1305   Y  \n",
       "3   1879   Y  \n",
       "4   2654   Y  \n",
       "5   2849   Y  \n",
       "6   1068   Y  \n",
       "7   2892   Y  \n",
       "8   2543   Y  \n",
       "9   3074   Y  \n",
       "10   849   Y  \n",
       "11  2184   Y  \n",
       "12  2943   Y  \n",
       "13  1357   Y  \n",
       "14  2755   Y  \n",
       "15  2163   Y  \n",
       "16  3099   Y  \n",
       "17  1600   Y  \n",
       "18   353   Y  \n",
       "19  1778   Y  \n",
       "20   740   Y  \n",
       "21  2129   Y  \n",
       "22  3302   Y  \n",
       "23  2412   Y  \n",
       "24  2683   Y  \n",
       "25  2515   Y  \n",
       "26  2395   Y  \n",
       "27  2292   Y  \n",
       "28  1000   Y  \n",
       "29   600   Y  \n",
       "30  1864   Y  \n",
       "⋮   ⋮      ⋮  \n",
       "71  6083   X  \n",
       "72  9712   X  \n",
       "73  7780   X  \n",
       "74  8383   X  \n",
       "75  7185   X  \n",
       "76  7483   X  \n",
       "77  7640   X  \n",
       "78  2100   X  \n",
       "79  2000   X  \n",
       "80  6012   X  \n",
       "81  8902   X  \n",
       "82  5345   X  \n",
       "83  8210   X  \n",
       "84  5662   X  \n",
       "85  2700   X  \n",
       "86  6546   X  \n",
       "87  2900   X  \n",
       "88  9894   X  \n",
       "89  1500   X  \n",
       "90  5000   X  \n",
       "91  8885   X  \n",
       "92  8813   X  \n",
       "93  3446   X  \n",
       "94  7881   X  \n",
       "95  1164   X  \n",
       "96  3401   X  \n",
       "97  6641   X  \n",
       "98  3329   X  \n",
       "99  6648   X  \n",
       "100 4800   X  "
      ]
     },
     "metadata": {},
     "output_type": "display_data"
    }
   ],
   "source": [
    "stack(dataset_regression)"
   ]
  },
  {
   "cell_type": "code",
   "execution_count": 11,
   "id": "6bfc12e8-63d4-4e18-9098-b13f2d30a0c3",
   "metadata": {},
   "outputs": [],
   "source": [
    "config_graphic <- theme(\n",
    "    plot.title = element_text(size = 14, hjust = 0.5),\n",
    "    axis.title.y = element_text(size = 12, vjust = 0.2),\n",
    "    axis.title.x = element_text(size = 12, vjust = -0.2),\n",
    "    axis.text.y = element_text(size = 10),\n",
    "    axis.text.x = element_text(size = 10)\n",
    ")"
   ]
  },
  {
   "cell_type": "code",
   "execution_count": 12,
   "id": "eb388a60-d656-43b6-a95a-493080ae46a3",
   "metadata": {},
   "outputs": [
    {
     "data": {
      "image/png": "[encoded data removed]",
      "text/plain": [
       "plot without title"
      ]
     },
     "metadata": {
      "image/png": {
       "height": 360,
       "width": 720
      }
     },
     "output_type": "display_data"
    }
   ],
   "source": [
    "ggplot(stack(dataset_regression), aes(x = ind, y = values))+\n",
    "    stat_boxplot(geom = 'errorbar', width = 0.4)+\n",
    "    geom_boxplot(fill = c('#3274A1', 'orange'))+\n",
    "    coord_flip()+\n",
    "    xlab('Variables')+\n",
    "    ylab('Reias ($)')+\n",
    "    ggtitle('BoxPlot')+\n",
    "    config_graphic\n"
   ]
  },
  {
   "cell_type": "code",
   "execution_count": 13,
   "id": "55aad8c1-b788-49d5-8884-461617875bc9",
   "metadata": {},
   "outputs": [
    {
     "data": {
      "image/png": "[encoded data removed]",
      "text/plain": [
       "plot without title"
      ]
     },
     "metadata": {
      "image/png": {
       "height": 360,
       "width": 720
      }
     },
     "output_type": "display_data"
    }
   ],
   "source": [
    "ggplot(data = dataset_regression, aes(x = X, y = Y))+\n",
    "    geom_point(size = 2, stroke = 0)+\n",
    "    geom_smooth(method = lm, formula = 'y ~ x')+\n",
    "    xlab('Family Income')+\n",
    "    ylab('Family Expenses')+\n",
    "    ggtitle('Regression: Income x Expenses')+\n",
    "    config_graphic\n",
    "  "
   ]
  },
  {
   "cell_type": "markdown",
   "id": "9a9b32db-0e46-4f53-a77a-6513d580fbe9",
   "metadata": {},
   "source": [
    "### Correlation Analysis"
   ]
  },
  {
   "cell_type": "code",
   "execution_count": 14,
   "id": "b29eded2-1942-402d-b72f-e63ffbecd9e6",
   "metadata": {},
   "outputs": [
    {
     "data": {
      "text/html": [
       "<table class=\"dataframe\">\n",
       "<caption>A matrix: 2 × 2 of type dbl</caption>\n",
       "<thead>\n",
       "\t<tr><th></th><th scope=col>Y</th><th scope=col>X</th></tr>\n",
       "</thead>\n",
       "<tbody>\n",
       "\t<tr><th scope=row>Y</th><td>1.0000000</td><td>0.9848352</td></tr>\n",
       "\t<tr><th scope=row>X</th><td>0.9848352</td><td>1.0000000</td></tr>\n",
       "</tbody>\n",
       "</table>\n"
      ],
      "text/latex": [
       "A matrix: 2 × 2 of type dbl\n",
       "\\begin{tabular}{r|ll}\n",
       "  & Y & X\\\\\n",
       "\\hline\n",
       "\tY & 1.0000000 & 0.9848352\\\\\n",
       "\tX & 0.9848352 & 1.0000000\\\\\n",
       "\\end{tabular}\n"
      ],
      "text/markdown": [
       "\n",
       "A matrix: 2 × 2 of type dbl\n",
       "\n",
       "| <!--/--> | Y | X |\n",
       "|---|---|---|\n",
       "| Y | 1.0000000 | 0.9848352 |\n",
       "| X | 0.9848352 | 1.0000000 |\n",
       "\n"
      ],
      "text/plain": [
       "  Y         X        \n",
       "Y 1.0000000 0.9848352\n",
       "X 0.9848352 1.0000000"
      ]
     },
     "metadata": {},
     "output_type": "display_data"
    }
   ],
   "source": [
    "cor(dataset_regression)"
   ]
  },
  {
   "cell_type": "markdown",
   "id": "7c26f379-f447-4d56-a672-62470a7994ce",
   "metadata": {},
   "source": [
    "### Linear Regression Model"
   ]
  },
  {
   "cell_type": "code",
   "execution_count": 15,
   "id": "c2b2572a-bdfe-433e-a3f7-3f3eeb25ea0e",
   "metadata": {},
   "outputs": [
    {
     "data": {
      "text/plain": [
       "\n",
       "Call:\n",
       "lm(formula = Y ~ X, data = dataset_regression)\n",
       "\n",
       "Coefficients:\n",
       "(Intercept)            X  \n",
       "   207.9033       0.2973  \n"
      ]
     },
     "metadata": {},
     "output_type": "display_data"
    }
   ],
   "source": [
    "model_regression <- lm(formula = Y ~ X, data = dataset_regression)\n",
    "model_regression"
   ]
  },
  {
   "cell_type": "code",
   "execution_count": 16,
   "id": "9e0c6dfd-6bfb-422c-b80c-6d7f210a9295",
   "metadata": {},
   "outputs": [
    {
     "data": {
      "text/plain": [
       "\n",
       "Call:\n",
       "lm(formula = Y ~ X, data = dataset_regression)\n",
       "\n",
       "Residuals:\n",
       "    Min      1Q  Median      3Q     Max \n",
       "-202.49 -125.96  -22.28  140.53  260.67 \n",
       "\n",
       "Coefficients:\n",
       "             Estimate Std. Error t value Pr(>|t|)    \n",
       "(Intercept) 2.079e+02  5.013e+01   4.148 0.000136 ***\n",
       "X           2.973e-01  7.559e-03  39.328  < 2e-16 ***\n",
       "---\n",
       "Signif. codes:  0 ‘***’ 0.001 ‘**’ 0.01 ‘*’ 0.05 ‘.’ 0.1 ‘ ’ 1\n",
       "\n",
       "Residual standard error: 143.2 on 48 degrees of freedom\n",
       "Multiple R-squared:  0.9699,\tAdjusted R-squared:  0.9693 \n",
       "F-statistic:  1547 on 1 and 48 DF,  p-value: < 2.2e-16\n"
      ]
     },
     "metadata": {},
     "output_type": "display_data"
    }
   ],
   "source": [
    "summary(model_regression)"
   ]
  },
  {
   "cell_type": "markdown",
   "id": "9965eabb-a240-4c6d-b10d-36415db5145e",
   "metadata": {},
   "source": [
    "### Getting the in-sample predictions"
   ]
  },
  {
   "cell_type": "code",
   "execution_count": 17,
   "id": "28f2073b-14b5-4e42-a609-ad8945bc86b0",
   "metadata": {},
   "outputs": [
    {
     "data": {
      "text/html": [
       "<table class=\"dataframe\">\n",
       "<caption>A data.frame: 6 × 3</caption>\n",
       "<thead>\n",
       "\t<tr><th></th><th scope=col>Y</th><th scope=col>X</th><th scope=col>Y_estimated</th></tr>\n",
       "\t<tr><th></th><th scope=col>&lt;dbl&gt;</th><th scope=col>&lt;dbl&gt;</th><th scope=col>&lt;dbl&gt;</th></tr>\n",
       "</thead>\n",
       "<tbody>\n",
       "\t<tr><th scope=row>1</th><td>3011</td><td>9714</td><td>3095.785</td></tr>\n",
       "\t<tr><th scope=row>2</th><td>1305</td><td>3728</td><td>1316.203</td></tr>\n",
       "\t<tr><th scope=row>3</th><td>1879</td><td>6062</td><td>2010.079</td></tr>\n",
       "\t<tr><th scope=row>4</th><td>2654</td><td>8845</td><td>2837.439</td></tr>\n",
       "\t<tr><th scope=row>5</th><td>2849</td><td>8378</td><td>2698.605</td></tr>\n",
       "\t<tr><th scope=row>6</th><td>1068</td><td>3338</td><td>1200.260</td></tr>\n",
       "</tbody>\n",
       "</table>\n"
      ],
      "text/latex": [
       "A data.frame: 6 × 3\n",
       "\\begin{tabular}{r|lll}\n",
       "  & Y & X & Y\\_estimated\\\\\n",
       "  & <dbl> & <dbl> & <dbl>\\\\\n",
       "\\hline\n",
       "\t1 & 3011 & 9714 & 3095.785\\\\\n",
       "\t2 & 1305 & 3728 & 1316.203\\\\\n",
       "\t3 & 1879 & 6062 & 2010.079\\\\\n",
       "\t4 & 2654 & 8845 & 2837.439\\\\\n",
       "\t5 & 2849 & 8378 & 2698.605\\\\\n",
       "\t6 & 1068 & 3338 & 1200.260\\\\\n",
       "\\end{tabular}\n"
      ],
      "text/markdown": [
       "\n",
       "A data.frame: 6 × 3\n",
       "\n",
       "| <!--/--> | Y &lt;dbl&gt; | X &lt;dbl&gt; | Y_estimated &lt;dbl&gt; |\n",
       "|---|---|---|---|\n",
       "| 1 | 3011 | 9714 | 3095.785 |\n",
       "| 2 | 1305 | 3728 | 1316.203 |\n",
       "| 3 | 1879 | 6062 | 2010.079 |\n",
       "| 4 | 2654 | 8845 | 2837.439 |\n",
       "| 5 | 2849 | 8378 | 2698.605 |\n",
       "| 6 | 1068 | 3338 | 1200.260 |\n",
       "\n"
      ],
      "text/plain": [
       "  Y    X    Y_estimated\n",
       "1 3011 9714 3095.785   \n",
       "2 1305 3728 1316.203   \n",
       "3 1879 6062 2010.079   \n",
       "4 2654 8845 2837.439   \n",
       "5 2849 8378 2698.605   \n",
       "6 1068 3338 1200.260   "
      ]
     },
     "metadata": {},
     "output_type": "display_data"
    }
   ],
   "source": [
    "dataset_regression['Y_estimated'] <- model_regression$fitted.values\n",
    "head(dataset_regression)"
   ]
  },
  {
   "cell_type": "markdown",
   "id": "d47ce4a7-9386-41eb-a156-e79d57c13c47",
   "metadata": {},
   "source": [
    "***\n",
    "## <font color='lightgreen'>Correlation</font>\n",
    "***"
   ]
  },
  {
   "cell_type": "markdown",
   "id": "26266fc8-bc57-40cc-831d-a626b2731030",
   "metadata": {},
   "source": [
    "## <font color='lightgreen'>Covariance</font>\n",
    "***"
   ]
  },
  {
   "cell_type": "markdown",
   "id": "396542f0-ef01-415a-b18a-2ad6ca450cd8",
   "metadata": {},
   "source": [
    "Covariance, or joint variance, is the measure of the degree of numerical interdependence (or interrelationship) between two variables. It is defined as follows:"
   ]
  },
  {
   "cell_type": "markdown",
   "id": "511cba5d-f900-41f3-b5ea-40a2d2ba6cdc",
   "metadata": {},
   "source": [
    "### Population covariance\n",
    "\n",
    "# $$\\sigma_{xy} = \\frac 1n\\sum_{i=1}^{n}(X_i-\\mu_x)(Y_i-\\mu_y)$$"
   ]
  },
  {
   "cell_type": "markdown",
   "id": "bb7c771e-d98e-4d8b-bf2c-5f12e6b64f23",
   "metadata": {},
   "source": [
    "### Sample covariance\n",
    "\n",
    "# $$S_{xy} = \\frac 1{n-1}\\sum_{i=1}^{n}(X_i-\\bar{X})(Y_i-\\bar{Y})$$"
   ]
  },
  {
   "cell_type": "markdown",
   "id": "466b7a9e-df9e-41eb-b901-6b7f930f943b",
   "metadata": {},
   "source": [
    "### Generating a random sample"
   ]
  },
  {
   "cell_type": "code",
   "execution_count": 18,
   "id": "126e5cfb-678a-4ec4-8207-1960b9480e5d",
   "metadata": {},
   "outputs": [],
   "source": [
    "sample <- data.frame(\n",
    "    Age = c(39, 29, 21, 49, 29, 34, 32, 32, 24, 53, 28, 28, 46, 58, 41, 43, 31, 55, 52, 54),\n",
    "    Income = c(1500, 1000, 3500, 1570, 600, 1200, 2000, 500, 1300, 600, 1500, 3000, 0, 550, 1500, 1600, 746, 1000, 0, 1400),\n",
    "    Years.Of.Study = c(6, 7, 12, 13, 9, 12, 12, 6, 7, 5, 7, 16, 12, 3, 12, 9, 1, 6, 1, 6),\n",
    "    Height = c(1.6162, 1.7525, 1.6940, 1.8041, 1.7854, 1.7468, 1.6633, 1.6937, 1.6569, 1.6671, 1.6786, 1.6730, 1.7853, 1.6090, 1.7833, 1.6709, 1.6392, 1.6861, 1.7107, 1.7288)\n",
    ")"
   ]
  },
  {
   "cell_type": "markdown",
   "id": "3b0d81ec-f6b3-4109-b20d-adce92c8d5e2",
   "metadata": {},
   "source": [
    "### Obtaining the covariance matrix"
   ]
  },
  {
   "cell_type": "code",
   "execution_count": 19,
   "id": "0f6987e7-64d5-44d1-b48b-fa26eebac0d4",
   "metadata": {},
   "outputs": [
    {
     "data": {
      "text/html": [
       "<table class=\"dataframe\">\n",
       "<caption>A matrix: 4 × 4 of type dbl</caption>\n",
       "<thead>\n",
       "\t<tr><th></th><th scope=col>Age</th><th scope=col>Income</th><th scope=col>Years.Of.Study</th><th scope=col>Height</th></tr>\n",
       "</thead>\n",
       "<tbody>\n",
       "\t<tr><th scope=row>Age</th><td> 1.344105e+02</td><td> -4947.96842</td><td> -16.4105263</td><td> 0.016483684</td></tr>\n",
       "\t<tr><th scope=row>Income</th><td>-4.947968e+03</td><td>764668.32632</td><td>2209.0210526</td><td>-7.139630000</td></tr>\n",
       "\t<tr><th scope=row>Years.Of.Study</th><td>-1.641053e+01</td><td>  2209.02105</td><td>  16.9368421</td><td> 0.111258421</td></tr>\n",
       "\t<tr><th scope=row>Height</th><td> 1.648368e-02</td><td>    -7.13963</td><td>   0.1112584</td><td> 0.003353907</td></tr>\n",
       "</tbody>\n",
       "</table>\n"
      ],
      "text/latex": [
       "A matrix: 4 × 4 of type dbl\n",
       "\\begin{tabular}{r|llll}\n",
       "  & Age & Income & Years.Of.Study & Height\\\\\n",
       "\\hline\n",
       "\tAge &  1.344105e+02 &  -4947.96842 &  -16.4105263 &  0.016483684\\\\\n",
       "\tIncome & -4.947968e+03 & 764668.32632 & 2209.0210526 & -7.139630000\\\\\n",
       "\tYears.Of.Study & -1.641053e+01 &   2209.02105 &   16.9368421 &  0.111258421\\\\\n",
       "\tHeight &  1.648368e-02 &     -7.13963 &    0.1112584 &  0.003353907\\\\\n",
       "\\end{tabular}\n"
      ],
      "text/markdown": [
       "\n",
       "A matrix: 4 × 4 of type dbl\n",
       "\n",
       "| <!--/--> | Age | Income | Years.Of.Study | Height |\n",
       "|---|---|---|---|---|\n",
       "| Age |  1.344105e+02 |  -4947.96842 |  -16.4105263 |  0.016483684 |\n",
       "| Income | -4.947968e+03 | 764668.32632 | 2209.0210526 | -7.139630000 |\n",
       "| Years.Of.Study | -1.641053e+01 |   2209.02105 |   16.9368421 |  0.111258421 |\n",
       "| Height |  1.648368e-02 |     -7.13963 |    0.1112584 |  0.003353907 |\n",
       "\n"
      ],
      "text/plain": [
       "               Age           Income       Years.Of.Study Height      \n",
       "Age             1.344105e+02  -4947.96842  -16.4105263    0.016483684\n",
       "Income         -4.947968e+03 764668.32632 2209.0210526   -7.139630000\n",
       "Years.Of.Study -1.641053e+01   2209.02105   16.9368421    0.111258421\n",
       "Height          1.648368e-02     -7.13963    0.1112584    0.003353907"
      ]
     },
     "metadata": {},
     "output_type": "display_data"
    }
   ],
   "source": [
    "cov_matrix <- cov(sample)\n",
    "cov_matrix"
   ]
  },
  {
   "cell_type": "markdown",
   "id": "389fe39e-a026-4b6d-9018-80fe65b37873",
   "metadata": {},
   "source": [
    "### Identifying variances on the main diagonal of the matrix"
   ]
  },
  {
   "cell_type": "code",
   "execution_count": 20,
   "id": "7527c75f-bc46-4024-925d-320bd190e18d",
   "metadata": {},
   "outputs": [
    {
     "data": {
      "text/html": [
       "134.410526315789"
      ],
      "text/latex": [
       "134.410526315789"
      ],
      "text/markdown": [
       "134.410526315789"
      ],
      "text/plain": [
       "[1] 134.4105"
      ]
     },
     "metadata": {},
     "output_type": "display_data"
    }
   ],
   "source": [
    "var(sample$Age)"
   ]
  },
  {
   "cell_type": "markdown",
   "id": "8dca676b-2253-435f-80ca-ccab4a088813",
   "metadata": {},
   "source": [
    "***\n",
    "## <font color='lightgreen'>Covariance Interpretation</font>\n",
    "***"
   ]
  },
  {
   "cell_type": "markdown",
   "id": "55684297-d0f1-484a-8fe1-fa0a4fb7f1e7",
   "metadata": {},
   "source": [
    "Positive $S_{xy}$ value indicates a positive linear association between x and y, that is, as the value of x increases, the value of y also increases. In this case, we can see in the figure below that the points that have the greatest influence on $S_{xy}$ must be in quadrants I and III.\n",
    "\n",
    "If the value of $S_{xy}$ is negative, we have an indication of a negative linear association between x and y, that is, as x increases, the value of y decreases. In this case, we can see in the figure below that the points that have the greatest influence on $S_{xy}$ must be in quadrants II and IV.\n",
    "\n",
    "Finally, if the points are uniformly distributed across the quadrants, the value of $S_{xy}$ will approach zero, indicating that there is no linear association between x and y.\n",
    "\n",
    "<img src=\"https://caelum-online-public.s3.amazonaws.com/1273-estatistica-parte4/01/img026.png\" width=50%>"
   ]
  },
  {
   "cell_type": "markdown",
   "id": "8000346f-950a-431f-b33c-653e7a87cd1b",
   "metadata": {},
   "source": [
    "### Checking the existence of a negative linear association"
   ]
  },
  {
   "cell_type": "code",
   "execution_count": 21,
   "id": "cfd762be-8bed-40f6-b04a-14bb99b57440",
   "metadata": {},
   "outputs": [
    {
     "data": {
      "image/png": "[encoded data removed]",
      "text/plain": [
       "plot without title"
      ]
     },
     "metadata": {
      "image/png": {
       "height": 360,
       "width": 720
      }
     },
     "output_type": "display_data"
    }
   ],
   "source": [
    "graphic <- sample[, c('Income', 'Age')]\n",
    "\n",
    "ggplot(data = graphic, aes(x = Income, y = Age)) +\n",
    "    geom_point(size = 2, stroke = 0) +\n",
    "    geom_hline(yintercept = mean(sample$Age), color = 'black') +\n",
    "    geom_vline(xintercept = mean(sample$Income), color = 'black')"
   ]
  },
  {
   "cell_type": "markdown",
   "id": "cdbba1f0-e218-4bd7-8722-3292b54fcaaf",
   "metadata": {},
   "source": [
    "### Checking the existence of a positive linear association"
   ]
  },
  {
   "cell_type": "code",
   "execution_count": 22,
   "id": "8400831e-5a10-4364-ad6c-7f1e268f1b5b",
   "metadata": {},
   "outputs": [
    {
     "data": {
      "image/png": "[encoded data removed]",
      "text/plain": [
       "plot without title"
      ]
     },
     "metadata": {
      "image/png": {
       "height": 360,
       "width": 720
      }
     },
     "output_type": "display_data"
    }
   ],
   "source": [
    "graphic <- sample[, c('Income', 'Years.Of.Study')]\n",
    "\n",
    "ggplot(data = graphic, aes(x = Income, y = Years.Of.Study)) +\n",
    "    geom_point(size = 2, stroke = 0) +\n",
    "    geom_hline(yintercept = mean(sample$Years.Of.Study), color = 'black') +\n",
    "    geom_vline(xintercept = mean(sample$Income), color = 'black')"
   ]
  },
  {
   "cell_type": "markdown",
   "id": "b1ed9815-21b0-4fda-9336-36586ba6d55c",
   "metadata": {},
   "source": [
    "### Checking the non-existence of a linear association between the variables"
   ]
  },
  {
   "cell_type": "code",
   "execution_count": 23,
   "id": "f5931796-2d11-44d3-9044-9dcfae0a8028",
   "metadata": {},
   "outputs": [
    {
     "data": {
      "image/png": "[encoded data removed]",
      "text/plain": [
       "plot without title"
      ]
     },
     "metadata": {
      "image/png": {
       "height": 360,
       "width": 720
      }
     },
     "output_type": "display_data"
    }
   ],
   "source": [
    "graphic <- sample[, c('Income', 'Height')]\n",
    "\n",
    "ggplot(data = graphic, aes(x = Income, y = Height)) +\n",
    "    geom_point(size = 2, stroke = 0) +\n",
    "    geom_hline(yintercept = mean(sample$Height), color = 'black') +\n",
    "    geom_vline(xintercept = mean(sample$Income), color = 'black')"
   ]
  },
  {
   "cell_type": "markdown",
   "id": "596e5a36-9e79-4074-8026-f10bafb36e11",
   "metadata": {},
   "source": [
    "### <font color='red'>Important Note:</font>\n",
    "> From what has been presented, it may seem that high values, both positive and negative, for covariance indicate strong linear relationships between the variables involved. However, a problem when using covariance as a measure of the strength of the linear relationship is that the value of the covariance depends on the units of measurement for x and y.\n",
    ">\n",
    "> A measure of the relationship between two variables that is not affected by the units of measurement for x and y is the correlation coefficient that we will see in the next topic."
   ]
  },
  {
   "cell_type": "markdown",
   "id": "f2b98cf7-6046-48c3-8783-3bfd387b2a0e",
   "metadata": {},
   "source": [
    "***\n",
    "## <font color='lightgreen'>Pearson Correlation Coefficient<font>\n",
    "***"
   ]
  },
  {
   "cell_type": "markdown",
   "id": "a5117d8a-079e-48b8-8c7f-ba566b4c8a6f",
   "metadata": {},
   "source": [
    "It is obtained by dividing the covariance of the population or sample by the product of the population or sample standard deviation of x by the population or sample standard deviation of y.\n",
    "\n",
    "The correlation coefficient ranges from -1 to +1. Values approaching -1 or +1 indicate a strong linear relationship. The closer the correlation is to zero, the weaker the relationship.\n",
    "\n",
    "An important point is that the correlation coefficient is a measure of linear association and not necessarily causation. A high correlation between two variables does not necessarily mean that variations in one of them will cause changes in the other."
   ]
  },
  {
   "cell_type": "markdown",
   "id": "924acc3d-3b68-46f3-ac83-50dd17c1e318",
   "metadata": {},
   "source": [
    "### Pearson correlation coefficient - population data\n",
    "\n",
    "# $$\\rho_{xy} = \\frac{\\sigma_{xy}}{\\sigma_{x}\\sigma_{y}}$$\n",
    "\n",
    "### Pearson correlation coefficient - sample data\n",
    "\n",
    "# $$r_{xy} = \\frac{s_{xy}}{s_{x}s_{y}}$$\n",
    "\n",
    "Where\n",
    "\n",
    "$\\sigma_{xy}$ = population covariance between x and y\n",
    "\n",
    "$s_{xy}$ = sample covariance between x and y\n",
    "\n",
    "$\\sigma_{x}$ e $\\sigma_{y}$ = population standard deviations of x and y, respectively\n",
    "\n",
    "$s_{x}$ e $s_{y}$ = sample standard deviations of x and y, respectively"
   ]
  },
  {
   "cell_type": "markdown",
   "id": "6b945ff2-54cf-4422-8031-cbb9ca946a6a",
   "metadata": {},
   "source": [
    "### Getting $s_{xy}$"
   ]
  },
  {
   "cell_type": "code",
   "execution_count": 24,
   "id": "03e4a77c-4cf1-4aa9-8241-315bb66d7d1b",
   "metadata": {},
   "outputs": [
    {
     "data": {
      "text/html": [
       "<table class=\"dataframe\">\n",
       "<caption>A matrix: 2 × 2 of type dbl</caption>\n",
       "<thead>\n",
       "\t<tr><th></th><th scope=col>Height</th><th scope=col>Income</th></tr>\n",
       "</thead>\n",
       "<tbody>\n",
       "\t<tr><th scope=row>Height</th><td> 0.003353907</td><td>    -7.13963</td></tr>\n",
       "\t<tr><th scope=row>Income</th><td>-7.139630000</td><td>764668.32632</td></tr>\n",
       "</tbody>\n",
       "</table>\n"
      ],
      "text/latex": [
       "A matrix: 2 × 2 of type dbl\n",
       "\\begin{tabular}{r|ll}\n",
       "  & Height & Income\\\\\n",
       "\\hline\n",
       "\tHeight &  0.003353907 &     -7.13963\\\\\n",
       "\tIncome & -7.139630000 & 764668.32632\\\\\n",
       "\\end{tabular}\n"
      ],
      "text/markdown": [
       "\n",
       "A matrix: 2 × 2 of type dbl\n",
       "\n",
       "| <!--/--> | Height | Income |\n",
       "|---|---|---|\n",
       "| Height |  0.003353907 |     -7.13963 |\n",
       "| Income | -7.139630000 | 764668.32632 |\n",
       "\n"
      ],
      "text/plain": [
       "       Height       Income      \n",
       "Height  0.003353907     -7.13963\n",
       "Income -7.139630000 764668.32632"
      ]
     },
     "metadata": {},
     "output_type": "display_data"
    }
   ],
   "source": [
    "s_xy <-cov(sample[c('Height', 'Income')])\n",
    "s_xy"
   ]
  },
  {
   "cell_type": "code",
   "execution_count": 25,
   "id": "eeac0157-21e1-4997-8372-d831367d2db0",
   "metadata": {},
   "outputs": [
    {
     "data": {
      "text/html": [
       "-7.13963000000001"
      ],
      "text/latex": [
       "-7.13963000000001"
      ],
      "text/markdown": [
       "-7.13963000000001"
      ],
      "text/plain": [
       "[1] -7.13963"
      ]
     },
     "metadata": {},
     "output_type": "display_data"
    }
   ],
   "source": [
    "s_xy <- s_xy['Height', 'Income']\n",
    "s_xy"
   ]
  },
  {
   "cell_type": "markdown",
   "id": "b91b68e2-3c43-4444-8555-0bbcca888555",
   "metadata": {},
   "source": [
    "### Getting $s_x$ e $s_y$"
   ]
  },
  {
   "cell_type": "code",
   "execution_count": 26,
   "id": "14c9853b-5bf5-4708-a0a6-923cb2ab601b",
   "metadata": {},
   "outputs": [
    {
     "data": {
      "text/html": [
       "0.0579129244278812"
      ],
      "text/latex": [
       "0.0579129244278812"
      ],
      "text/markdown": [
       "0.0579129244278812"
      ],
      "text/plain": [
       "[1] 0.05791292"
      ]
     },
     "metadata": {},
     "output_type": "display_data"
    },
    {
     "data": {
      "text/html": [
       "874.453158445774"
      ],
      "text/latex": [
       "874.453158445774"
      ],
      "text/markdown": [
       "874.453158445774"
      ],
      "text/plain": [
       "[1] 874.4532"
      ]
     },
     "metadata": {},
     "output_type": "display_data"
    }
   ],
   "source": [
    "s_x <- sd(sample$Height)\n",
    "s_y <- sd(sample$Income)\n",
    "s_x\n",
    "s_y"
   ]
  },
  {
   "cell_type": "markdown",
   "id": "71248f2d-3c53-44ec-b204-23c5471bd7bc",
   "metadata": {},
   "source": [
    "### Obtaining the Correlation Coeficcient$r_{xy}$"
   ]
  },
  {
   "cell_type": "code",
   "execution_count": 27,
   "id": "58dded01-fbf2-4e16-b330-9c20208e2774",
   "metadata": {},
   "outputs": [
    {
     "data": {
      "text/html": [
       "-0.140981997305062"
      ],
      "text/latex": [
       "-0.140981997305062"
      ],
      "text/markdown": [
       "-0.140981997305062"
      ],
      "text/plain": [
       "[1] -0.140982"
      ]
     },
     "metadata": {},
     "output_type": "display_data"
    }
   ],
   "source": [
    "r_xy <- s_xy / (s_y * s_x)\n",
    "r_xy"
   ]
  },
  {
   "cell_type": "markdown",
   "id": "b5b3c061-fe4d-4ec9-be47-0a45936cc4a3",
   "metadata": {},
   "source": [
    "### Obtaining a correlation matrix"
   ]
  },
  {
   "cell_type": "code",
   "execution_count": 28,
   "id": "ffd61924-53d5-4237-82d7-010a59c23d4a",
   "metadata": {},
   "outputs": [
    {
     "data": {
      "text/html": [
       "<table class=\"dataframe\">\n",
       "<caption>A matrix: 2 × 2 of type dbl</caption>\n",
       "<thead>\n",
       "\t<tr><th></th><th scope=col>Age</th><th scope=col>Income</th></tr>\n",
       "</thead>\n",
       "<tbody>\n",
       "\t<tr><th scope=row>Age</th><td> 1.0000000</td><td>-0.4880606</td></tr>\n",
       "\t<tr><th scope=row>Income</th><td>-0.4880606</td><td> 1.0000000</td></tr>\n",
       "</tbody>\n",
       "</table>\n"
      ],
      "text/latex": [
       "A matrix: 2 × 2 of type dbl\n",
       "\\begin{tabular}{r|ll}\n",
       "  & Age & Income\\\\\n",
       "\\hline\n",
       "\tAge &  1.0000000 & -0.4880606\\\\\n",
       "\tIncome & -0.4880606 &  1.0000000\\\\\n",
       "\\end{tabular}\n"
      ],
      "text/markdown": [
       "\n",
       "A matrix: 2 × 2 of type dbl\n",
       "\n",
       "| <!--/--> | Age | Income |\n",
       "|---|---|---|\n",
       "| Age |  1.0000000 | -0.4880606 |\n",
       "| Income | -0.4880606 |  1.0000000 |\n",
       "\n"
      ],
      "text/plain": [
       "       Age        Income    \n",
       "Age     1.0000000 -0.4880606\n",
       "Income -0.4880606  1.0000000"
      ]
     },
     "metadata": {},
     "output_type": "display_data"
    }
   ],
   "source": [
    "cor(sample[c('Age', 'Income')])"
   ]
  },
  {
   "cell_type": "code",
   "execution_count": 29,
   "id": "76644546-6ec9-4385-b439-de43dadf9e72",
   "metadata": {},
   "outputs": [
    {
     "data": {
      "text/html": [
       "<table class=\"dataframe\">\n",
       "<caption>A matrix: 2 × 2 of type dbl</caption>\n",
       "<thead>\n",
       "\t<tr><th></th><th scope=col>X</th><th scope=col>Y</th></tr>\n",
       "</thead>\n",
       "<tbody>\n",
       "\t<tr><th scope=row>X</th><td>1.0000000</td><td>0.9848352</td></tr>\n",
       "\t<tr><th scope=row>Y</th><td>0.9848352</td><td>1.0000000</td></tr>\n",
       "</tbody>\n",
       "</table>\n"
      ],
      "text/latex": [
       "A matrix: 2 × 2 of type dbl\n",
       "\\begin{tabular}{r|ll}\n",
       "  & X & Y\\\\\n",
       "\\hline\n",
       "\tX & 1.0000000 & 0.9848352\\\\\n",
       "\tY & 0.9848352 & 1.0000000\\\\\n",
       "\\end{tabular}\n"
      ],
      "text/markdown": [
       "\n",
       "A matrix: 2 × 2 of type dbl\n",
       "\n",
       "| <!--/--> | X | Y |\n",
       "|---|---|---|\n",
       "| X | 1.0000000 | 0.9848352 |\n",
       "| Y | 0.9848352 | 1.0000000 |\n",
       "\n"
      ],
      "text/plain": [
       "  X         Y        \n",
       "X 1.0000000 0.9848352\n",
       "Y 0.9848352 1.0000000"
      ]
     },
     "metadata": {},
     "output_type": "display_data"
    }
   ],
   "source": [
    "cor(dataset_regression[c('X', 'Y')])"
   ]
  },
  {
   "cell_type": "code",
   "execution_count": 30,
   "id": "63b5bea9-f904-4c16-a8bb-c9d2641a5229",
   "metadata": {},
   "outputs": [
    {
     "data": {
      "image/png": "[encoded data removed]",
      "text/plain": [
       "plot without title"
      ]
     },
     "metadata": {
      "image/png": {
       "height": 360,
       "width": 720
      }
     },
     "output_type": "display_data"
    }
   ],
   "source": [
    "graphic <- sample[, c('Income', 'Height')]\n",
    "\n",
    "ggplot(data = graphic, aes(x = Income, y = Height)) +\n",
    "    geom_point(size = 2, stroke = 0)+\n",
    "    geom_hline(yintercept = mean(sample$Height), color = 'black') +\n",
    "    geom_vline(xintercept = mean(sample$Income), color = 'black')"
   ]
  },
  {
   "cell_type": "code",
   "execution_count": 31,
   "id": "924af257-f206-4820-a726-9d363821bb5f",
   "metadata": {},
   "outputs": [
    {
     "data": {
      "image/png": "[encoded data removed]",
      "text/plain": [
       "plot without title"
      ]
     },
     "metadata": {
      "image/png": {
       "height": 360,
       "width": 720
      }
     },
     "output_type": "display_data"
    }
   ],
   "source": [
    "ggplot(data = dataset_regression, aes(x = X, y = Y)) +\n",
    "    geom_point(size = 2, stroke = 0) +\n",
    "    geom_hline(yintercept = mean(dataset_regression$Y), color = 'black') +\n",
    "    geom_vline(xintercept = mean(dataset_regression$X), color = 'black')"
   ]
  },
  {
   "cell_type": "markdown",
   "id": "23e3d6ac-68aa-4353-a919-9efee72ccd82",
   "metadata": {},
   "source": [
    "***\n",
    "## <font color = 'lightgreen'>Linear Regression </font>\n",
    "***"
   ]
  },
  {
   "cell_type": "markdown",
   "id": "c19fc8ec-af16-4bfd-8088-4603b5303147",
   "metadata": {},
   "source": [
    "Regression analysis concerns the study of the dependence of a variable (the dependent variable) in relation to one or more variables, the explanatory or independent variables, aiming to estimate and/or predict the average value of the first in terms of known or fixed values of the second ones.\n",
    "\n",
    "#### Terminology\n",
    "\n",
    "> The variable that is predicted is known as the dependent variable (*Y*).\n",
    "\n",
    "> The variable used to predict the value of the dependent variable is known as the independent variable (*X*).\n",
    "\n",
    "In our training we will cover the simplest type of regression analysis that considers one dependent variable and only one independent variable where the relationship between the variables approaches a straight line."
   ]
  },
  {
   "cell_type": "markdown",
   "id": "a54e996b-4934-4053-a91a-900dc7ff688c",
   "metadata": {},
   "source": [
    "***\n",
    "## <font color = 'lightgreen'> Simple Linear Regression</font>\n",
    "***"
   ]
  },
  {
   "cell_type": "markdown",
   "id": "6c8ffde2-ff68-4a9d-b8a3-b9179b3e6fe8",
   "metadata": {},
   "source": [
    "### Consumption function\n",
    "\n",
    "A famous economist from the past concluded in one of his studies that individuals tend to increase their consumption as their income increases. Logically, this theory gained a little more complexity, but we will use its simplest form to understand the regression analysis procedure with the following formulation:\n",
    "\n",
    "# $$Y_i = \\beta_1 + \\beta_2X_i$$\n",
    "\n",
    "Where\n",
    "\n",
    "- $Y_i$ is household spending or household consumption\n",
    "\n",
    "- $X_i$ is the disposable income\n",
    "\n",
    "- $\\beta_1$ is known as the intercept (in the theoretical model above it is known as autonomous consumption, that is, consumption when income is zero)\n",
    "\n",
    "- $\\beta_2$ is the angular coefficient (in the theoretical model it is the marginal propensity to consume)\n",
    "\n",
    "In a simple linear regression analysis, the interest is in estimating the population regression function as presented above, that is, estimating the values of the parameters $\\beta_1$ and $\\beta_2$ based on the observations of $Y$ and $ X$."
   ]
  },
  {
   "cell_type": "markdown",
   "id": "dbb636f9-e4b3-4b57-b2bd-29f00a4a6e2f",
   "metadata": {},
   "source": [
    "### Loading Dataset"
   ]
  },
  {
   "cell_type": "code",
   "execution_count": 32,
   "id": "20de05ea-9608-4af8-8206-4ffb6bfba883",
   "metadata": {},
   "outputs": [],
   "source": [
    "dataset_regression <- data.frame(\n",
    "    Y = c(3011, 1305, 1879, 2654, 2849, 1068, 2892, 2543, 3074, 849, 2184, 2943, 1357, 2755, 2163, 3099, 1600, 353, 1778, 740, 2129, 3302, 2412, 2683, 2515, 2395, 2292, 1000, 600, 1864, 3027, 1978, 2791, 1982, 900, 1964, 1247, 3067, 700, 1500, 3110, 2644, 1378, 2601, 501, 1292, 2125, 1431, 2260, 1770),\n",
    "    X = c(9714, 3728, 6062, 8845, 8378, 3338, 8507, 7947, 9915, 1632, 6825, 8918, 4100, 9184, 6180, 9997, 4500, 1069, 5925, 2466, 6083, 9712, 7780, 8383, 7185, 7483, 7640, 2100, 2000, 6012, 8902, 5345, 8210, 5662, 2700, 6546, 2900, 9894, 1500, 5000, 8885, 8813, 3446, 7881, 1164, 3401, 6641, 3329, 6648, 4800)\n",
    ")"
   ]
  },
  {
   "cell_type": "code",
   "execution_count": 33,
   "id": "e3913c2a-d70e-4a0b-8bd3-7fe4fba3c77a",
   "metadata": {},
   "outputs": [
    {
     "data": {
      "text/html": [
       "<table class=\"dataframe\">\n",
       "<caption>A data.frame: 6 × 2</caption>\n",
       "<thead>\n",
       "\t<tr><th></th><th scope=col>Y</th><th scope=col>X</th></tr>\n",
       "\t<tr><th></th><th scope=col>&lt;dbl&gt;</th><th scope=col>&lt;dbl&gt;</th></tr>\n",
       "</thead>\n",
       "<tbody>\n",
       "\t<tr><th scope=row>1</th><td>3011</td><td>9714</td></tr>\n",
       "\t<tr><th scope=row>2</th><td>1305</td><td>3728</td></tr>\n",
       "\t<tr><th scope=row>3</th><td>1879</td><td>6062</td></tr>\n",
       "\t<tr><th scope=row>4</th><td>2654</td><td>8845</td></tr>\n",
       "\t<tr><th scope=row>5</th><td>2849</td><td>8378</td></tr>\n",
       "\t<tr><th scope=row>6</th><td>1068</td><td>3338</td></tr>\n",
       "</tbody>\n",
       "</table>\n"
      ],
      "text/latex": [
       "A data.frame: 6 × 2\n",
       "\\begin{tabular}{r|ll}\n",
       "  & Y & X\\\\\n",
       "  & <dbl> & <dbl>\\\\\n",
       "\\hline\n",
       "\t1 & 3011 & 9714\\\\\n",
       "\t2 & 1305 & 3728\\\\\n",
       "\t3 & 1879 & 6062\\\\\n",
       "\t4 & 2654 & 8845\\\\\n",
       "\t5 & 2849 & 8378\\\\\n",
       "\t6 & 1068 & 3338\\\\\n",
       "\\end{tabular}\n"
      ],
      "text/markdown": [
       "\n",
       "A data.frame: 6 × 2\n",
       "\n",
       "| <!--/--> | Y &lt;dbl&gt; | X &lt;dbl&gt; |\n",
       "|---|---|---|\n",
       "| 1 | 3011 | 9714 |\n",
       "| 2 | 1305 | 3728 |\n",
       "| 3 | 1879 | 6062 |\n",
       "| 4 | 2654 | 8845 |\n",
       "| 5 | 2849 | 8378 |\n",
       "| 6 | 1068 | 3338 |\n",
       "\n"
      ],
      "text/plain": [
       "  Y    X   \n",
       "1 3011 9714\n",
       "2 1305 3728\n",
       "3 1879 6062\n",
       "4 2654 8845\n",
       "5 2849 8378\n",
       "6 1068 3338"
      ]
     },
     "metadata": {},
     "output_type": "display_data"
    }
   ],
   "source": [
    "head(dataset_regression)"
   ]
  },
  {
   "cell_type": "markdown",
   "id": "2043cd0f-fc78-44f3-89f1-6c4ff773c44e",
   "metadata": {},
   "source": [
    "### Identifying the relationship between variables\n",
    "\n",
    "Plotting the regression line between two variables together with the dispersion between them."
   ]
  },
  {
   "cell_type": "code",
   "execution_count": 34,
   "id": "77ffc1b9-e890-4baf-90b7-7fcdf84316a3",
   "metadata": {},
   "outputs": [
    {
     "data": {
      "image/png": "[encoded data removed]",
      "text/plain": [
       "plot without title"
      ]
     },
     "metadata": {
      "image/png": {
       "height": 360,
       "width": 720
      }
     },
     "output_type": "display_data"
    }
   ],
   "source": [
    "ggplot(data = dataset_regression, aes(x = X, y = Y)) +\n",
    "    geom_point(size = 2, stroke = 0) +\n",
    "    geom_smooth(method = lm, formula = y ~ x) +\n",
    "    xlab('Icome Family') +\n",
    "    ylab('Expenses Family') + \n",
    "    ggtitle('Linear Regression Income X Expenses') +\n",
    "    config_graphic"
   ]
  },
  {
   "cell_type": "markdown",
   "id": "7f816dd9-4d17-49ec-8603-b4d38fa08622",
   "metadata": {},
   "source": [
    "### Correlation Matrix "
   ]
  },
  {
   "cell_type": "code",
   "execution_count": 35,
   "id": "03e5ac00-b00a-414e-922d-870308977408",
   "metadata": {},
   "outputs": [
    {
     "data": {
      "text/html": [
       "<table class=\"dataframe\">\n",
       "<caption>A matrix: 2 × 2 of type dbl</caption>\n",
       "<thead>\n",
       "\t<tr><th></th><th scope=col>Y</th><th scope=col>X</th></tr>\n",
       "</thead>\n",
       "<tbody>\n",
       "\t<tr><th scope=row>Y</th><td>1.0000000</td><td>0.9848352</td></tr>\n",
       "\t<tr><th scope=row>X</th><td>0.9848352</td><td>1.0000000</td></tr>\n",
       "</tbody>\n",
       "</table>\n"
      ],
      "text/latex": [
       "A matrix: 2 × 2 of type dbl\n",
       "\\begin{tabular}{r|ll}\n",
       "  & Y & X\\\\\n",
       "\\hline\n",
       "\tY & 1.0000000 & 0.9848352\\\\\n",
       "\tX & 0.9848352 & 1.0000000\\\\\n",
       "\\end{tabular}\n"
      ],
      "text/markdown": [
       "\n",
       "A matrix: 2 × 2 of type dbl\n",
       "\n",
       "| <!--/--> | Y | X |\n",
       "|---|---|---|\n",
       "| Y | 1.0000000 | 0.9848352 |\n",
       "| X | 0.9848352 | 1.0000000 |\n",
       "\n"
      ],
      "text/plain": [
       "  Y         X        \n",
       "Y 1.0000000 0.9848352\n",
       "X 0.9848352 1.0000000"
      ]
     },
     "metadata": {},
     "output_type": "display_data"
    }
   ],
   "source": [
    "cor(dataset_regression)"
   ]
  },
  {
   "cell_type": "markdown",
   "id": "4c04a298-129a-4be4-840e-2882db298fcc",
   "metadata": {},
   "source": [
    "### Population regression function\n",
    "\n",
    "The equation formulated above is known as **population regression function (FRP)** and in some books it is also represented as follows:\n",
    "\n",
    "# $$E(Y|X_i) = \\beta_1 + \\beta_2X_i$$\n",
    "\n",
    "It states that the expected value of the distribution of $Y$, given $X_i$, has a functional relationship with $X_i$, that is, the average response of $Y$ varies with $X$. The coefficients $\\beta_1$ and $\\beta_2$ are known as regression coefficients and also as intercept and angular coefficient, respectively.\n",
    "\n",
    "<img src=\"https://caelum-online-public.s3.amazonaws.com/1273-estatistica-parte4/01/img027.png\" width=50%>\n",
    "\n",
    "The scatterplot below makes it clear that as family income increases, on average, family consumption expenditures increase, but not at the same level. What we can say is that for an income level $X_i$ the average consumption expenditure of a\n",
    "family cluster around the average consumption of all families at this level $X_i$, that is, around their conditional expectation $E(Y|X_i)$. Therefore, we can express the individual deviation of $Y_i$ around its expected value as follows:\n",
    "\n",
    "# $$u_i = Y_i - E(Y|X_i)$$\n",
    "\n",
    "or\n",
    "\n",
    "# $$Y_i = E(Y|X_i) + u_i$$\n",
    "\n",
    "where the deviation $u_i$ is an unobservable random variable that takes on positive or negative values. This variable is also known as the stochastic error term.\n",
    "\n",
    "Note that from the above elaboration we can represent the FRP in its stochastic form as follows:\n",
    "\n",
    "# $$Y_i = \\beta_1 + \\beta_2X_i + u_i$$"
   ]
  },
  {
   "cell_type": "markdown",
   "id": "d5c67a55-1cdb-421b-8e35-a401cf02a31c",
   "metadata": {},
   "source": [
    "***\n",
    "## <font color = 'lightgreen'>The Least Squares Method</font>\n",
    "***"
   ]
  },
  {
   "cell_type": "markdown",
   "id": "a0a05994-45ba-4f51-ae4c-596674affa7e",
   "metadata": {},
   "source": [
    "***\n",
    "## <font color = 'lightgreen'>Ordinary Least Squares Estimators</font>\n",
    "***"
   ]
  },
  {
   "cell_type": "markdown",
   "id": "a25e7337-4faa-4566-b459-6374378717ae",
   "metadata": {},
   "source": [
    "### Get $n$"
   ]
  },
  {
   "cell_type": "code",
   "execution_count": 36,
   "id": "c3507394-b09d-49e6-8377-21910b7ede13",
   "metadata": {},
   "outputs": [
    {
     "data": {
      "text/html": [
       "50"
      ],
      "text/latex": [
       "50"
      ],
      "text/markdown": [
       "50"
      ],
      "text/plain": [
       "[1] 50"
      ]
     },
     "metadata": {},
     "output_type": "display_data"
    }
   ],
   "source": [
    "n  <- nrow(dataset_regression)\n",
    "n"
   ]
  },
  {
   "cell_type": "markdown",
   "id": "85cf4334-1b92-4cea-8f6c-5dc6afdb220e",
   "metadata": {},
   "source": [
    "### Get $\\sum{Y}$"
   ]
  },
  {
   "cell_type": "code",
   "execution_count": 37,
   "id": "662a43ad-0245-4b23-b321-f950606c71cd",
   "metadata": {},
   "outputs": [
    {
     "data": {
      "text/html": [
       "100556"
      ],
      "text/latex": [
       "100556"
      ],
      "text/markdown": [
       "100556"
      ],
      "text/plain": [
       "[1] 100556"
      ]
     },
     "metadata": {},
     "output_type": "display_data"
    }
   ],
   "source": [
    "SUM_Y <- sum(dataset_regression$Y) \n",
    "SUM_Y"
   ]
  },
  {
   "cell_type": "markdown",
   "id": "e8fe3a7b-25f1-43b0-bf61-a514202b9787",
   "metadata": {},
   "source": [
    "### Get $\\sum{X}$"
   ]
  },
  {
   "cell_type": "code",
   "execution_count": 38,
   "id": "f812aef0-9213-4ced-8173-f9375aa9a1a0",
   "metadata": {},
   "outputs": [
    {
     "data": {
      "text/html": [
       "303275"
      ],
      "text/latex": [
       "303275"
      ],
      "text/markdown": [
       "303275"
      ],
      "text/plain": [
       "[1] 303275"
      ]
     },
     "metadata": {},
     "output_type": "display_data"
    }
   ],
   "source": [
    "SUM_X <- sum(dataset_regression$X)\n",
    "SUM_X"
   ]
  },
  {
   "cell_type": "markdown",
   "id": "1d22b3e7-b96a-47cf-9168-a20a282e20a8",
   "metadata": {},
   "source": [
    "### Get $\\sum{X^2}$"
   ]
  },
  {
   "cell_type": "code",
   "execution_count": 39,
   "id": "a396200f-8253-4855-b4d8-6a83bc2bead6",
   "metadata": {},
   "outputs": [
    {
     "data": {
      "text/html": [
       "2198628939"
      ],
      "text/latex": [
       "2198628939"
      ],
      "text/markdown": [
       "2198628939"
      ],
      "text/plain": [
       "[1] 2198628939"
      ]
     },
     "metadata": {},
     "output_type": "display_data"
    }
   ],
   "source": [
    "SUM_X2 <- sum(apply(dataset_regression, 1, function(x) x['X'] ** 2))\n",
    "SUM_X2"
   ]
  },
  {
   "cell_type": "markdown",
   "id": "871e575d-1886-4329-8d05-58623671e04b",
   "metadata": {},
   "source": [
    "### Get $\\sum{Y^2}$"
   ]
  },
  {
   "cell_type": "code",
   "execution_count": 40,
   "id": "77c64e3d-92e2-42af-9976-cca1ae5ad3c2",
   "metadata": {},
   "outputs": [
    {
     "data": {
      "text/html": [
       "234954332"
      ],
      "text/latex": [
       "234954332"
      ],
      "text/markdown": [
       "234954332"
      ],
      "text/plain": [
       "[1] 234954332"
      ]
     },
     "metadata": {},
     "output_type": "display_data"
    }
   ],
   "source": [
    "SUM_Y2 <- sum(apply(dataset_regression, 1, function(x) x['Y'] ** 2))\n",
    "SUM_Y2"
   ]
  },
  {
   "cell_type": "markdown",
   "id": "055533ec-4a99-445b-aa97-14b2a6ba3869",
   "metadata": {},
   "source": [
    "### Get $\\sum{XY}$"
   ]
  },
  {
   "cell_type": "code",
   "execution_count": 41,
   "id": "bb419a43-a4ba-4b67-b0da-5a116f142ba8",
   "metadata": {},
   "outputs": [
    {
     "data": {
      "text/html": [
       "716683794"
      ],
      "text/latex": [
       "716683794"
      ],
      "text/markdown": [
       "716683794"
      ],
      "text/plain": [
       "[1] 716683794"
      ]
     },
     "metadata": {},
     "output_type": "display_data"
    }
   ],
   "source": [
    "SUM_XY <- sum(apply(dataset_regression, 1, function(x) x['X'] * x['Y']))\n",
    "SUM_XY"
   ]
  },
  {
   "cell_type": "markdown",
   "id": "6d5ae127-c5c1-4c41-8ab3-050d18f2ee08",
   "metadata": {},
   "source": [
    "### Get $\\hat{\\beta}_2$\n",
    "\n",
    "# $$\\hat{\\beta}_2 = \\frac{n\\sum{X_iY_i} - \\sum{X_i}\\sum{Y_i}}{n\\sum{X_i^2} - (\\sum{X_i})^2}$$"
   ]
  },
  {
   "cell_type": "code",
   "execution_count": 42,
   "id": "adda1dab-6701-4607-b4fe-d5980ae82b97",
   "metadata": {},
   "outputs": [
    {
     "data": {
      "text/html": [
       "0.297290690993724"
      ],
      "text/latex": [
       "0.297290690993724"
      ],
      "text/markdown": [
       "0.297290690993724"
      ],
      "text/plain": [
       "[1] 0.2972907"
      ]
     },
     "metadata": {},
     "output_type": "display_data"
    }
   ],
   "source": [
    "beta_2 <- (n * SUM_XY - SUM_X * SUM_Y) / (n * SUM_X2 - (SUM_X ** 2))\n",
    "beta_2"
   ]
  },
  {
   "cell_type": "markdown",
   "id": "251e1ce5-4820-4110-9446-2787b2acfd2a",
   "metadata": {},
   "source": [
    "### Get $\\hat{\\beta}_1$\n",
    "\n",
    "# $$\n",
    "\\begin{eqnarray}\n",
    "\\hat{\\beta}_1 &=& \\frac{\\sum{X_i^2}\\sum{Y_i} - \\sum{X_i}\\sum{X_iY_i}}{n\\sum{X_i^2} - (\\sum{X_i})^2}\\\\\n",
    "&=& \\bar{Y} - \\hat{\\beta}_2\\bar{X}\n",
    "\\end{eqnarray}\n",
    "$$ "
   ]
  },
  {
   "cell_type": "code",
   "execution_count": 43,
   "id": "91f0043c-54c6-485c-93f2-76213706c0bf",
   "metadata": {},
   "outputs": [
    {
     "data": {
      "text/html": [
       "207.903313777565"
      ],
      "text/latex": [
       "207.903313777565"
      ],
      "text/markdown": [
       "207.903313777565"
      ],
      "text/plain": [
       "[1] 207.9033"
      ]
     },
     "metadata": {},
     "output_type": "display_data"
    }
   ],
   "source": [
    "beta_1 <- mean(dataset_regression$Y) - beta_2 * mean(dataset_regression$X)\n",
    "beta_1"
   ]
  },
  {
   "cell_type": "markdown",
   "id": "52c32d9a-f112-4807-a76c-444da6ace970",
   "metadata": {},
   "source": [
    "### Getting The Parameter Estimate"
   ]
  },
  {
   "cell_type": "code",
   "execution_count": 44,
   "id": "337d494c-690a-4d94-86df-d22a6225e6b8",
   "metadata": {},
   "outputs": [
    {
     "data": {
      "text/plain": [
       "\n",
       "Call:\n",
       "lm(formula = Y ~ X, data = dataset_regression)\n",
       "\n",
       "Coefficients:\n",
       "(Intercept)            X  \n",
       "   207.9033       0.2973  \n"
      ]
     },
     "metadata": {},
     "output_type": "display_data"
    }
   ],
   "source": [
    "regression_result <- lm(formula = Y ~ X, data = dataset_regression)\n",
    "regression_result"
   ]
  },
  {
   "cell_type": "markdown",
   "id": "3dd72878-3fb9-41d0-957d-27e8571490d0",
   "metadata": {},
   "source": [
    "### Viewing the estimated parameters"
   ]
  },
  {
   "cell_type": "code",
   "execution_count": 45,
   "id": "2f4e2929-d896-494e-a137-8a2d2669ac50",
   "metadata": {},
   "outputs": [
    {
     "data": {
      "text/html": [
       "207.903313777565"
      ],
      "text/latex": [
       "207.903313777565"
      ],
      "text/markdown": [
       "207.903313777565"
      ],
      "text/plain": [
       "[1] 207.9033"
      ]
     },
     "metadata": {},
     "output_type": "display_data"
    },
    {
     "data": {
      "text/html": [
       "0.297290690993724"
      ],
      "text/latex": [
       "0.297290690993724"
      ],
      "text/markdown": [
       "0.297290690993724"
      ],
      "text/plain": [
       "[1] 0.2972907"
      ]
     },
     "metadata": {},
     "output_type": "display_data"
    }
   ],
   "source": [
    "beta_1\n",
    "beta_2"
   ]
  },
  {
   "cell_type": "code",
   "execution_count": 46,
   "id": "21a42aa8-e1bb-45ba-9ec8-d945279daab2",
   "metadata": {},
   "outputs": [
    {
     "data": {
      "text/html": [
       "<style>\n",
       ".dl-inline {width: auto; margin:0; padding: 0}\n",
       ".dl-inline>dt, .dl-inline>dd {float: none; width: auto; display: inline-block}\n",
       ".dl-inline>dt::after {content: \":\\0020\"; padding-right: .5ex}\n",
       ".dl-inline>dt:not(:first-of-type) {padding-left: .5ex}\n",
       "</style><dl class=dl-inline><dt>(Intercept)</dt><dd>207.903313777565</dd><dt>X</dt><dd>0.297290690993724</dd></dl>\n"
      ],
      "text/latex": [
       "\\begin{description*}\n",
       "\\item[(Intercept)] 207.903313777565\n",
       "\\item[X] 0.297290690993724\n",
       "\\end{description*}\n"
      ],
      "text/markdown": [
       "(Intercept)\n",
       ":   207.903313777565X\n",
       ":   0.297290690993724\n",
       "\n"
      ],
      "text/plain": [
       "(Intercept)           X \n",
       "207.9033138   0.2972907 "
      ]
     },
     "metadata": {},
     "output_type": "display_data"
    }
   ],
   "source": [
    "coefficients(regression_result)"
   ]
  },
  {
   "cell_type": "code",
   "execution_count": 47,
   "id": "c0056533-33c6-4ce4-9b80-1f78eecbdfef",
   "metadata": {},
   "outputs": [
    {
     "data": {
      "text/plain": [
       "\n",
       "Call:\n",
       "lm(formula = Y ~ X, data = dataset_regression)\n",
       "\n",
       "Residuals:\n",
       "    Min      1Q  Median      3Q     Max \n",
       "-202.49 -125.96  -22.28  140.53  260.67 \n",
       "\n",
       "Coefficients:\n",
       "             Estimate Std. Error t value Pr(>|t|)    \n",
       "(Intercept) 2.079e+02  5.013e+01   4.148 0.000136 ***\n",
       "X           2.973e-01  7.559e-03  39.328  < 2e-16 ***\n",
       "---\n",
       "Signif. codes:  0 ‘***’ 0.001 ‘**’ 0.01 ‘*’ 0.05 ‘.’ 0.1 ‘ ’ 1\n",
       "\n",
       "Residual standard error: 143.2 on 48 degrees of freedom\n",
       "Multiple R-squared:  0.9699,\tAdjusted R-squared:  0.9693 \n",
       "F-statistic:  1547 on 1 and 48 DF,  p-value: < 2.2e-16\n"
      ]
     },
     "metadata": {},
     "output_type": "display_data"
    }
   ],
   "source": [
    "summary <- summary(regression_result)\n",
    "summary"
   ]
  },
  {
   "cell_type": "code",
   "execution_count": 48,
   "id": "2bdc4d5b-4978-4875-ae68-ca5fe10b5448",
   "metadata": {},
   "outputs": [
    {
     "data": {
      "text/html": [
       "<table class=\"dataframe\">\n",
       "<caption>A matrix: 2 × 4 of type dbl</caption>\n",
       "<thead>\n",
       "\t<tr><th></th><th scope=col>Estimate</th><th scope=col>Std. Error</th><th scope=col>t value</th><th scope=col>Pr(&gt;|t|)</th></tr>\n",
       "</thead>\n",
       "<tbody>\n",
       "\t<tr><th scope=row>(Intercept)</th><td>207.9033138</td><td>50.126682183</td><td> 4.147558</td><td>1.362270e-04</td></tr>\n",
       "\t<tr><th scope=row>X</th><td>  0.2972907</td><td> 0.007559238</td><td>39.328132</td><td>3.555543e-38</td></tr>\n",
       "</tbody>\n",
       "</table>\n"
      ],
      "text/latex": [
       "A matrix: 2 × 4 of type dbl\n",
       "\\begin{tabular}{r|llll}\n",
       "  & Estimate & Std. Error & t value & Pr(>\\textbar{}t\\textbar{})\\\\\n",
       "\\hline\n",
       "\t(Intercept) & 207.9033138 & 50.126682183 &  4.147558 & 1.362270e-04\\\\\n",
       "\tX &   0.2972907 &  0.007559238 & 39.328132 & 3.555543e-38\\\\\n",
       "\\end{tabular}\n"
      ],
      "text/markdown": [
       "\n",
       "A matrix: 2 × 4 of type dbl\n",
       "\n",
       "| <!--/--> | Estimate | Std. Error | t value | Pr(&gt;|t|) |\n",
       "|---|---|---|---|---|\n",
       "| (Intercept) | 207.9033138 | 50.126682183 |  4.147558 | 1.362270e-04 |\n",
       "| X |   0.2972907 |  0.007559238 | 39.328132 | 3.555543e-38 |\n",
       "\n"
      ],
      "text/plain": [
       "            Estimate    Std. Error   t value   Pr(>|t|)    \n",
       "(Intercept) 207.9033138 50.126682183  4.147558 1.362270e-04\n",
       "X             0.2972907  0.007559238 39.328132 3.555543e-38"
      ]
     },
     "metadata": {},
     "output_type": "display_data"
    }
   ],
   "source": [
    "summary$coefficients"
   ]
  },
  {
   "cell_type": "markdown",
   "id": "5739c759-b3d6-4e00-b5bb-7d1c0c78e099",
   "metadata": {},
   "source": [
    "***\n",
    "## <font color = 'lightgreen'> Getting Predctions</font>\n",
    "***"
   ]
  },
  {
   "cell_type": "markdown",
   "id": "c07f7c58-858a-4e16-87d1-ea1012ab79fe",
   "metadata": {},
   "source": [
    "# $$\\hat{Y}_i = 207,9033 + 0,2973X_i$$"
   ]
  },
  {
   "cell_type": "markdown",
   "id": "8ee47fd4-03eb-46fe-a261-cdfed9dd1450",
   "metadata": {},
   "source": [
    "### In-sample predictions"
   ]
  },
  {
   "cell_type": "code",
   "execution_count": 49,
   "id": "2504f946-ab56-42f6-94d1-577b218ed932",
   "metadata": {},
   "outputs": [
    {
     "data": {
      "text/html": [
       "<table class=\"dataframe\">\n",
       "<caption>A data.frame: 6 × 3</caption>\n",
       "<thead>\n",
       "\t<tr><th></th><th scope=col>Y</th><th scope=col>X</th><th scope=col>Y_expected</th></tr>\n",
       "\t<tr><th></th><th scope=col>&lt;dbl&gt;</th><th scope=col>&lt;dbl&gt;</th><th scope=col>&lt;dbl&gt;</th></tr>\n",
       "</thead>\n",
       "<tbody>\n",
       "\t<tr><th scope=row>1</th><td>3011</td><td>9714</td><td>3095.785</td></tr>\n",
       "\t<tr><th scope=row>2</th><td>1305</td><td>3728</td><td>1316.203</td></tr>\n",
       "\t<tr><th scope=row>3</th><td>1879</td><td>6062</td><td>2010.079</td></tr>\n",
       "\t<tr><th scope=row>4</th><td>2654</td><td>8845</td><td>2837.439</td></tr>\n",
       "\t<tr><th scope=row>5</th><td>2849</td><td>8378</td><td>2698.605</td></tr>\n",
       "\t<tr><th scope=row>6</th><td>1068</td><td>3338</td><td>1200.260</td></tr>\n",
       "</tbody>\n",
       "</table>\n"
      ],
      "text/latex": [
       "A data.frame: 6 × 3\n",
       "\\begin{tabular}{r|lll}\n",
       "  & Y & X & Y\\_expected\\\\\n",
       "  & <dbl> & <dbl> & <dbl>\\\\\n",
       "\\hline\n",
       "\t1 & 3011 & 9714 & 3095.785\\\\\n",
       "\t2 & 1305 & 3728 & 1316.203\\\\\n",
       "\t3 & 1879 & 6062 & 2010.079\\\\\n",
       "\t4 & 2654 & 8845 & 2837.439\\\\\n",
       "\t5 & 2849 & 8378 & 2698.605\\\\\n",
       "\t6 & 1068 & 3338 & 1200.260\\\\\n",
       "\\end{tabular}\n"
      ],
      "text/markdown": [
       "\n",
       "A data.frame: 6 × 3\n",
       "\n",
       "| <!--/--> | Y &lt;dbl&gt; | X &lt;dbl&gt; | Y_expected &lt;dbl&gt; |\n",
       "|---|---|---|---|\n",
       "| 1 | 3011 | 9714 | 3095.785 |\n",
       "| 2 | 1305 | 3728 | 1316.203 |\n",
       "| 3 | 1879 | 6062 | 2010.079 |\n",
       "| 4 | 2654 | 8845 | 2837.439 |\n",
       "| 5 | 2849 | 8378 | 2698.605 |\n",
       "| 6 | 1068 | 3338 | 1200.260 |\n",
       "\n"
      ],
      "text/plain": [
       "  Y    X    Y_expected\n",
       "1 3011 9714 3095.785  \n",
       "2 1305 3728 1316.203  \n",
       "3 1879 6062 2010.079  \n",
       "4 2654 8845 2837.439  \n",
       "5 2849 8378 2698.605  \n",
       "6 1068 3338 1200.260  "
      ]
     },
     "metadata": {},
     "output_type": "display_data"
    }
   ],
   "source": [
    "dataset_regression['Y_expected'] <- beta_1 + beta_2 * dataset_regression$X\n",
    "head(dataset_regression)"
   ]
  },
  {
   "cell_type": "markdown",
   "id": "f9c0208c-579f-43ca-a97c-bce49a45d274",
   "metadata": {},
   "source": [
    "### Using the R function"
   ]
  },
  {
   "cell_type": "code",
   "execution_count": 50,
   "id": "aeb36ceb-4037-4eb1-9258-56b2c9a0e0d4",
   "metadata": {},
   "outputs": [
    {
     "data": {
      "text/html": [
       "<table class=\"dataframe\">\n",
       "<caption>A data.frame: 6 × 4</caption>\n",
       "<thead>\n",
       "\t<tr><th></th><th scope=col>Y</th><th scope=col>X</th><th scope=col>Y_expected</th><th scope=col>Y_expected_R</th></tr>\n",
       "\t<tr><th></th><th scope=col>&lt;dbl&gt;</th><th scope=col>&lt;dbl&gt;</th><th scope=col>&lt;dbl&gt;</th><th scope=col>&lt;dbl&gt;</th></tr>\n",
       "</thead>\n",
       "<tbody>\n",
       "\t<tr><th scope=row>1</th><td>3011</td><td>9714</td><td>3095.785</td><td>3095.785</td></tr>\n",
       "\t<tr><th scope=row>2</th><td>1305</td><td>3728</td><td>1316.203</td><td>1316.203</td></tr>\n",
       "\t<tr><th scope=row>3</th><td>1879</td><td>6062</td><td>2010.079</td><td>2010.079</td></tr>\n",
       "\t<tr><th scope=row>4</th><td>2654</td><td>8845</td><td>2837.439</td><td>2837.439</td></tr>\n",
       "\t<tr><th scope=row>5</th><td>2849</td><td>8378</td><td>2698.605</td><td>2698.605</td></tr>\n",
       "\t<tr><th scope=row>6</th><td>1068</td><td>3338</td><td>1200.260</td><td>1200.260</td></tr>\n",
       "</tbody>\n",
       "</table>\n"
      ],
      "text/latex": [
       "A data.frame: 6 × 4\n",
       "\\begin{tabular}{r|llll}\n",
       "  & Y & X & Y\\_expected & Y\\_expected\\_R\\\\\n",
       "  & <dbl> & <dbl> & <dbl> & <dbl>\\\\\n",
       "\\hline\n",
       "\t1 & 3011 & 9714 & 3095.785 & 3095.785\\\\\n",
       "\t2 & 1305 & 3728 & 1316.203 & 1316.203\\\\\n",
       "\t3 & 1879 & 6062 & 2010.079 & 2010.079\\\\\n",
       "\t4 & 2654 & 8845 & 2837.439 & 2837.439\\\\\n",
       "\t5 & 2849 & 8378 & 2698.605 & 2698.605\\\\\n",
       "\t6 & 1068 & 3338 & 1200.260 & 1200.260\\\\\n",
       "\\end{tabular}\n"
      ],
      "text/markdown": [
       "\n",
       "A data.frame: 6 × 4\n",
       "\n",
       "| <!--/--> | Y &lt;dbl&gt; | X &lt;dbl&gt; | Y_expected &lt;dbl&gt; | Y_expected_R &lt;dbl&gt; |\n",
       "|---|---|---|---|---|\n",
       "| 1 | 3011 | 9714 | 3095.785 | 3095.785 |\n",
       "| 2 | 1305 | 3728 | 1316.203 | 1316.203 |\n",
       "| 3 | 1879 | 6062 | 2010.079 | 2010.079 |\n",
       "| 4 | 2654 | 8845 | 2837.439 | 2837.439 |\n",
       "| 5 | 2849 | 8378 | 2698.605 | 2698.605 |\n",
       "| 6 | 1068 | 3338 | 1200.260 | 1200.260 |\n",
       "\n"
      ],
      "text/plain": [
       "  Y    X    Y_expected Y_expected_R\n",
       "1 3011 9714 3095.785   3095.785    \n",
       "2 1305 3728 1316.203   1316.203    \n",
       "3 1879 6062 2010.079   2010.079    \n",
       "4 2654 8845 2837.439   2837.439    \n",
       "5 2849 8378 2698.605   2698.605    \n",
       "6 1068 3338 1200.260   1200.260    "
      ]
     },
     "metadata": {},
     "output_type": "display_data"
    }
   ],
   "source": [
    "dataset_regression['Y_expected_R'] <- regression_result$fitted.values\n",
    "head(dataset_regression)"
   ]
  },
  {
   "cell_type": "markdown",
   "id": "d613f2db-6ad6-4a04-8cd6-44f99506a171",
   "metadata": {},
   "source": [
    "### Estimating 'Household Spending' out of sample"
   ]
  },
  {
   "cell_type": "code",
   "execution_count": 51,
   "id": "fae70a68-ea29-4861-8bc8-516fdcebf5c1",
   "metadata": {},
   "outputs": [],
   "source": [
    "predict_M <- function(x){\n",
    "    return(beta_1 + beta_2 * x)\n",
    "}"
   ]
  },
  {
   "cell_type": "code",
   "execution_count": 52,
   "id": "88990c92-5d85-4b49-b46f-1cd5f2b9adb4",
   "metadata": {},
   "outputs": [
    {
     "data": {
      "text/html": [
       "2437.5834962305"
      ],
      "text/latex": [
       "2437.5834962305"
      ],
      "text/markdown": [
       "2437.5834962305"
      ],
      "text/plain": [
       "[1] 2437.583"
      ]
     },
     "metadata": {},
     "output_type": "display_data"
    }
   ],
   "source": [
    "predict_M(7500)"
   ]
  },
  {
   "cell_type": "markdown",
   "id": "080f7ef2-eb9f-4594-8b7e-d393869dc832",
   "metadata": {},
   "source": [
    "### Estimating 'Household Spending' out of sample with the R function"
   ]
  },
  {
   "cell_type": "code",
   "execution_count": 53,
   "id": "8b5cadcc-a18a-4f1c-8d4a-97f5c6465c57",
   "metadata": {},
   "outputs": [
    {
     "data": {
      "text/html": [
       "<style>\n",
       ".dl-inline {width: auto; margin:0; padding: 0}\n",
       ".dl-inline>dt, .dl-inline>dd {float: none; width: auto; display: inline-block}\n",
       ".dl-inline>dt::after {content: \":\\0020\"; padding-right: .5ex}\n",
       ".dl-inline>dt:not(:first-of-type) {padding-left: .5ex}\n",
       "</style><dl class=dl-inline><dt>1</dt><dd>2437.5834962305</dd><dt>2</dt><dd>2440.55640314043</dd></dl>\n"
      ],
      "text/latex": [
       "\\begin{description*}\n",
       "\\item[1] 2437.5834962305\n",
       "\\item[2] 2440.55640314043\n",
       "\\end{description*}\n"
      ],
      "text/markdown": [
       "1\n",
       ":   2437.58349623052\n",
       ":   2440.55640314043\n",
       "\n"
      ],
      "text/plain": [
       "       1        2 \n",
       "2437.583 2440.556 "
      ]
     },
     "metadata": {},
     "output_type": "display_data"
    }
   ],
   "source": [
    "predict(regression_result, data.frame(X = c(7500, 7510)) )"
   ]
  },
  {
   "cell_type": "markdown",
   "id": "029ea8c9-23c9-40d7-b130-35782e0d9e89",
   "metadata": {},
   "source": [
    "***\n",
    "## <font color = 'lightgreen'>Residuals</font>\n",
    "***"
   ]
  },
  {
   "cell_type": "markdown",
   "id": "d8ba6d23-6dc9-4dab-8332-6864eb36ae25",
   "metadata": {},
   "source": [
    "As we saw previously, the residual of the ith observation is the difference between the observed value of our dependent variable ($Y_i$) and the estimated value of the dependent variable ($\\hat{Y}_i$)."
   ]
  },
  {
   "cell_type": "markdown",
   "id": "c0ab2756-3985-4c31-8d71-7063a77328b5",
   "metadata": {},
   "source": [
    "# $$\\hat{u}_i = Y_i - \\hat{Y}_i$$"
   ]
  },
  {
   "cell_type": "markdown",
   "id": "3033a476-a80f-432c-936d-3d847473f6f6",
   "metadata": {},
   "source": [
    "In other words, $\\hat{u}_i$ is the error obtained when using the estimated regression equation to predict the value of the dependent variable."
   ]
  },
  {
   "cell_type": "code",
   "execution_count": 54,
   "id": "19de0938-46cd-4ad6-bc10-dad2350afcb1",
   "metadata": {},
   "outputs": [],
   "source": [
    "dataset_regression['U'] <- dataset_regression$Y - dataset_regression$Y_expected"
   ]
  },
  {
   "cell_type": "code",
   "execution_count": 56,
   "id": "55415faf-d2dd-45c8-ab8b-f7aebe1761ba",
   "metadata": {},
   "outputs": [
    {
     "data": {
      "text/html": [
       "<table class=\"dataframe\">\n",
       "<caption>A data.frame: 6 × 6</caption>\n",
       "<thead>\n",
       "\t<tr><th></th><th scope=col>Y</th><th scope=col>X</th><th scope=col>Y_expected</th><th scope=col>Y_expected_R</th><th scope=col>U</th><th scope=col>Residuals</th></tr>\n",
       "\t<tr><th></th><th scope=col>&lt;dbl&gt;</th><th scope=col>&lt;dbl&gt;</th><th scope=col>&lt;dbl&gt;</th><th scope=col>&lt;dbl&gt;</th><th scope=col>&lt;dbl&gt;</th><th scope=col>&lt;dbl&gt;</th></tr>\n",
       "</thead>\n",
       "<tbody>\n",
       "\t<tr><th scope=row>1</th><td>3011</td><td>9714</td><td>3095.785</td><td>3095.785</td><td> -84.78509</td><td> -84.78509</td></tr>\n",
       "\t<tr><th scope=row>2</th><td>1305</td><td>3728</td><td>1316.203</td><td>1316.203</td><td> -11.20301</td><td> -11.20301</td></tr>\n",
       "\t<tr><th scope=row>3</th><td>1879</td><td>6062</td><td>2010.079</td><td>2010.079</td><td>-131.07948</td><td>-131.07948</td></tr>\n",
       "\t<tr><th scope=row>4</th><td>2654</td><td>8845</td><td>2837.439</td><td>2837.439</td><td>-183.43948</td><td>-183.43948</td></tr>\n",
       "\t<tr><th scope=row>5</th><td>2849</td><td>8378</td><td>2698.605</td><td>2698.605</td><td> 150.39528</td><td> 150.39528</td></tr>\n",
       "\t<tr><th scope=row>6</th><td>1068</td><td>3338</td><td>1200.260</td><td>1200.260</td><td>-132.25964</td><td>-132.25964</td></tr>\n",
       "</tbody>\n",
       "</table>\n"
      ],
      "text/latex": [
       "A data.frame: 6 × 6\n",
       "\\begin{tabular}{r|llllll}\n",
       "  & Y & X & Y\\_expected & Y\\_expected\\_R & U & Residuals\\\\\n",
       "  & <dbl> & <dbl> & <dbl> & <dbl> & <dbl> & <dbl>\\\\\n",
       "\\hline\n",
       "\t1 & 3011 & 9714 & 3095.785 & 3095.785 &  -84.78509 &  -84.78509\\\\\n",
       "\t2 & 1305 & 3728 & 1316.203 & 1316.203 &  -11.20301 &  -11.20301\\\\\n",
       "\t3 & 1879 & 6062 & 2010.079 & 2010.079 & -131.07948 & -131.07948\\\\\n",
       "\t4 & 2654 & 8845 & 2837.439 & 2837.439 & -183.43948 & -183.43948\\\\\n",
       "\t5 & 2849 & 8378 & 2698.605 & 2698.605 &  150.39528 &  150.39528\\\\\n",
       "\t6 & 1068 & 3338 & 1200.260 & 1200.260 & -132.25964 & -132.25964\\\\\n",
       "\\end{tabular}\n"
      ],
      "text/markdown": [
       "\n",
       "A data.frame: 6 × 6\n",
       "\n",
       "| <!--/--> | Y &lt;dbl&gt; | X &lt;dbl&gt; | Y_expected &lt;dbl&gt; | Y_expected_R &lt;dbl&gt; | U &lt;dbl&gt; | Residuals &lt;dbl&gt; |\n",
       "|---|---|---|---|---|---|---|\n",
       "| 1 | 3011 | 9714 | 3095.785 | 3095.785 |  -84.78509 |  -84.78509 |\n",
       "| 2 | 1305 | 3728 | 1316.203 | 1316.203 |  -11.20301 |  -11.20301 |\n",
       "| 3 | 1879 | 6062 | 2010.079 | 2010.079 | -131.07948 | -131.07948 |\n",
       "| 4 | 2654 | 8845 | 2837.439 | 2837.439 | -183.43948 | -183.43948 |\n",
       "| 5 | 2849 | 8378 | 2698.605 | 2698.605 |  150.39528 |  150.39528 |\n",
       "| 6 | 1068 | 3338 | 1200.260 | 1200.260 | -132.25964 | -132.25964 |\n",
       "\n"
      ],
      "text/plain": [
       "  Y    X    Y_expected Y_expected_R U          Residuals \n",
       "1 3011 9714 3095.785   3095.785      -84.78509  -84.78509\n",
       "2 1305 3728 1316.203   1316.203      -11.20301  -11.20301\n",
       "3 1879 6062 2010.079   2010.079     -131.07948 -131.07948\n",
       "4 2654 8845 2837.439   2837.439     -183.43948 -183.43948\n",
       "5 2849 8378 2698.605   2698.605      150.39528  150.39528\n",
       "6 1068 3338 1200.260   1200.260     -132.25964 -132.25964"
      ]
     },
     "metadata": {},
     "output_type": "display_data"
    }
   ],
   "source": [
    "dataset_regression['Residuals'] <- regression_result$residuals\n",
    "head(dataset_regression)"
   ]
  },
  {
   "cell_type": "code",
   "execution_count": 57,
   "id": "c8c16c53-b201-4544-9c8b-a2b461696505",
   "metadata": {},
   "outputs": [
    {
     "data": {
      "text/html": [
       "-2.51687559682523e-15"
      ],
      "text/latex": [
       "-2.51687559682523e-15"
      ],
      "text/markdown": [
       "-2.51687559682523e-15"
      ],
      "text/plain": [
       "[1] -2.516876e-15"
      ]
     },
     "metadata": {},
     "output_type": "display_data"
    }
   ],
   "source": [
    "mean(dataset_regression$Residuals)"
   ]
  },
  {
   "cell_type": "markdown",
   "id": "362a9867-9afc-44f6-b324-66de1c1d8a22",
   "metadata": {},
   "source": [
    "***\n",
    "## <font color = 'lightgreen'>Assumptions About The Error Term $u$</font>\n",
    "***"
   ]
  },
  {
   "cell_type": "markdown",
   "id": "d3479e71-d887-46cf-8879-857dab59e5c5",
   "metadata": {},
   "source": [
    "### Plotting the model residuals"
   ]
  },
  {
   "cell_type": "code",
   "execution_count": 58,
   "id": "e2d4315c-c2ae-4a43-a6a4-6bb8ef308159",
   "metadata": {},
   "outputs": [
    {
     "data": {
      "image/png": "[encoded data removed]",
      "text/plain": [
       "plot without title"
      ]
     },
     "metadata": {
      "image/png": {
       "height": 360,
       "width": 720
      }
     },
     "output_type": "display_data"
    }
   ],
   "source": [
    "ggplot(data = dataset_regression, aes(x = X, y = Residuals)) + \n",
    "    geom_hline(yintercept = 0, color = 'black') +\n",
    "    geom_point(size = 1.5, stroke = 0) + \n",
    "    xlab(\"X\") + \n",
    "    ylab(\"Residuals\") + \n",
    "    ggtitle('Residuals vs Independent Variable') +\n",
    "    config_graphic"
   ]
  },
  {
   "cell_type": "code",
   "execution_count": 59,
   "id": "61243ea1-9a53-4825-be5c-7dd1755ba0be",
   "metadata": {},
   "outputs": [
    {
     "data": {
      "image/png": "[encoded data removed]",
      "text/plain": [
       "plot without title"
      ]
     },
     "metadata": {
      "image/png": {
       "height": 360,
       "width": 720
      }
     },
     "output_type": "display_data"
    }
   ],
   "source": [
    "ggplot(data = dataset_regression, aes(x = Y_expected, y = Residuals)) + \n",
    "    geom_hline(yintercept = 0, color = 'black') +\n",
    "    geom_point(size = 1.5, stroke = 0) + \n",
    "    xlab('Y_expected') + \n",
    "    ylab('Residuals') + \n",
    "    ggtitle('Residuals vs Y_expected') +\n",
    "    config_graphic"
   ]
  },
  {
   "cell_type": "code",
   "execution_count": 60,
   "id": "10928921-7986-4795-93be-3bd1ba7ec4c2",
   "metadata": {},
   "outputs": [
    {
     "data": {
      "image/png": "[encoded data removed]",
      "text/plain": [
       "plot without title"
      ]
     },
     "metadata": {
      "image/png": {
       "height": 360,
       "width": 720
      }
     },
     "output_type": "display_data"
    }
   ],
   "source": [
    "ggplot(data = dataset_regression, aes(x = Y_expected, y = Residuals ** 2)) + \n",
    "    geom_point(size = 2, stroke = 0) + \n",
    "    xlab('Y_Previsto') + \n",
    "    ylab('Residuals²') + \n",
    "    ggtitle('Residuals² vs Y_Previsto') +\n",
    "    config_graphic"
   ]
  },
  {
   "cell_type": "markdown",
   "id": "fb8b24f9-2817-4653-9992-61ba5710e3c4",
   "metadata": {},
   "source": [
    "***\n",
    "## <font color = 'lightgreen'>The Coefficient of Determination $R^2$<>\n",
    "***"
   ]
  },
  {
   "cell_type": "markdown",
   "id": "beebfec1-e6c3-4f04-ac05-b691c563a207",
   "metadata": {},
   "source": [
    "The **coefficient of determination R²** is a summary measure that tells how much the sample regression line fits the data. It can be obtained from the following formula:\n",
    "\n",
    "# $$R^2 = \\frac{\\big[\\sum{(Y_i - \\bar{Y})(\\hat{Y}_i - \\bar{Y})}\\big]^2}{\\sum{ (Y_i - \\bar{Y}})^2 \\sum{(\\hat{Y}_i - \\bar{Y}})^2}$$\n",
    "\n",
    "We know that the i-th residue represents the error of using $\\hat{Y}_i$ to estimate $Y_i$. The sum of the squares of these residuals is the value that is minimized by the least squares method. This value can be represented as follows:\n",
    "\n",
    "# $$SQE = \\sum{(Y_i - \\hat{Y}_i)^2}$$\n",
    "\n",
    "The SQE value is a measure of the error of using the estimated regression equation to estimate the values of the dependent variable in the sample.\n",
    "\n",
    "Another component that we can measure is the total sum of squares (SQT) which represents the measure of error involved in using the mean ($\\bar{Y}$) to make the estimates. The SQT can be represented as below:\n",
    "\n",
    "# $$SQT = \\sum{(Y_i - \\bar{Y})^2}$$\n",
    "\n",
    "To quantify how much the estimated values ($\\hat{Y}_i$) deviate from the mean ($\\bar{Y}$) we can obtain another sum of squares. This sum is called the sum of squares of the regression (SQR) and is represented by the following formula:\n",
    "\n",
    "# $$SQR = \\sum{(\\hat{Y}_i - \\bar{Y})^2}$$\n"
   ]
  },
  {
   "cell_type": "markdown",
   "id": "50412840-e502-495d-b20e-33425d8fd98d",
   "metadata": {},
   "source": [
    "### Sum of squares of errors (SQE)"
   ]
  },
  {
   "cell_type": "code",
   "execution_count": 61,
   "id": "e2df0afe-69b2-4f26-97cc-4edfc6e7fe75",
   "metadata": {},
   "outputs": [
    {
     "data": {
      "text/html": [
       "<table class=\"dataframe\">\n",
       "<caption>A data.frame: 6 × 6</caption>\n",
       "<thead>\n",
       "\t<tr><th></th><th scope=col>Y</th><th scope=col>X</th><th scope=col>Y_expected</th><th scope=col>Y_expected_R</th><th scope=col>U</th><th scope=col>Residuals</th></tr>\n",
       "\t<tr><th></th><th scope=col>&lt;dbl&gt;</th><th scope=col>&lt;dbl&gt;</th><th scope=col>&lt;dbl&gt;</th><th scope=col>&lt;dbl&gt;</th><th scope=col>&lt;dbl&gt;</th><th scope=col>&lt;dbl&gt;</th></tr>\n",
       "</thead>\n",
       "<tbody>\n",
       "\t<tr><th scope=row>1</th><td>3011</td><td>9714</td><td>3095.785</td><td>3095.785</td><td> -84.78509</td><td> -84.78509</td></tr>\n",
       "\t<tr><th scope=row>2</th><td>1305</td><td>3728</td><td>1316.203</td><td>1316.203</td><td> -11.20301</td><td> -11.20301</td></tr>\n",
       "\t<tr><th scope=row>3</th><td>1879</td><td>6062</td><td>2010.079</td><td>2010.079</td><td>-131.07948</td><td>-131.07948</td></tr>\n",
       "\t<tr><th scope=row>4</th><td>2654</td><td>8845</td><td>2837.439</td><td>2837.439</td><td>-183.43948</td><td>-183.43948</td></tr>\n",
       "\t<tr><th scope=row>5</th><td>2849</td><td>8378</td><td>2698.605</td><td>2698.605</td><td> 150.39528</td><td> 150.39528</td></tr>\n",
       "\t<tr><th scope=row>6</th><td>1068</td><td>3338</td><td>1200.260</td><td>1200.260</td><td>-132.25964</td><td>-132.25964</td></tr>\n",
       "</tbody>\n",
       "</table>\n"
      ],
      "text/latex": [
       "A data.frame: 6 × 6\n",
       "\\begin{tabular}{r|llllll}\n",
       "  & Y & X & Y\\_expected & Y\\_expected\\_R & U & Residuals\\\\\n",
       "  & <dbl> & <dbl> & <dbl> & <dbl> & <dbl> & <dbl>\\\\\n",
       "\\hline\n",
       "\t1 & 3011 & 9714 & 3095.785 & 3095.785 &  -84.78509 &  -84.78509\\\\\n",
       "\t2 & 1305 & 3728 & 1316.203 & 1316.203 &  -11.20301 &  -11.20301\\\\\n",
       "\t3 & 1879 & 6062 & 2010.079 & 2010.079 & -131.07948 & -131.07948\\\\\n",
       "\t4 & 2654 & 8845 & 2837.439 & 2837.439 & -183.43948 & -183.43948\\\\\n",
       "\t5 & 2849 & 8378 & 2698.605 & 2698.605 &  150.39528 &  150.39528\\\\\n",
       "\t6 & 1068 & 3338 & 1200.260 & 1200.260 & -132.25964 & -132.25964\\\\\n",
       "\\end{tabular}\n"
      ],
      "text/markdown": [
       "\n",
       "A data.frame: 6 × 6\n",
       "\n",
       "| <!--/--> | Y &lt;dbl&gt; | X &lt;dbl&gt; | Y_expected &lt;dbl&gt; | Y_expected_R &lt;dbl&gt; | U &lt;dbl&gt; | Residuals &lt;dbl&gt; |\n",
       "|---|---|---|---|---|---|---|\n",
       "| 1 | 3011 | 9714 | 3095.785 | 3095.785 |  -84.78509 |  -84.78509 |\n",
       "| 2 | 1305 | 3728 | 1316.203 | 1316.203 |  -11.20301 |  -11.20301 |\n",
       "| 3 | 1879 | 6062 | 2010.079 | 2010.079 | -131.07948 | -131.07948 |\n",
       "| 4 | 2654 | 8845 | 2837.439 | 2837.439 | -183.43948 | -183.43948 |\n",
       "| 5 | 2849 | 8378 | 2698.605 | 2698.605 |  150.39528 |  150.39528 |\n",
       "| 6 | 1068 | 3338 | 1200.260 | 1200.260 | -132.25964 | -132.25964 |\n",
       "\n"
      ],
      "text/plain": [
       "  Y    X    Y_expected Y_expected_R U          Residuals \n",
       "1 3011 9714 3095.785   3095.785      -84.78509  -84.78509\n",
       "2 1305 3728 1316.203   1316.203      -11.20301  -11.20301\n",
       "3 1879 6062 2010.079   2010.079     -131.07948 -131.07948\n",
       "4 2654 8845 2837.439   2837.439     -183.43948 -183.43948\n",
       "5 2849 8378 2698.605   2698.605      150.39528  150.39528\n",
       "6 1068 3338 1200.260   1200.260     -132.25964 -132.25964"
      ]
     },
     "metadata": {},
     "output_type": "display_data"
    }
   ],
   "source": [
    "head(dataset_regression)"
   ]
  },
  {
   "cell_type": "code",
   "execution_count": 62,
   "id": "ade05dc9-e949-4804-8b6c-9dcb35efed3a",
   "metadata": {},
   "outputs": [
    {
     "data": {
      "text/html": [
       "984986.037519192"
      ],
      "text/latex": [
       "984986.037519192"
      ],
      "text/markdown": [
       "984986.037519192"
      ],
      "text/plain": [
       "[1] 984986"
      ]
     },
     "metadata": {},
     "output_type": "display_data"
    }
   ],
   "source": [
    "SQE <- sum(apply(dataset_regression, 1, function(x) x['Residuals'] ** 2))\n",
    "SQE"
   ]
  },
  {
   "cell_type": "markdown",
   "id": "cac9974d-ba76-4ef1-be4b-8b835a79d09f",
   "metadata": {},
   "source": [
    "### Total Sum of Squares (SQT)"
   ]
  },
  {
   "cell_type": "code",
   "execution_count": 63,
   "id": "a8279ba5-ae95-48e2-bcc1-56588fff881e",
   "metadata": {},
   "outputs": [
    {
     "data": {
      "text/html": [
       "32724149.28"
      ],
      "text/latex": [
       "32724149.28"
      ],
      "text/markdown": [
       "32724149.28"
      ],
      "text/plain": [
       "[1] 32724149"
      ]
     },
     "metadata": {},
     "output_type": "display_data"
    }
   ],
   "source": [
    "SQT <- sum(apply(dataset_regression, 1, function(x)(x['Y'] - mean(dataset_regression$Y)) ** 2))\n",
    "SQT"
   ]
  },
  {
   "cell_type": "markdown",
   "id": "114dcec2-3dcd-41f2-bf51-8843820c5bfd",
   "metadata": {},
   "source": [
    "### Sum of Squares Regression (SQR)"
   ]
  },
  {
   "cell_type": "code",
   "execution_count": 70,
   "id": "11fb9385-873b-45ae-ae2c-99af1c4d0cac",
   "metadata": {},
   "outputs": [
    {
     "data": {
      "text/html": [
       "31739163.2424808"
      ],
      "text/latex": [
       "31739163.2424808"
      ],
      "text/markdown": [
       "31739163.2424808"
      ],
      "text/plain": [
       "[1] 31739163"
      ]
     },
     "metadata": {},
     "output_type": "display_data"
    }
   ],
   "source": [
    "SQR <- sum(apply(dataset_regression, 1, function(x)(x['Y_expected'] - mean(dataset_regression$Y)) ** 2))\n",
    "SQR"
   ]
  },
  {
   "cell_type": "markdown",
   "id": "51633487-8829-4fc5-a3a0-1ba13fb2417e",
   "metadata": {},
   "source": [
    "### ANOVA"
   ]
  },
  {
   "cell_type": "code",
   "execution_count": 71,
   "id": "e00e02e7-acdd-4a8e-b8fc-4c658b349698",
   "metadata": {},
   "outputs": [
    {
     "data": {
      "text/html": [
       "<table class=\"dataframe\">\n",
       "<caption>A anova: 2 × 5</caption>\n",
       "<thead>\n",
       "\t<tr><th></th><th scope=col>Df</th><th scope=col>Sum Sq</th><th scope=col>Mean Sq</th><th scope=col>F value</th><th scope=col>Pr(&gt;F)</th></tr>\n",
       "\t<tr><th></th><th scope=col>&lt;int&gt;</th><th scope=col>&lt;dbl&gt;</th><th scope=col>&lt;dbl&gt;</th><th scope=col>&lt;dbl&gt;</th><th scope=col>&lt;dbl&gt;</th></tr>\n",
       "</thead>\n",
       "<tbody>\n",
       "\t<tr><th scope=row>X</th><td> 1</td><td>31739163</td><td>31739163.24</td><td>1546.702</td><td>3.555543e-38</td></tr>\n",
       "\t<tr><th scope=row>Residuals</th><td>48</td><td>  984986</td><td>   20520.54</td><td>      NA</td><td>          NA</td></tr>\n",
       "</tbody>\n",
       "</table>\n"
      ],
      "text/latex": [
       "A anova: 2 × 5\n",
       "\\begin{tabular}{r|lllll}\n",
       "  & Df & Sum Sq & Mean Sq & F value & Pr(>F)\\\\\n",
       "  & <int> & <dbl> & <dbl> & <dbl> & <dbl>\\\\\n",
       "\\hline\n",
       "\tX &  1 & 31739163 & 31739163.24 & 1546.702 & 3.555543e-38\\\\\n",
       "\tResiduals & 48 &   984986 &    20520.54 &       NA &           NA\\\\\n",
       "\\end{tabular}\n"
      ],
      "text/markdown": [
       "\n",
       "A anova: 2 × 5\n",
       "\n",
       "| <!--/--> | Df &lt;int&gt; | Sum Sq &lt;dbl&gt; | Mean Sq &lt;dbl&gt; | F value &lt;dbl&gt; | Pr(&gt;F) &lt;dbl&gt; |\n",
       "|---|---|---|---|---|---|\n",
       "| X |  1 | 31739163 | 31739163.24 | 1546.702 | 3.555543e-38 |\n",
       "| Residuals | 48 |   984986 |    20520.54 |       NA |           NA |\n",
       "\n"
      ],
      "text/plain": [
       "          Df Sum Sq   Mean Sq     F value  Pr(>F)      \n",
       "X          1 31739163 31739163.24 1546.702 3.555543e-38\n",
       "Residuals 48   984986    20520.54       NA           NA"
      ]
     },
     "metadata": {},
     "output_type": "display_data"
    }
   ],
   "source": [
    "anova <- anova(regression_result)\n",
    "anova"
   ]
  },
  {
   "cell_type": "code",
   "execution_count": 72,
   "id": "037165c7-4aa3-416a-919b-f45b8c5bb177",
   "metadata": {},
   "outputs": [
    {
     "data": {
      "text/html": [
       "31739163.2424808"
      ],
      "text/latex": [
       "31739163.2424808"
      ],
      "text/markdown": [
       "31739163.2424808"
      ],
      "text/plain": [
       "[1] 31739163"
      ]
     },
     "metadata": {},
     "output_type": "display_data"
    }
   ],
   "source": [
    "anova[1, 2]"
   ]
  },
  {
   "cell_type": "code",
   "execution_count": 73,
   "id": "85a0bcc1-6dd3-4098-9ee8-11c092440707",
   "metadata": {},
   "outputs": [
    {
     "data": {
      "text/html": [
       "984986.037519192"
      ],
      "text/latex": [
       "984986.037519192"
      ],
      "text/markdown": [
       "984986.037519192"
      ],
      "text/plain": [
       "[1] 984986"
      ]
     },
     "metadata": {},
     "output_type": "display_data"
    }
   ],
   "source": [
    "anova[2, 2]"
   ]
  },
  {
   "cell_type": "code",
   "execution_count": 74,
   "id": "a52cbd31-f5fb-438f-9bac-f214da9ca624",
   "metadata": {},
   "outputs": [
    {
     "data": {
      "text/html": [
       "32724149.28"
      ],
      "text/latex": [
       "32724149.28"
      ],
      "text/markdown": [
       "32724149.28"
      ],
      "text/plain": [
       "[1] 32724149"
      ]
     },
     "metadata": {},
     "output_type": "display_data"
    }
   ],
   "source": [
    "anova[1, 2] + anova[2, 2]"
   ]
  },
  {
   "cell_type": "markdown",
   "id": "6fecb47b-0c65-417e-9680-942eff34554c",
   "metadata": {},
   "source": [
    "### Relationship between sums of squares\n",
    "\n",
    "# $$SQT = SQR + SQE$$\n",
    "\n",
    "Where,\n",
    "\n",
    "\n",
    "### $SQE = \\sum{(Y_i - \\hat{Y}_i)^2}$\n",
    "\n",
    "### $SQT = \\sum{(Y_i - \\bar{Y})^2}$\n",
    "\n",
    "### $SQR = \\sum{(\\hat{Y}_i - \\bar{Y})^2}$\n",
    "\n",
    "\n",
    "<img src=\"https://caelum-online-public.s3.amazonaws.com/1273-estatistica-parte4/01/img029.png\" width=50%>"
   ]
  },
  {
   "cell_type": "markdown",
   "id": "affd25d2-1efd-428d-b806-304a5616d935",
   "metadata": {},
   "source": [
    "### Coefficient of determination (R²)\n",
    "\n",
    "The estimated regression would have a perfect fit if all values of the dependent variable ($Y_i$) lie on the estimated regression line. When this occurs we have $Y_i - \\hat{Y}_i = 0$ for all observations, which results in $SQE = 0$. As $SQT=SQR+SQE$, it is possible to deduce that to have a perfect fit $SQT$ must be equal to $SQR$ and the ratio between these measurements ($\\frac{SQR}{SQT}$) must be equal to 1.\n",
    "\n",
    "When the adjustment is not so perfect, it is noted that the $SQE$ presents larger values, which makes the ratio $\\frac{SQR}{SQT}$ decrease, and in a situation of total imperfection of the adjustment we would have $SQR=0 $ and $SQE=SQT$ leading to $\\frac{SQR}{SQT}=0$.\n",
    "\n",
    "The ratio $\\frac{SQR}{SQT}$, which takes values between 0 and 1, is used as a measure of efficiency in adjusting the estimated regression equation. This measurement is known as coefficient of determination (R²).\n",
    "\n",
    "# $$R^2 = \\frac{SQR}{SQT}$$\n",
    "\n",
    "## <font color='red'>Note</font>\n",
    "> Only using R² is it impossible to draw conclusions about whether or not the relationship between $Y$ and $X$ is statistically significant\n",
    "significant. This type of statement must be based on considerations involving sample size and the properties of the sampling distribution of least squares estimators.\n"
   ]
  },
  {
   "cell_type": "code",
   "execution_count": 75,
   "id": "579fea70-e462-41ab-8746-2164e02027af",
   "metadata": {},
   "outputs": [
    {
     "data": {
      "text/html": [
       "0.96990033173693"
      ],
      "text/latex": [
       "0.96990033173693"
      ],
      "text/markdown": [
       "0.96990033173693"
      ],
      "text/plain": [
       "[1] 0.9699003"
      ]
     },
     "metadata": {},
     "output_type": "display_data"
    }
   ],
   "source": [
    "R2 <- SQR / SQT\n",
    "R2"
   ]
  },
  {
   "cell_type": "code",
   "execution_count": 76,
   "id": "8c147c81-f06e-4b58-88ad-c959ccd7c16d",
   "metadata": {},
   "outputs": [
    {
     "data": {
      "text/plain": [
       "\n",
       "Call:\n",
       "lm(formula = Y ~ X, data = dataset_regression)\n",
       "\n",
       "Residuals:\n",
       "    Min      1Q  Median      3Q     Max \n",
       "-202.49 -125.96  -22.28  140.53  260.67 \n",
       "\n",
       "Coefficients:\n",
       "             Estimate Std. Error t value Pr(>|t|)    \n",
       "(Intercept) 2.079e+02  5.013e+01   4.148 0.000136 ***\n",
       "X           2.973e-01  7.559e-03  39.328  < 2e-16 ***\n",
       "---\n",
       "Signif. codes:  0 ‘***’ 0.001 ‘**’ 0.01 ‘*’ 0.05 ‘.’ 0.1 ‘ ’ 1\n",
       "\n",
       "Residual standard error: 143.2 on 48 degrees of freedom\n",
       "Multiple R-squared:  0.9699,\tAdjusted R-squared:  0.9693 \n",
       "F-statistic:  1547 on 1 and 48 DF,  p-value: < 2.2e-16\n"
      ]
     },
     "metadata": {},
     "output_type": "display_data"
    }
   ],
   "source": [
    "summary"
   ]
  },
  {
   "cell_type": "code",
   "execution_count": 77,
   "id": "4b8ee2c9-226b-4d87-8cc2-f9e36ed9f6af",
   "metadata": {},
   "outputs": [
    {
     "data": {
      "text/html": [
       "0.96990033173693"
      ],
      "text/latex": [
       "0.96990033173693"
      ],
      "text/markdown": [
       "0.96990033173693"
      ],
      "text/plain": [
       "[1] 0.9699003"
      ]
     },
     "metadata": {},
     "output_type": "display_data"
    }
   ],
   "source": [
    "summary$r.square"
   ]
  },
  {
   "cell_type": "markdown",
   "id": "faca3664-9d67-45a6-b457-22e8debb0bcc",
   "metadata": {},
   "source": [
    "***\n",
    "## <font color ='lightgreen'>Tests Applied to Regression Models</font>\n",
    "***"
   ]
  },
  {
   "cell_type": "markdown",
   "id": "4a5128c9-0b02-4a73-9ebb-2374386de4ae",
   "metadata": {},
   "source": [
    "As we saw, in a simple linear regression, the mean of the dependent variable ($Y$) is a linear function of the independent variable ($X$):\n",
    "\n",
    "# $$Y_i = \\beta_1 + \\beta_2X_i$$\n",
    "\n",
    "If the value of $\\beta_2$ is zero we can verify that the average value of $Y$ does not depend on the value of $X$ and, therefore, we conclude that $X$ and $Y$ are not linearly related. Alternatively, if the value of $\\beta_2$ is not equal to zero, we conclude that the two variables are related.\n",
    "\n",
    "To test whether the regression relationship is significant, it is necessary to perform a **hypothesis test** to determine whether the value of $\\beta_2$ is zero. Before carrying out this type of test we need to obtain an estimate for $\\sigma^2$ (error variance)."
   ]
  },
  {
   "cell_type": "markdown",
   "id": "9e6f1f10-4cfc-4ac0-9005-20ddf94b05f7",
   "metadata": {},
   "source": [
    "### Output of the estimated regression model"
   ]
  },
  {
   "cell_type": "code",
   "execution_count": 78,
   "id": "66c3d8b5-28ec-47fe-8017-9cc64e3cf795",
   "metadata": {},
   "outputs": [
    {
     "data": {
      "text/plain": [
       "\n",
       "Call:\n",
       "lm(formula = Y ~ X, data = dataset_regression)\n",
       "\n",
       "Residuals:\n",
       "    Min      1Q  Median      3Q     Max \n",
       "-202.49 -125.96  -22.28  140.53  260.67 \n",
       "\n",
       "Coefficients:\n",
       "             Estimate Std. Error t value Pr(>|t|)    \n",
       "(Intercept) 2.079e+02  5.013e+01   4.148 0.000136 ***\n",
       "X           2.973e-01  7.559e-03  39.328  < 2e-16 ***\n",
       "---\n",
       "Signif. codes:  0 ‘***’ 0.001 ‘**’ 0.01 ‘*’ 0.05 ‘.’ 0.1 ‘ ’ 1\n",
       "\n",
       "Residual standard error: 143.2 on 48 degrees of freedom\n",
       "Multiple R-squared:  0.9699,\tAdjusted R-squared:  0.9693 \n",
       "F-statistic:  1547 on 1 and 48 DF,  p-value: < 2.2e-16\n"
      ]
     },
     "metadata": {},
     "output_type": "display_data"
    }
   ],
   "source": [
    "summary"
   ]
  },
  {
   "cell_type": "code",
   "execution_count": 79,
   "id": "365720d8-817f-4ed6-9dce-58189a6f53a5",
   "metadata": {},
   "outputs": [
    {
     "data": {
      "text/html": [
       "<table class=\"dataframe\">\n",
       "<caption>A anova: 2 × 5</caption>\n",
       "<thead>\n",
       "\t<tr><th></th><th scope=col>Df</th><th scope=col>Sum Sq</th><th scope=col>Mean Sq</th><th scope=col>F value</th><th scope=col>Pr(&gt;F)</th></tr>\n",
       "\t<tr><th></th><th scope=col>&lt;int&gt;</th><th scope=col>&lt;dbl&gt;</th><th scope=col>&lt;dbl&gt;</th><th scope=col>&lt;dbl&gt;</th><th scope=col>&lt;dbl&gt;</th></tr>\n",
       "</thead>\n",
       "<tbody>\n",
       "\t<tr><th scope=row>X</th><td> 1</td><td>31739163</td><td>31739163.24</td><td>1546.702</td><td>3.555543e-38</td></tr>\n",
       "\t<tr><th scope=row>Residuals</th><td>48</td><td>  984986</td><td>   20520.54</td><td>      NA</td><td>          NA</td></tr>\n",
       "</tbody>\n",
       "</table>\n"
      ],
      "text/latex": [
       "A anova: 2 × 5\n",
       "\\begin{tabular}{r|lllll}\n",
       "  & Df & Sum Sq & Mean Sq & F value & Pr(>F)\\\\\n",
       "  & <int> & <dbl> & <dbl> & <dbl> & <dbl>\\\\\n",
       "\\hline\n",
       "\tX &  1 & 31739163 & 31739163.24 & 1546.702 & 3.555543e-38\\\\\n",
       "\tResiduals & 48 &   984986 &    20520.54 &       NA &           NA\\\\\n",
       "\\end{tabular}\n"
      ],
      "text/markdown": [
       "\n",
       "A anova: 2 × 5\n",
       "\n",
       "| <!--/--> | Df &lt;int&gt; | Sum Sq &lt;dbl&gt; | Mean Sq &lt;dbl&gt; | F value &lt;dbl&gt; | Pr(&gt;F) &lt;dbl&gt; |\n",
       "|---|---|---|---|---|---|\n",
       "| X |  1 | 31739163 | 31739163.24 | 1546.702 | 3.555543e-38 |\n",
       "| Residuals | 48 |   984986 |    20520.54 |       NA |           NA |\n",
       "\n"
      ],
      "text/plain": [
       "          Df Sum Sq   Mean Sq     F value  Pr(>F)      \n",
       "X          1 31739163 31739163.24 1546.702 3.555543e-38\n",
       "Residuals 48   984986    20520.54       NA           NA"
      ]
     },
     "metadata": {},
     "output_type": "display_data"
    }
   ],
   "source": [
    "anova"
   ]
  },
  {
   "cell_type": "markdown",
   "id": "d51a15b8-ff67-4363-8506-eb7388d03866",
   "metadata": {},
   "source": [
    "### Mean squared error - estimate $\\sigma^2$\n",
    "\n",
    "Remember that the **sum of squared errors (SQE)** is a numerical measure of the variability of the observed data around the estimated regression line. All sums of squares, studied previously, are associated with a certain number of degrees of freedom. In the case of SQE, as two parameters must be estimated, we have $n-2$ degrees of freedom.\n",
    "\n",
    "The **mean squared error**, represented by the equation below, can be obtained by dividing the SQE by $n-2$ degrees of freedom.\n",
    "\n",
    "# $$EQM = \\frac{SQE}{n-2}$$"
   ]
  },
  {
   "cell_type": "code",
   "execution_count": 80,
   "id": "7016d5b8-6acd-4aef-93d3-8934d0d5e27a",
   "metadata": {},
   "outputs": [
    {
     "data": {
      "text/html": [
       "984986.037519192"
      ],
      "text/latex": [
       "984986.037519192"
      ],
      "text/markdown": [
       "984986.037519192"
      ],
      "text/plain": [
       "[1] 984986"
      ]
     },
     "metadata": {},
     "output_type": "display_data"
    }
   ],
   "source": [
    "SQE"
   ]
  },
  {
   "cell_type": "code",
   "execution_count": 81,
   "id": "9c07476c-659a-420d-a508-deabd87dce77",
   "metadata": {},
   "outputs": [
    {
     "data": {
      "text/html": [
       "50"
      ],
      "text/latex": [
       "50"
      ],
      "text/markdown": [
       "50"
      ],
      "text/plain": [
       "[1] 50"
      ]
     },
     "metadata": {},
     "output_type": "display_data"
    }
   ],
   "source": [
    "n"
   ]
  },
  {
   "cell_type": "code",
   "execution_count": 82,
   "id": "6c52edd4-bea3-47c7-9550-c08182858128",
   "metadata": {},
   "outputs": [
    {
     "data": {
      "text/html": [
       "20520.5424483165"
      ],
      "text/latex": [
       "20520.5424483165"
      ],
      "text/markdown": [
       "20520.5424483165"
      ],
      "text/plain": [
       "[1] 20520.54"
      ]
     },
     "metadata": {},
     "output_type": "display_data"
    }
   ],
   "source": [
    "EQM <- SQE / (n - 2)\n",
    "EQM"
   ]
  },
  {
   "cell_type": "code",
   "execution_count": 83,
   "id": "f314551b-9fc1-48e5-934d-c288c0a5ec62",
   "metadata": {},
   "outputs": [
    {
     "data": {
      "text/html": [
       "20520.5424483165"
      ],
      "text/latex": [
       "20520.5424483165"
      ],
      "text/markdown": [
       "20520.5424483165"
      ],
      "text/plain": [
       "[1] 20520.54"
      ]
     },
     "metadata": {},
     "output_type": "display_data"
    }
   ],
   "source": [
    "EQM <- anova$'Mean Sq'[2]\n",
    "EQM"
   ]
  },
  {
   "cell_type": "code",
   "execution_count": 84,
   "id": "95766474-5327-4c21-94d4-cbcbfadebfe9",
   "metadata": {},
   "outputs": [
    {
     "data": {
      "text/html": [
       "20520.5424483165"
      ],
      "text/latex": [
       "20520.5424483165"
      ],
      "text/markdown": [
       "20520.5424483165"
      ],
      "text/plain": [
       "[1] 20520.54"
      ]
     },
     "metadata": {},
     "output_type": "display_data"
    }
   ],
   "source": [
    "EQM <- anova['Residuals', 'Mean Sq']\n",
    "EQM"
   ]
  },
  {
   "cell_type": "markdown",
   "id": "24f52317-e7b8-45d4-9221-0036f7594130",
   "metadata": {},
   "source": [
    "### Hypothesis test for null angular coefficient"
   ]
  },
  {
   "cell_type": "markdown",
   "id": "ab2dd588-18b0-4c76-afb3-2ec738ad9a5c",
   "metadata": {},
   "source": [
    "Consider the following simple linear regression model:\n",
    "\n",
    "# $$Y_i = \\beta_1 + \\beta_2X_i + u_i$$\n",
    "\n",
    "If the variables $Y$ and $X$ are linearly related, $\\beta_2$ is expected to be non-zero. To test this hypothesis, we formulated a hypothesis test with the following specification of null and alternative hypotheses:\n",
    "\n",
    "## $H_0: \\beta_2 = 0$\n",
    "## $H_1: \\beta_2 \\neq 0$\n",
    "\n",
    "If $H_0$ is rejected, we will conclude that there is a statistically significant linear relationship between the two variables.\n",
    "\n",
    "Now consider that $b_1$ and $b_2$ are our least squares estimators. Consider that the sampling distribution of $b_2$ follows a normal distribution and also the following properties:\n",
    "\n",
    "# $$E(b_2) = \\beta_2$$\n",
    "# $$\\sigma_{b_2} = \\frac{\\sigma}{\\sqrt{\\sum{(X_i - \\bar{X})^2}}}$$\n",
    "\n",
    "As we do not know the value of $\\sigma$, we use $s$ as an estimate:\n",
    "\n",
    "# $$s_{b_2} = \\frac{s}{\\sqrt{\\sum{(X_i - \\bar{X})^2}}}$$\n",
    "\n",
    "Note that the expected value of $b_2$ is $\\beta_2$, therefore, $b_2$ is an unbiased estimator of $\\beta_2$. Below we have the test statistic (t) that follows a Student t distribution with $n-2$ degrees of freedom.\n",
    "\n",
    "# $$t = \\frac{b_2 - \\beta_2}{s_{b_2}}$$"
   ]
  },
  {
   "cell_type": "markdown",
   "id": "9be07253-3dc6-433c-bf8a-445589916bea",
   "metadata": {},
   "source": [
    "### Calculating $s$"
   ]
  },
  {
   "cell_type": "code",
   "execution_count": 85,
   "id": "774900da-6174-4e4d-b386-4b4879b60d73",
   "metadata": {},
   "outputs": [
    {
     "data": {
      "text/html": [
       "143.249930011559"
      ],
      "text/latex": [
       "143.249930011559"
      ],
      "text/markdown": [
       "143.249930011559"
      ],
      "text/plain": [
       "[1] 143.2499"
      ]
     },
     "metadata": {},
     "output_type": "display_data"
    }
   ],
   "source": [
    "s <- sqrt(EQM)\n",
    "s"
   ]
  },
  {
   "cell_type": "markdown",
   "id": "04121a69-045e-4680-998d-c70826be9353",
   "metadata": {},
   "source": [
    "### Calculating $\\sum{(X_i - \\bar{X})^2}$"
   ]
  },
  {
   "cell_type": "code",
   "execution_count": 86,
   "id": "edf7f34e-e778-4487-9d81-27ba25289866",
   "metadata": {},
   "outputs": [
    {
     "data": {
      "text/html": [
       "359114426.5"
      ],
      "text/latex": [
       "359114426.5"
      ],
      "text/markdown": [
       "359114426.5"
      ],
      "text/plain": [
       "[1] 359114426"
      ]
     },
     "metadata": {},
     "output_type": "display_data"
    }
   ],
   "source": [
    "SUM_SD2 <- sum(apply(dataset_regression, 1, function(x) (x['X'] - mean(dataset_regression$X)) ** 2))\n",
    "SUM_SD2"
   ]
  },
  {
   "cell_type": "markdown",
   "id": "9956418b-a800-4308-b33e-9be36b2563ea",
   "metadata": {},
   "source": [
    "### Calculating $s_{b_2}$"
   ]
  },
  {
   "cell_type": "code",
   "execution_count": 87,
   "id": "95481206-ab84-4d89-83ff-8a457970a852",
   "metadata": {},
   "outputs": [
    {
     "data": {
      "text/html": [
       "0.00755923753376846"
      ],
      "text/latex": [
       "0.00755923753376846"
      ],
      "text/markdown": [
       "0.00755923753376846"
      ],
      "text/plain": [
       "[1] 0.007559238"
      ]
     },
     "metadata": {},
     "output_type": "display_data"
    }
   ],
   "source": [
    "s_beta_2 <- s / sqrt(SUM_SD2)\n",
    "s_beta_2"
   ]
  },
  {
   "cell_type": "markdown",
   "id": "e799b3a4-550c-41ee-babe-57a31b0456c0",
   "metadata": {},
   "source": [
    "### Determining the acceptance and rejection areas of $H_0$"
   ]
  },
  {
   "cell_type": "markdown",
   "id": "d71c6df0-3dd2-4ec5-8e05-68d76e3e785c",
   "metadata": {},
   "source": [
    "### Confidence and significance levels"
   ]
  },
  {
   "cell_type": "code",
   "execution_count": 88,
   "id": "5f8a4b70-40b0-4ea7-8a2d-7daa2bbb2f21",
   "metadata": {},
   "outputs": [],
   "source": [
    "confidence <- 0.95\n",
    "meaningfulness <- 0.05"
   ]
  },
  {
   "cell_type": "code",
   "execution_count": 90,
   "id": "7b893aea-c35a-489c-b828-305cfc764784",
   "metadata": {},
   "outputs": [
    {
     "data": {
      "text/html": [
       "48"
      ],
      "text/latex": [
       "48"
      ],
      "text/markdown": [
       "48"
      ],
      "text/plain": [
       "[1] 48"
      ]
     },
     "metadata": {},
     "output_type": "display_data"
    },
    {
     "data": {
      "text/html": [
       "48"
      ],
      "text/latex": [
       "48"
      ],
      "text/markdown": [
       "48"
      ],
      "text/plain": [
       "[1] 48"
      ]
     },
     "metadata": {},
     "output_type": "display_data"
    }
   ],
   "source": [
    "degrees_of_freedom <- regression_result$df.residual \n",
    "degrees_of_freedom\n",
    "n - 2"
   ]
  },
  {
   "cell_type": "markdown",
   "id": "41f132a5-d709-40de-ad58-4b18d578e0e5",
   "metadata": {},
   "source": [
    "### Getting $t_{\\alpha/2}$"
   ]
  },
  {
   "cell_type": "code",
   "execution_count": 91,
   "id": "74c80e98-b2b8-4719-aef8-426a9b1afe7c",
   "metadata": {},
   "outputs": [
    {
     "data": {
      "text/html": [
       "0.975"
      ],
      "text/latex": [
       "0.975"
      ],
      "text/markdown": [
       "0.975"
      ],
      "text/plain": [
       "[1] 0.975"
      ]
     },
     "metadata": {},
     "output_type": "display_data"
    }
   ],
   "source": [
    "probability <- (0.5 + (confidence /  2))\n",
    "probability"
   ]
  },
  {
   "cell_type": "code",
   "execution_count": 92,
   "id": "3a5ac063-965a-4d05-9e3b-7f5e2dfb9041",
   "metadata": {},
   "outputs": [
    {
     "data": {
      "text/html": [
       "2.01063475762423"
      ],
      "text/latex": [
       "2.01063475762423"
      ],
      "text/markdown": [
       "2.01063475762423"
      ],
      "text/plain": [
       "[1] 2.010635"
      ]
     },
     "metadata": {},
     "output_type": "display_data"
    }
   ],
   "source": [
    "t_alpha_2 <- qt(probability, degrees_of_freedom)\n",
    "t_alpha_2"
   ]
  },
  {
   "cell_type": "markdown",
   "id": "2db27ecb-03b6-4f3d-af52-c5612b650560",
   "metadata": {},
   "source": [
    "### Getting $t = \\frac{b_2 - \\beta_2}{s_{b_2}}$"
   ]
  },
  {
   "cell_type": "code",
   "execution_count": 93,
   "id": "27a122c2-b90a-40cd-9d93-309ab5ede9c6",
   "metadata": {},
   "outputs": [
    {
     "data": {
      "text/html": [
       "39.328131926755"
      ],
      "text/latex": [
       "39.328131926755"
      ],
      "text/markdown": [
       "39.328131926755"
      ],
      "text/plain": [
       "[1] 39.32813"
      ]
     },
     "metadata": {},
     "output_type": "display_data"
    }
   ],
   "source": [
    "t <- (beta_2 - 0) / s_beta_2\n",
    "t"
   ]
  },
  {
   "cell_type": "code",
   "execution_count": 94,
   "id": "d28d38f1-2e8e-4d62-8bf7-81c2e5229994",
   "metadata": {},
   "outputs": [
    {
     "data": {
      "text/html": [
       "<table class=\"dataframe\">\n",
       "<caption>A matrix: 2 × 4 of type dbl</caption>\n",
       "<thead>\n",
       "\t<tr><th></th><th scope=col>Estimate</th><th scope=col>Std. Error</th><th scope=col>t value</th><th scope=col>Pr(&gt;|t|)</th></tr>\n",
       "</thead>\n",
       "<tbody>\n",
       "\t<tr><th scope=row>(Intercept)</th><td>207.9033138</td><td>50.126682183</td><td> 4.147558</td><td>1.362270e-04</td></tr>\n",
       "\t<tr><th scope=row>X</th><td>  0.2972907</td><td> 0.007559238</td><td>39.328132</td><td>3.555543e-38</td></tr>\n",
       "</tbody>\n",
       "</table>\n"
      ],
      "text/latex": [
       "A matrix: 2 × 4 of type dbl\n",
       "\\begin{tabular}{r|llll}\n",
       "  & Estimate & Std. Error & t value & Pr(>\\textbar{}t\\textbar{})\\\\\n",
       "\\hline\n",
       "\t(Intercept) & 207.9033138 & 50.126682183 &  4.147558 & 1.362270e-04\\\\\n",
       "\tX &   0.2972907 &  0.007559238 & 39.328132 & 3.555543e-38\\\\\n",
       "\\end{tabular}\n"
      ],
      "text/markdown": [
       "\n",
       "A matrix: 2 × 4 of type dbl\n",
       "\n",
       "| <!--/--> | Estimate | Std. Error | t value | Pr(&gt;|t|) |\n",
       "|---|---|---|---|---|\n",
       "| (Intercept) | 207.9033138 | 50.126682183 |  4.147558 | 1.362270e-04 |\n",
       "| X |   0.2972907 |  0.007559238 | 39.328132 | 3.555543e-38 |\n",
       "\n"
      ],
      "text/plain": [
       "            Estimate    Std. Error   t value   Pr(>|t|)    \n",
       "(Intercept) 207.9033138 50.126682183  4.147558 1.362270e-04\n",
       "X             0.2972907  0.007559238 39.328132 3.555543e-38"
      ]
     },
     "metadata": {},
     "output_type": "display_data"
    }
   ],
   "source": [
    "coefficients <- summary$coefficients\n",
    "coefficients"
   ]
  },
  {
   "cell_type": "code",
   "execution_count": 95,
   "id": "c3f0811a-4aae-486c-9d96-4dfdc4612793",
   "metadata": {},
   "outputs": [
    {
     "data": {
      "text/html": [
       "39.328131926755"
      ],
      "text/latex": [
       "39.328131926755"
      ],
      "text/markdown": [
       "39.328131926755"
      ],
      "text/plain": [
       "[1] 39.32813"
      ]
     },
     "metadata": {},
     "output_type": "display_data"
    }
   ],
   "source": [
    "coefficients['X', 't value']"
   ]
  },
  {
   "cell_type": "markdown",
   "id": "e54d08bc-8593-4610-a094-a65ec47ce4bf",
   "metadata": {},
   "source": [
    "### <font color='red'>Critical value criterion</font>\n",
    "\n",
    "> ### Two-tailed Test\n",
    "> ### Reject $H_0$ if $t \\leq -t_{\\alpha / 2}$ or if $t \\geq t_{\\alpha / 2}$"
   ]
  },
  {
   "cell_type": "code",
   "execution_count": 96,
   "id": "a3bc6f40-e80c-4d94-b590-2c183bcf2b47",
   "metadata": {},
   "outputs": [
    {
     "data": {
      "text/html": [
       "FALSE"
      ],
      "text/latex": [
       "FALSE"
      ],
      "text/markdown": [
       "FALSE"
      ],
      "text/plain": [
       "[1] FALSE"
      ]
     },
     "metadata": {},
     "output_type": "display_data"
    }
   ],
   "source": [
    "t <= -t_alpha_2"
   ]
  },
  {
   "cell_type": "code",
   "execution_count": 97,
   "id": "49f590f6-a76b-4b43-bf72-0dd13db7cab8",
   "metadata": {},
   "outputs": [
    {
     "data": {
      "text/html": [
       "TRUE"
      ],
      "text/latex": [
       "TRUE"
      ],
      "text/markdown": [
       "TRUE"
      ],
      "text/plain": [
       "[1] TRUE"
      ]
     },
     "metadata": {},
     "output_type": "display_data"
    }
   ],
   "source": [
    "t >= t_alpha_2"
   ]
  },
  {
   "cell_type": "markdown",
   "id": "9bb517d8-0769-4232-bccb-7d14fa89e085",
   "metadata": {},
   "source": [
    "### <font color='red'>$p-value$ criterion</font>\n",
    "\n",
    "> ### Two-tailed Test\n",
    "> ### Reject $H_0$ if value $p\\leq\\alpha$"
   ]
  },
  {
   "cell_type": "code",
   "execution_count": 98,
   "id": "7c9b0421-3096-4a6a-b13c-c455de40f199",
   "metadata": {},
   "outputs": [
    {
     "data": {
      "text/html": [
       "3.55554322858604e-38"
      ],
      "text/latex": [
       "3.55554322858604e-38"
      ],
      "text/markdown": [
       "3.55554322858604e-38"
      ],
      "text/plain": [
       "[1] 3.555543e-38"
      ]
     },
     "metadata": {},
     "output_type": "display_data"
    }
   ],
   "source": [
    "p_value <- 2 * (pt(t, degrees_of_freedom, lower.tail = FALSE))\n",
    "p_value"
   ]
  },
  {
   "cell_type": "code",
   "execution_count": 99,
   "id": "5ad0dc0a-f8bc-46ef-8efc-c9f21b83caa5",
   "metadata": {},
   "outputs": [
    {
     "data": {
      "text/html": [
       "3.55554322858599e-38"
      ],
      "text/latex": [
       "3.55554322858599e-38"
      ],
      "text/markdown": [
       "3.55554322858599e-38"
      ],
      "text/plain": [
       "[1] 3.555543e-38"
      ]
     },
     "metadata": {},
     "output_type": "display_data"
    }
   ],
   "source": [
    "p_value <- coefficients['X', 'Pr(>|t|)']\n",
    "p_value"
   ]
  },
  {
   "cell_type": "code",
   "execution_count": 100,
   "id": "974fce4e-9e17-4fbe-a45a-003e226c66d8",
   "metadata": {},
   "outputs": [
    {
     "data": {
      "text/html": [
       "TRUE"
      ],
      "text/latex": [
       "TRUE"
      ],
      "text/markdown": [
       "TRUE"
      ],
      "text/plain": [
       "[1] TRUE"
      ]
     },
     "metadata": {},
     "output_type": "display_data"
    }
   ],
   "source": [
    "p_value <= meaningfulness"
   ]
  },
  {
   "cell_type": "markdown",
   "id": "dd8486d8-283e-4fd9-a2ef-41619837673c",
   "metadata": {},
   "source": [
    "***\n",
    "## <font color = 'lightgreen'>Conclusion: We reject $H_0$ and conclude that there is a significant relationship between the two variables.</font>\n",
    "***"
   ]
  },
  {
   "cell_type": "code",
   "execution_count": 101,
   "id": "d4dc0a24-df26-4113-8b8c-9d9746f9f23f",
   "metadata": {},
   "outputs": [
    {
     "data": {
      "text/plain": [
       "\n",
       "Call:\n",
       "lm(formula = Y ~ X, data = dataset_regression)\n",
       "\n",
       "Residuals:\n",
       "    Min      1Q  Median      3Q     Max \n",
       "-202.49 -125.96  -22.28  140.53  260.67 \n",
       "\n",
       "Coefficients:\n",
       "             Estimate Std. Error t value Pr(>|t|)    \n",
       "(Intercept) 2.079e+02  5.013e+01   4.148 0.000136 ***\n",
       "X           2.973e-01  7.559e-03  39.328  < 2e-16 ***\n",
       "---\n",
       "Signif. codes:  0 ‘***’ 0.001 ‘**’ 0.01 ‘*’ 0.05 ‘.’ 0.1 ‘ ’ 1\n",
       "\n",
       "Residual standard error: 143.2 on 48 degrees of freedom\n",
       "Multiple R-squared:  0.9699,\tAdjusted R-squared:  0.9693 \n",
       "F-statistic:  1547 on 1 and 48 DF,  p-value: < 2.2e-16\n"
      ]
     },
     "metadata": {},
     "output_type": "display_data"
    }
   ],
   "source": [
    "summary"
   ]
  },
  {
   "cell_type": "code",
   "execution_count": 102,
   "id": "a3ad8881-4f6c-4041-a575-6be7a8447df5",
   "metadata": {},
   "outputs": [
    {
     "data": {
      "text/html": [
       "<table class=\"dataframe\">\n",
       "<caption>A anova: 2 × 5</caption>\n",
       "<thead>\n",
       "\t<tr><th></th><th scope=col>Df</th><th scope=col>Sum Sq</th><th scope=col>Mean Sq</th><th scope=col>F value</th><th scope=col>Pr(&gt;F)</th></tr>\n",
       "\t<tr><th></th><th scope=col>&lt;int&gt;</th><th scope=col>&lt;dbl&gt;</th><th scope=col>&lt;dbl&gt;</th><th scope=col>&lt;dbl&gt;</th><th scope=col>&lt;dbl&gt;</th></tr>\n",
       "</thead>\n",
       "<tbody>\n",
       "\t<tr><th scope=row>X</th><td> 1</td><td>31739163</td><td>31739163.24</td><td>1546.702</td><td>3.555543e-38</td></tr>\n",
       "\t<tr><th scope=row>Residuals</th><td>48</td><td>  984986</td><td>   20520.54</td><td>      NA</td><td>          NA</td></tr>\n",
       "</tbody>\n",
       "</table>\n"
      ],
      "text/latex": [
       "A anova: 2 × 5\n",
       "\\begin{tabular}{r|lllll}\n",
       "  & Df & Sum Sq & Mean Sq & F value & Pr(>F)\\\\\n",
       "  & <int> & <dbl> & <dbl> & <dbl> & <dbl>\\\\\n",
       "\\hline\n",
       "\tX &  1 & 31739163 & 31739163.24 & 1546.702 & 3.555543e-38\\\\\n",
       "\tResiduals & 48 &   984986 &    20520.54 &       NA &           NA\\\\\n",
       "\\end{tabular}\n"
      ],
      "text/markdown": [
       "\n",
       "A anova: 2 × 5\n",
       "\n",
       "| <!--/--> | Df &lt;int&gt; | Sum Sq &lt;dbl&gt; | Mean Sq &lt;dbl&gt; | F value &lt;dbl&gt; | Pr(&gt;F) &lt;dbl&gt; |\n",
       "|---|---|---|---|---|---|\n",
       "| X |  1 | 31739163 | 31739163.24 | 1546.702 | 3.555543e-38 |\n",
       "| Residuals | 48 |   984986 |    20520.54 |       NA |           NA |\n",
       "\n"
      ],
      "text/plain": [
       "          Df Sum Sq   Mean Sq     F value  Pr(>F)      \n",
       "X          1 31739163 31739163.24 1546.702 3.555543e-38\n",
       "Residuals 48   984986    20520.54       NA           NA"
      ]
     },
     "metadata": {},
     "output_type": "display_data"
    }
   ],
   "source": [
    "anova"
   ]
  },
  {
   "cell_type": "markdown",
   "id": "6dddb10e-e68d-4160-b57e-8703e4320d43",
   "metadata": {},
   "source": [
    "### Test F"
   ]
  },
  {
   "cell_type": "markdown",
   "id": "711b63c6-fb94-4015-a4d1-a57626416b31",
   "metadata": {},
   "source": [
    "The F test is also a tool for testing significance in regression. Based on the F probability distribution, the F test is used to check the global significance in the regression, that is, in a multiple regression, where there is more than one independent variable, the F test checks the nullity of all model parameters together.\n",
    "\n",
    "In our case (simple linear regression) it provides the same conclusion obtained with the t-test.\n",
    "\n",
    "**Hypotheses:**\n",
    "\n",
    "## $H_0: \\beta_2 = 0$\n",
    "## $H_0: \\beta_2 \\neq 0$\n",
    "\n",
    "**Test stat:**\n",
    "\n",
    "# $$F = \\frac{\\frac{SQR}{k}}{\\frac{SQE}{n-k-1}}$$\n",
    "\n",
    "Where,\n",
    "\n",
    "$SQR$ - sum of squares of the regression\n",
    "\n",
    "$SQE$ - sum of squares of errors\n",
    "\n",
    "$k$ - total independent variables ($X$)\n",
    "\n",
    "**$H_0$ rejection rules:**\n",
    "\n",
    "**Critical value criterion** $\\rightarrow$ Reject if $F \\geq F_{\\alpha}$\n",
    "\n",
    "Where,\n",
    "\n",
    "$F_{\\alpha}$ - is based on the F distribution with $k$ degrees of freedom in the numerator and $n-k-1$ in the denominator.\n",
    "\n",
    "**p-value criterion** $\\rightarrow$ Reject if $p-value \\leq \\alpha$"
   ]
  },
  {
   "cell_type": "markdown",
   "id": "b50bdc95-8282-4054-ab2c-0e31c85ed3c2",
   "metadata": {},
   "source": [
    "### Calculating the test statistic ($F$)"
   ]
  },
  {
   "cell_type": "code",
   "execution_count": 103,
   "id": "95a35997-012a-4f04-a383-167f38ef11bd",
   "metadata": {},
   "outputs": [
    {
     "data": {
      "text/html": [
       "1546.70196084825"
      ],
      "text/latex": [
       "1546.70196084825"
      ],
      "text/markdown": [
       "1546.70196084825"
      ],
      "text/plain": [
       "[1] 1546.702"
      ]
     },
     "metadata": {},
     "output_type": "display_data"
    }
   ],
   "source": [
    "F <- anova['X', 'Mean Sq'] / anova['Residuals', 'Mean Sq']\n",
    "F"
   ]
  },
  {
   "cell_type": "code",
   "execution_count": 104,
   "id": "2fbbc92f-a655-436c-93dd-7ce1f7a5e763",
   "metadata": {},
   "outputs": [
    {
     "data": {
      "text/html": [
       "1546.70196084825"
      ],
      "text/latex": [
       "1546.70196084825"
      ],
      "text/markdown": [
       "1546.70196084825"
      ],
      "text/plain": [
       "[1] 1546.702"
      ]
     },
     "metadata": {},
     "output_type": "display_data"
    }
   ],
   "source": [
    "anova['X', 'F value']"
   ]
  },
  {
   "cell_type": "markdown",
   "id": "8e273c48-e3c8-435f-b3f0-20725bf5dc8d",
   "metadata": {},
   "source": [
    "### Getting the p-value"
   ]
  },
  {
   "cell_type": "code",
   "execution_count": 105,
   "id": "0e444ddc-3bce-4d81-9711-3670134e898f",
   "metadata": {},
   "outputs": [
    {
     "data": {
      "text/html": [
       "3.55554322858604e-38"
      ],
      "text/latex": [
       "3.55554322858604e-38"
      ],
      "text/markdown": [
       "3.55554322858604e-38"
      ],
      "text/plain": [
       "[1] 3.555543e-38"
      ]
     },
     "metadata": {},
     "output_type": "display_data"
    }
   ],
   "source": [
    "p_value <- anova['X', 'Pr(>F)']\n",
    "p_value"
   ]
  },
  {
   "cell_type": "code",
   "execution_count": 106,
   "id": "be07411b-4f85-4a4e-9c44-7cee2729e382",
   "metadata": {},
   "outputs": [
    {
     "data": {
      "text/html": [
       "TRUE"
      ],
      "text/latex": [
       "TRUE"
      ],
      "text/markdown": [
       "TRUE"
      ],
      "text/plain": [
       "[1] TRUE"
      ]
     },
     "metadata": {},
     "output_type": "display_data"
    }
   ],
   "source": [
    "p_value <= meaningfulness"
   ]
  }
 ],
 "metadata": {
  "kernelspec": {
   "display_name": "R",
   "language": "R",
   "name": "ir"
  },
  "language_info": {
   "codemirror_mode": "r",
   "file_extension": ".r",
   "mimetype": "text/x-r-source",
   "name": "R",
   "pygments_lexer": "r",
   "version": "4.3.1"
  }
 },
 "nbformat": 4,
 "nbformat_minor": 5
}
