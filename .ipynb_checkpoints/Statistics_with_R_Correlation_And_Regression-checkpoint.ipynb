{
 "cells": [
  {
   "cell_type": "markdown",
   "id": "a38048a2-1cb2-4442-bd0c-095b9385d0ae",
   "metadata": {},
   "source": [
    "***\n",
    "# <font color='purple' size=10>Statistics With Language 'R':</font>\n",
    "# <font color='purple'>Correlation and Regression</font>\n",
    "***"
   ]
  },
  {
   "cell_type": "markdown",
   "id": "1539cf1e-e123-4e27-a5cd-8a77444f2ca0",
   "metadata": {},
   "source": [
    "# <font color='lightgreen'> Knowing The Data</font>\n",
    "***"
   ]
  },
  {
   "cell_type": "markdown",
   "id": "399aba15-9943-4772-87ab-06b3ad36d437",
   "metadata": {},
   "source": [
    "## <font color='lightgreen'> Project Dataset</font>\n",
    "***"
   ]
  },
  {
   "cell_type": "markdown",
   "id": "e9610da0-e1d3-4a0a-8467-8c556301aa59",
   "metadata": {},
   "source": [
    "### National Household Sample Survey - 2015\n",
    "\n",
    "The **National Household Sample Survey - PNAD** investigates annually, on a permanent basis, general characteristics of the population, education, work, income and housing and others, with variable frequency, according to the information needs of the country , such as features on migration, fertility, nuptiality, health, food security, among other topics. The survey of these statistics constitutes, over the 49 years of research, an important instrument for formulating, validating and evaluating policies aimed at socioeconomic development and improving living conditions in Brazil."
   ]
  },
  {
   "cell_type": "markdown",
   "id": "3b968a9c-58c5-4b24-934b-8fd874ed83cc",
   "metadata": {},
   "source": [
    "### Data Source\n",
    "\n",
    "https://ww2.ibge.gov.br/home/estatistica/populacao/trabalhoerendimento/pnad2015/microdados.shtm"
   ]
  },
  {
   "cell_type": "markdown",
   "id": "1005cb71-1121-428d-9afb-ef8900457dde",
   "metadata": {},
   "source": [
    "***\n",
    "### Variables used\n",
    "\n",
    "### Income\n",
    "***\n",
    "\n",
    "Monthly income from main job for people aged 10 or over.\n",
    "\n",
    "### Age\n",
    "***\n",
    "\n",
    "Age of the resident on the reference date in years.\n",
    "\n",
    "### Height (own elaboration)\n",
    "***\n",
    "\n",
    "Resident's height in meters.\n",
    "\n",
    "### UF\n",
    "***\n",
    "\n",
    "|Code|Description|\n",
    "|---|---|\n",
    "|11|Rondônia|\n",
    "|12|Acre|\n",
    "|13|Amazons|\n",
    "|14|Roraima|\n",
    "|15|Para|\n",
    "|16|Amapá|\n",
    "|17|Tocantins|\n",
    "|21|Maranhão|\n",
    "|22|Piauí|\n",
    "|23|Ceará|\n",
    "|24|Rio Grande do Norte|\n",
    "|25|Paraíba|\n",
    "|26|Pernambuco|\n",
    "|27|Alagoas|\n",
    "|28|Sergipe|\n",
    "|29|Bahia|\n",
    "|31|Minas Gerais|\n",
    "|32|Holy Spirit|\n",
    "|33|Rio de Janeiro|\n",
    "|35|São Paulo|\n",
    "|41|Paraná|\n",
    "|42|Santa Catarina|\n",
    "|43|Rio Grande do Sul|\n",
    "|50|Mato Grosso do Sul|\n",
    "|51|Mato Grosso|\n",
    "|52|Goiás|\n",
    "|53|Distrito Federal|\n",
    "\n",
    "### Sex\n",
    "***\n",
    "\n",
    "|Code|Description|\n",
    "|---|---|\n",
    "|0|Masculine|\n",
    "|1|Feminine|\n",
    "\n",
    "### Years of Study\n",
    "***\n",
    "\n",
    "|Code|Description|\n",
    "|---|---|\n",
    "|1|No education and less than 1 year|\n",
    "|2|1 year|\n",
    "|3|2 years|\n",
    "|4|3 years|\n",
    "|5|4 years|\n",
    "|6|5 years|\n",
    "|7|6 years|\n",
    "|8|7 years|\n",
    "|9|8 years|\n",
    "|10|9 years|\n",
    "|11|10 years|\n",
    "|12|11 years|\n",
    "|13|12 years old|\n",
    "|14|13 years old|\n",
    "|15|14 years old|\n",
    "|16|15 years or more|\n",
    "|17|Not determined|\n",
    "||Not applicable|\n",
    "\n",
    "### Color\n",
    "***\n",
    "\n",
    "|Code|Description|\n",
    "|---|---|\n",
    "|0|Indigenous|\n",
    "|2|White|\n",
    "|4|Black|\n",
    "|6|Yellow|\n",
    "|8|Brown|\n",
    "|9|No statement|"
   ]
  },
  {
   "cell_type": "markdown",
   "id": "18860088-32a8-487b-bd70-0208c37b2da8",
   "metadata": {},
   "source": [
    "***\n",
    "## <font color='purple'>Imports:</font>\n",
    "***"
   ]
  },
  {
   "cell_type": "code",
   "execution_count": 10,
   "id": "8a56ec8d-b8e9-4f0d-9d31-59de0ea1873a",
   "metadata": {},
   "outputs": [],
   "source": [
    "library(ggplot2)\n",
    "library(dplyr)\n",
    "library(DescTools)\n",
    "library(BSDA)"
   ]
  },
  {
   "cell_type": "markdown",
   "id": "505912f1-0585-4145-b93d-221ab246e1b9",
   "metadata": {},
   "source": [
    "***\n",
    "### <font color='purple'>Configs:</font>\n",
    "***"
   ]
  },
  {
   "cell_type": "code",
   "execution_count": 11,
   "id": "28148301-67bc-40b9-8670-6e583be9601e",
   "metadata": {},
   "outputs": [],
   "source": [
    "options(repr.plot.width = 12, repr.plot.height = 6)"
   ]
  },
  {
   "cell_type": "markdown",
   "id": "721d1c24-5264-4ac2-9a8d-1c284403909f",
   "metadata": {},
   "source": [
    "***\n",
    "## <font color='lightgreen'>Loading Project Dataset:</font>\n",
    "***"
   ]
  },
  {
   "cell_type": "code",
   "execution_count": 12,
   "id": "e1c764a0-4013-4842-8330-859e1e8c4e32",
   "metadata": {},
   "outputs": [],
   "source": [
    "dataset <- read.csv('dataset_IBGE.csv')"
   ]
  },
  {
   "cell_type": "code",
   "execution_count": 13,
   "id": "edfa0809-50e3-4abb-acee-fecdced27e12",
   "metadata": {},
   "outputs": [
    {
     "data": {
      "text/html": [
       "<table class=\"dataframe\">\n",
       "<caption>A data.frame: 6 × 7</caption>\n",
       "<thead>\n",
       "\t<tr><th></th><th scope=col>UF</th><th scope=col>Sex</th><th scope=col>Age</th><th scope=col>Color</th><th scope=col>Years.of.Studies</th><th scope=col>Income</th><th scope=col>Height</th></tr>\n",
       "\t<tr><th></th><th scope=col>&lt;int&gt;</th><th scope=col>&lt;int&gt;</th><th scope=col>&lt;int&gt;</th><th scope=col>&lt;int&gt;</th><th scope=col>&lt;int&gt;</th><th scope=col>&lt;int&gt;</th><th scope=col>&lt;dbl&gt;</th></tr>\n",
       "</thead>\n",
       "<tbody>\n",
       "\t<tr><th scope=row>1</th><td>11</td><td>0</td><td>23</td><td>8</td><td>12</td><td> 800</td><td>1.603808</td></tr>\n",
       "\t<tr><th scope=row>2</th><td>11</td><td>1</td><td>23</td><td>2</td><td>12</td><td>1150</td><td>1.739790</td></tr>\n",
       "\t<tr><th scope=row>3</th><td>11</td><td>1</td><td>35</td><td>8</td><td>15</td><td> 880</td><td>1.760444</td></tr>\n",
       "\t<tr><th scope=row>4</th><td>11</td><td>0</td><td>46</td><td>2</td><td> 6</td><td>3500</td><td>1.783158</td></tr>\n",
       "\t<tr><th scope=row>5</th><td>11</td><td>1</td><td>47</td><td>8</td><td> 9</td><td> 150</td><td>1.690631</td></tr>\n",
       "\t<tr><th scope=row>6</th><td>11</td><td>1</td><td>34</td><td>8</td><td>12</td><td> 790</td><td>1.637906</td></tr>\n",
       "</tbody>\n",
       "</table>\n"
      ],
      "text/latex": [
       "A data.frame: 6 × 7\n",
       "\\begin{tabular}{r|lllllll}\n",
       "  & UF & Sex & Age & Color & Years.of.Studies & Income & Height\\\\\n",
       "  & <int> & <int> & <int> & <int> & <int> & <int> & <dbl>\\\\\n",
       "\\hline\n",
       "\t1 & 11 & 0 & 23 & 8 & 12 &  800 & 1.603808\\\\\n",
       "\t2 & 11 & 1 & 23 & 2 & 12 & 1150 & 1.739790\\\\\n",
       "\t3 & 11 & 1 & 35 & 8 & 15 &  880 & 1.760444\\\\\n",
       "\t4 & 11 & 0 & 46 & 2 &  6 & 3500 & 1.783158\\\\\n",
       "\t5 & 11 & 1 & 47 & 8 &  9 &  150 & 1.690631\\\\\n",
       "\t6 & 11 & 1 & 34 & 8 & 12 &  790 & 1.637906\\\\\n",
       "\\end{tabular}\n"
      ],
      "text/markdown": [
       "\n",
       "A data.frame: 6 × 7\n",
       "\n",
       "| <!--/--> | UF &lt;int&gt; | Sex &lt;int&gt; | Age &lt;int&gt; | Color &lt;int&gt; | Years.of.Studies &lt;int&gt; | Income &lt;int&gt; | Height &lt;dbl&gt; |\n",
       "|---|---|---|---|---|---|---|---|\n",
       "| 1 | 11 | 0 | 23 | 8 | 12 |  800 | 1.603808 |\n",
       "| 2 | 11 | 1 | 23 | 2 | 12 | 1150 | 1.739790 |\n",
       "| 3 | 11 | 1 | 35 | 8 | 15 |  880 | 1.760444 |\n",
       "| 4 | 11 | 0 | 46 | 2 |  6 | 3500 | 1.783158 |\n",
       "| 5 | 11 | 1 | 47 | 8 |  9 |  150 | 1.690631 |\n",
       "| 6 | 11 | 1 | 34 | 8 | 12 |  790 | 1.637906 |\n",
       "\n"
      ],
      "text/plain": [
       "  UF Sex Age Color Years.of.Studies Income Height  \n",
       "1 11 0   23  8     12                800   1.603808\n",
       "2 11 1   23  2     12               1150   1.739790\n",
       "3 11 1   35  8     15                880   1.760444\n",
       "4 11 0   46  2      6               3500   1.783158\n",
       "5 11 1   47  8      9                150   1.690631\n",
       "6 11 1   34  8     12                790   1.637906"
      ]
     },
     "metadata": {},
     "output_type": "display_data"
    }
   ],
   "source": [
    "head(dataset)"
   ]
  },
  {
   "cell_type": "markdown",
   "id": "c4fc9499-db91-4294-a34b-7c6e780c1706",
   "metadata": {},
   "source": [
    "***\n",
    "## <font color='lightgreen'>Running a Linear Regression\n",
    "***"
   ]
  },
  {
   "cell_type": "markdown",
   "id": "c326d26a-d074-4c0f-b639-17b5139d75d2",
   "metadata": {},
   "source": [
    "## Example dataset\n",
    "> ### $Y$ = Household spending\n",
    "> ### $X$ = Household Income"
   ]
  },
  {
   "cell_type": "code",
   "execution_count": 14,
   "id": "32492f1e-fe90-49bf-b6d1-de59c356efcc",
   "metadata": {},
   "outputs": [],
   "source": [
    "dataset_regression = data.frame(\n",
    "    Y = c(3011, 1305, 1879, 2654, 2849, 1068, 2892, 2543, 3074, 849, 2184, 2943, 1357, 2755, 2163, 3099, 1600, 353, 1778, 740, 2129, 3302, 2412, 2683, 2515, 2395, 2292, 1000, 600, 1864, 3027, 1978, 2791, 1982, 900, 1964, 1247, 3067, 700, 1500, 3110, 2644, 1378, 2601, 501, 1292, 2125, 1431, 2260, 1770),\n",
    "    X = c(9714, 3728, 6062, 8845, 8378, 3338, 8507, 7947, 9915, 1632, 6825, 8918, 4100, 9184, 6180, 9997, 4500, 1069, 5925, 2466, 6083, 9712, 7780, 8383, 7185, 7483, 7640, 2100, 2000, 6012, 8902, 5345, 8210, 5662, 2700, 6546, 2900, 9894, 1500, 5000, 8885, 8813, 3446, 7881, 1164, 3401, 6641, 3329, 6648, 4800)\n",
    ")"
   ]
  },
  {
   "cell_type": "code",
   "execution_count": 15,
   "id": "85fcb1a2-e9d9-4232-83d7-2b2af04f5db3",
   "metadata": {},
   "outputs": [
    {
     "data": {
      "text/html": [
       "<table class=\"dataframe\">\n",
       "<caption>A data.frame: 6 × 2</caption>\n",
       "<thead>\n",
       "\t<tr><th></th><th scope=col>Y</th><th scope=col>X</th></tr>\n",
       "\t<tr><th></th><th scope=col>&lt;dbl&gt;</th><th scope=col>&lt;dbl&gt;</th></tr>\n",
       "</thead>\n",
       "<tbody>\n",
       "\t<tr><th scope=row>1</th><td>3011</td><td>9714</td></tr>\n",
       "\t<tr><th scope=row>2</th><td>1305</td><td>3728</td></tr>\n",
       "\t<tr><th scope=row>3</th><td>1879</td><td>6062</td></tr>\n",
       "\t<tr><th scope=row>4</th><td>2654</td><td>8845</td></tr>\n",
       "\t<tr><th scope=row>5</th><td>2849</td><td>8378</td></tr>\n",
       "\t<tr><th scope=row>6</th><td>1068</td><td>3338</td></tr>\n",
       "</tbody>\n",
       "</table>\n"
      ],
      "text/latex": [
       "A data.frame: 6 × 2\n",
       "\\begin{tabular}{r|ll}\n",
       "  & Y & X\\\\\n",
       "  & <dbl> & <dbl>\\\\\n",
       "\\hline\n",
       "\t1 & 3011 & 9714\\\\\n",
       "\t2 & 1305 & 3728\\\\\n",
       "\t3 & 1879 & 6062\\\\\n",
       "\t4 & 2654 & 8845\\\\\n",
       "\t5 & 2849 & 8378\\\\\n",
       "\t6 & 1068 & 3338\\\\\n",
       "\\end{tabular}\n"
      ],
      "text/markdown": [
       "\n",
       "A data.frame: 6 × 2\n",
       "\n",
       "| <!--/--> | Y &lt;dbl&gt; | X &lt;dbl&gt; |\n",
       "|---|---|---|\n",
       "| 1 | 3011 | 9714 |\n",
       "| 2 | 1305 | 3728 |\n",
       "| 3 | 1879 | 6062 |\n",
       "| 4 | 2654 | 8845 |\n",
       "| 5 | 2849 | 8378 |\n",
       "| 6 | 1068 | 3338 |\n",
       "\n"
      ],
      "text/plain": [
       "  Y    X   \n",
       "1 3011 9714\n",
       "2 1305 3728\n",
       "3 1879 6062\n",
       "4 2654 8845\n",
       "5 2849 8378\n",
       "6 1068 3338"
      ]
     },
     "metadata": {},
     "output_type": "display_data"
    }
   ],
   "source": [
    "head(dataset_regression)"
   ]
  },
  {
   "cell_type": "code",
   "execution_count": 16,
   "id": "3e57b44f-8ad6-4c52-8344-307486cddbe5",
   "metadata": {},
   "outputs": [
    {
     "data": {
      "text/html": [
       "50"
      ],
      "text/latex": [
       "50"
      ],
      "text/markdown": [
       "50"
      ],
      "text/plain": [
       "[1] 50"
      ]
     },
     "metadata": {},
     "output_type": "display_data"
    }
   ],
   "source": [
    "nrow(dataset_regression)"
   ]
  },
  {
   "cell_type": "markdown",
   "id": "d67bdab2-8f06-416f-b62c-612ad6e0427f",
   "metadata": {},
   "source": [
    "## Descriptive Statistics"
   ]
  },
  {
   "cell_type": "code",
   "execution_count": 17,
   "id": "a886d0b5-991d-415e-8dbf-548a6674d766",
   "metadata": {},
   "outputs": [
    {
     "data": {
      "text/plain": [
       "       Y              X       \n",
       " Min.   : 353   Min.   :1069  \n",
       " 1st Qu.:1362   1st Qu.:3516  \n",
       " Median :2127   Median :6363  \n",
       " Mean   :2011   Mean   :6066  \n",
       " 3rd Qu.:2676   3rd Qu.:8382  \n",
       " Max.   :3302   Max.   :9997  "
      ]
     },
     "metadata": {},
     "output_type": "display_data"
    }
   ],
   "source": [
    "summary(dataset_regression)"
   ]
  },
  {
   "cell_type": "code",
   "execution_count": 18,
   "id": "b264ce72-0c37-4c5f-83e7-d98fbddf81f4",
   "metadata": {},
   "outputs": [
    {
     "data": {
      "text/html": [
       "<style>\n",
       ".dl-inline {width: auto; margin:0; padding: 0}\n",
       ".dl-inline>dt, .dl-inline>dd {float: none; width: auto; display: inline-block}\n",
       ".dl-inline>dt::after {content: \":\\0020\"; padding-right: .5ex}\n",
       ".dl-inline>dt:not(:first-of-type) {padding-left: .5ex}\n",
       "</style><dl class=dl-inline><dt>Y</dt><dd>817.214648195007</dd><dt>X</dt><dd>2707.18781153779</dd></dl>\n"
      ],
      "text/latex": [
       "\\begin{description*}\n",
       "\\item[Y] 817.214648195007\n",
       "\\item[X] 2707.18781153779\n",
       "\\end{description*}\n"
      ],
      "text/markdown": [
       "Y\n",
       ":   817.214648195007X\n",
       ":   2707.18781153779\n",
       "\n"
      ],
      "text/plain": [
       "        Y         X \n",
       " 817.2146 2707.1878 "
      ]
     },
     "metadata": {},
     "output_type": "display_data"
    }
   ],
   "source": [
    "apply(dataset_regression, 2, sd)"
   ]
  },
  {
   "cell_type": "markdown",
   "id": "ff747671-d257-401e-a133-1f6f6f934395",
   "metadata": {},
   "source": [
    "## Graphical Analysis"
   ]
  },
  {
   "cell_type": "code",
   "execution_count": 19,
   "id": "9aa42120-1595-4e6f-aed0-abf91f60629a",
   "metadata": {},
   "outputs": [
    {
     "data": {
      "text/html": [
       "<table class=\"dataframe\">\n",
       "<caption>A data.frame: 100 × 2</caption>\n",
       "<thead>\n",
       "\t<tr><th scope=col>values</th><th scope=col>ind</th></tr>\n",
       "\t<tr><th scope=col>&lt;dbl&gt;</th><th scope=col>&lt;fct&gt;</th></tr>\n",
       "</thead>\n",
       "<tbody>\n",
       "\t<tr><td>3011</td><td>Y</td></tr>\n",
       "\t<tr><td>1305</td><td>Y</td></tr>\n",
       "\t<tr><td>1879</td><td>Y</td></tr>\n",
       "\t<tr><td>2654</td><td>Y</td></tr>\n",
       "\t<tr><td>2849</td><td>Y</td></tr>\n",
       "\t<tr><td>1068</td><td>Y</td></tr>\n",
       "\t<tr><td>2892</td><td>Y</td></tr>\n",
       "\t<tr><td>2543</td><td>Y</td></tr>\n",
       "\t<tr><td>3074</td><td>Y</td></tr>\n",
       "\t<tr><td> 849</td><td>Y</td></tr>\n",
       "\t<tr><td>2184</td><td>Y</td></tr>\n",
       "\t<tr><td>2943</td><td>Y</td></tr>\n",
       "\t<tr><td>1357</td><td>Y</td></tr>\n",
       "\t<tr><td>2755</td><td>Y</td></tr>\n",
       "\t<tr><td>2163</td><td>Y</td></tr>\n",
       "\t<tr><td>3099</td><td>Y</td></tr>\n",
       "\t<tr><td>1600</td><td>Y</td></tr>\n",
       "\t<tr><td> 353</td><td>Y</td></tr>\n",
       "\t<tr><td>1778</td><td>Y</td></tr>\n",
       "\t<tr><td> 740</td><td>Y</td></tr>\n",
       "\t<tr><td>2129</td><td>Y</td></tr>\n",
       "\t<tr><td>3302</td><td>Y</td></tr>\n",
       "\t<tr><td>2412</td><td>Y</td></tr>\n",
       "\t<tr><td>2683</td><td>Y</td></tr>\n",
       "\t<tr><td>2515</td><td>Y</td></tr>\n",
       "\t<tr><td>2395</td><td>Y</td></tr>\n",
       "\t<tr><td>2292</td><td>Y</td></tr>\n",
       "\t<tr><td>1000</td><td>Y</td></tr>\n",
       "\t<tr><td> 600</td><td>Y</td></tr>\n",
       "\t<tr><td>1864</td><td>Y</td></tr>\n",
       "\t<tr><td>⋮</td><td>⋮</td></tr>\n",
       "\t<tr><td>6083</td><td>X</td></tr>\n",
       "\t<tr><td>9712</td><td>X</td></tr>\n",
       "\t<tr><td>7780</td><td>X</td></tr>\n",
       "\t<tr><td>8383</td><td>X</td></tr>\n",
       "\t<tr><td>7185</td><td>X</td></tr>\n",
       "\t<tr><td>7483</td><td>X</td></tr>\n",
       "\t<tr><td>7640</td><td>X</td></tr>\n",
       "\t<tr><td>2100</td><td>X</td></tr>\n",
       "\t<tr><td>2000</td><td>X</td></tr>\n",
       "\t<tr><td>6012</td><td>X</td></tr>\n",
       "\t<tr><td>8902</td><td>X</td></tr>\n",
       "\t<tr><td>5345</td><td>X</td></tr>\n",
       "\t<tr><td>8210</td><td>X</td></tr>\n",
       "\t<tr><td>5662</td><td>X</td></tr>\n",
       "\t<tr><td>2700</td><td>X</td></tr>\n",
       "\t<tr><td>6546</td><td>X</td></tr>\n",
       "\t<tr><td>2900</td><td>X</td></tr>\n",
       "\t<tr><td>9894</td><td>X</td></tr>\n",
       "\t<tr><td>1500</td><td>X</td></tr>\n",
       "\t<tr><td>5000</td><td>X</td></tr>\n",
       "\t<tr><td>8885</td><td>X</td></tr>\n",
       "\t<tr><td>8813</td><td>X</td></tr>\n",
       "\t<tr><td>3446</td><td>X</td></tr>\n",
       "\t<tr><td>7881</td><td>X</td></tr>\n",
       "\t<tr><td>1164</td><td>X</td></tr>\n",
       "\t<tr><td>3401</td><td>X</td></tr>\n",
       "\t<tr><td>6641</td><td>X</td></tr>\n",
       "\t<tr><td>3329</td><td>X</td></tr>\n",
       "\t<tr><td>6648</td><td>X</td></tr>\n",
       "\t<tr><td>4800</td><td>X</td></tr>\n",
       "</tbody>\n",
       "</table>\n"
      ],
      "text/latex": [
       "A data.frame: 100 × 2\n",
       "\\begin{tabular}{ll}\n",
       " values & ind\\\\\n",
       " <dbl> & <fct>\\\\\n",
       "\\hline\n",
       "\t 3011 & Y\\\\\n",
       "\t 1305 & Y\\\\\n",
       "\t 1879 & Y\\\\\n",
       "\t 2654 & Y\\\\\n",
       "\t 2849 & Y\\\\\n",
       "\t 1068 & Y\\\\\n",
       "\t 2892 & Y\\\\\n",
       "\t 2543 & Y\\\\\n",
       "\t 3074 & Y\\\\\n",
       "\t  849 & Y\\\\\n",
       "\t 2184 & Y\\\\\n",
       "\t 2943 & Y\\\\\n",
       "\t 1357 & Y\\\\\n",
       "\t 2755 & Y\\\\\n",
       "\t 2163 & Y\\\\\n",
       "\t 3099 & Y\\\\\n",
       "\t 1600 & Y\\\\\n",
       "\t  353 & Y\\\\\n",
       "\t 1778 & Y\\\\\n",
       "\t  740 & Y\\\\\n",
       "\t 2129 & Y\\\\\n",
       "\t 3302 & Y\\\\\n",
       "\t 2412 & Y\\\\\n",
       "\t 2683 & Y\\\\\n",
       "\t 2515 & Y\\\\\n",
       "\t 2395 & Y\\\\\n",
       "\t 2292 & Y\\\\\n",
       "\t 1000 & Y\\\\\n",
       "\t  600 & Y\\\\\n",
       "\t 1864 & Y\\\\\n",
       "\t ⋮ & ⋮\\\\\n",
       "\t 6083 & X\\\\\n",
       "\t 9712 & X\\\\\n",
       "\t 7780 & X\\\\\n",
       "\t 8383 & X\\\\\n",
       "\t 7185 & X\\\\\n",
       "\t 7483 & X\\\\\n",
       "\t 7640 & X\\\\\n",
       "\t 2100 & X\\\\\n",
       "\t 2000 & X\\\\\n",
       "\t 6012 & X\\\\\n",
       "\t 8902 & X\\\\\n",
       "\t 5345 & X\\\\\n",
       "\t 8210 & X\\\\\n",
       "\t 5662 & X\\\\\n",
       "\t 2700 & X\\\\\n",
       "\t 6546 & X\\\\\n",
       "\t 2900 & X\\\\\n",
       "\t 9894 & X\\\\\n",
       "\t 1500 & X\\\\\n",
       "\t 5000 & X\\\\\n",
       "\t 8885 & X\\\\\n",
       "\t 8813 & X\\\\\n",
       "\t 3446 & X\\\\\n",
       "\t 7881 & X\\\\\n",
       "\t 1164 & X\\\\\n",
       "\t 3401 & X\\\\\n",
       "\t 6641 & X\\\\\n",
       "\t 3329 & X\\\\\n",
       "\t 6648 & X\\\\\n",
       "\t 4800 & X\\\\\n",
       "\\end{tabular}\n"
      ],
      "text/markdown": [
       "\n",
       "A data.frame: 100 × 2\n",
       "\n",
       "| values &lt;dbl&gt; | ind &lt;fct&gt; |\n",
       "|---|---|\n",
       "| 3011 | Y |\n",
       "| 1305 | Y |\n",
       "| 1879 | Y |\n",
       "| 2654 | Y |\n",
       "| 2849 | Y |\n",
       "| 1068 | Y |\n",
       "| 2892 | Y |\n",
       "| 2543 | Y |\n",
       "| 3074 | Y |\n",
       "|  849 | Y |\n",
       "| 2184 | Y |\n",
       "| 2943 | Y |\n",
       "| 1357 | Y |\n",
       "| 2755 | Y |\n",
       "| 2163 | Y |\n",
       "| 3099 | Y |\n",
       "| 1600 | Y |\n",
       "|  353 | Y |\n",
       "| 1778 | Y |\n",
       "|  740 | Y |\n",
       "| 2129 | Y |\n",
       "| 3302 | Y |\n",
       "| 2412 | Y |\n",
       "| 2683 | Y |\n",
       "| 2515 | Y |\n",
       "| 2395 | Y |\n",
       "| 2292 | Y |\n",
       "| 1000 | Y |\n",
       "|  600 | Y |\n",
       "| 1864 | Y |\n",
       "| ⋮ | ⋮ |\n",
       "| 6083 | X |\n",
       "| 9712 | X |\n",
       "| 7780 | X |\n",
       "| 8383 | X |\n",
       "| 7185 | X |\n",
       "| 7483 | X |\n",
       "| 7640 | X |\n",
       "| 2100 | X |\n",
       "| 2000 | X |\n",
       "| 6012 | X |\n",
       "| 8902 | X |\n",
       "| 5345 | X |\n",
       "| 8210 | X |\n",
       "| 5662 | X |\n",
       "| 2700 | X |\n",
       "| 6546 | X |\n",
       "| 2900 | X |\n",
       "| 9894 | X |\n",
       "| 1500 | X |\n",
       "| 5000 | X |\n",
       "| 8885 | X |\n",
       "| 8813 | X |\n",
       "| 3446 | X |\n",
       "| 7881 | X |\n",
       "| 1164 | X |\n",
       "| 3401 | X |\n",
       "| 6641 | X |\n",
       "| 3329 | X |\n",
       "| 6648 | X |\n",
       "| 4800 | X |\n",
       "\n"
      ],
      "text/plain": [
       "    values ind\n",
       "1   3011   Y  \n",
       "2   1305   Y  \n",
       "3   1879   Y  \n",
       "4   2654   Y  \n",
       "5   2849   Y  \n",
       "6   1068   Y  \n",
       "7   2892   Y  \n",
       "8   2543   Y  \n",
       "9   3074   Y  \n",
       "10   849   Y  \n",
       "11  2184   Y  \n",
       "12  2943   Y  \n",
       "13  1357   Y  \n",
       "14  2755   Y  \n",
       "15  2163   Y  \n",
       "16  3099   Y  \n",
       "17  1600   Y  \n",
       "18   353   Y  \n",
       "19  1778   Y  \n",
       "20   740   Y  \n",
       "21  2129   Y  \n",
       "22  3302   Y  \n",
       "23  2412   Y  \n",
       "24  2683   Y  \n",
       "25  2515   Y  \n",
       "26  2395   Y  \n",
       "27  2292   Y  \n",
       "28  1000   Y  \n",
       "29   600   Y  \n",
       "30  1864   Y  \n",
       "⋮   ⋮      ⋮  \n",
       "71  6083   X  \n",
       "72  9712   X  \n",
       "73  7780   X  \n",
       "74  8383   X  \n",
       "75  7185   X  \n",
       "76  7483   X  \n",
       "77  7640   X  \n",
       "78  2100   X  \n",
       "79  2000   X  \n",
       "80  6012   X  \n",
       "81  8902   X  \n",
       "82  5345   X  \n",
       "83  8210   X  \n",
       "84  5662   X  \n",
       "85  2700   X  \n",
       "86  6546   X  \n",
       "87  2900   X  \n",
       "88  9894   X  \n",
       "89  1500   X  \n",
       "90  5000   X  \n",
       "91  8885   X  \n",
       "92  8813   X  \n",
       "93  3446   X  \n",
       "94  7881   X  \n",
       "95  1164   X  \n",
       "96  3401   X  \n",
       "97  6641   X  \n",
       "98  3329   X  \n",
       "99  6648   X  \n",
       "100 4800   X  "
      ]
     },
     "metadata": {},
     "output_type": "display_data"
    }
   ],
   "source": [
    "stack(dataset_regression)"
   ]
  },
  {
   "cell_type": "code",
   "execution_count": 26,
   "id": "eb388a60-d656-43b6-a95a-493080ae46a3",
   "metadata": {},
   "outputs": [
    {
     "data": {
      "image/png": "[encoded data removed]",
      "text/plain": [
       "plot without title"
      ]
     },
     "metadata": {
      "image/png": {
       "height": 360,
       "width": 720
      }
     },
     "output_type": "display_data"
    }
   ],
   "source": [
    "ggplot(stack(dataset_regression), aes(x = ind, y = values))+\n",
    "    stat_boxplot(geom = 'errorbar', width = 0.4)+\n",
    "    geom_boxplot(fill = c('#3274A1', 'orange'))+\n",
    "    coord_flip()+\n",
    "    xlab('Variables')+\n",
    "    ylab('Reias ($)')+\n",
    "    ggtitle('BoxPlot')+\n",
    "    theme(\n",
    "        plot.title = element_text(size = 14, hjust = 0.5),\n",
    "        axis.title.y = element_text(size = 12, vjust = 0.2),\n",
    "        axis.title.x = element_text(size = 12, vjust = -0.2),\n",
    "        axis.text.y = element_text(size = 10),\n",
    "        axis.text.x = element_text(size = 10)\n",
    "    )"
   ]
  },
  {
   "cell_type": "code",
   "execution_count": 28,
   "id": "55aad8c1-b788-49d5-8884-461617875bc9",
   "metadata": {},
   "outputs": [
    {
     "data": {
      "image/png": "[encoded data removed]",
      "text/plain": [
       "plot without title"
      ]
     },
     "metadata": {
      "image/png": {
       "height": 360,
       "width": 720
      }
     },
     "output_type": "display_data"
    }
   ],
   "source": [
    "ggplot(data = dataset_regression, aes(x = X, y = Y))+\n",
    "    geom_point(size = 2, stroke = 0)+\n",
    "    geom_smooth(method = lm, formula = 'y ~ x')+\n",
    "    xlab('Family Income')+\n",
    "    ylab('Family Expenses')+\n",
    "    ggtitle('Regression: Income x Expenses')+\n",
    "     theme(\n",
    "        plot.title = element_text(size = 14, hjust = 0.5),\n",
    "        axis.title.y = element_text(size = 12, vjust = 0.2),\n",
    "        axis.title.x = element_text(size = 12, vjust = -0.2),\n",
    "        axis.text.y = element_text(size = 10),\n",
    "        axis.text.x = element_text(size = 10)\n",
    "    )"
   ]
  },
  {
   "cell_type": "markdown",
   "id": "9a9b32db-0e46-4f53-a77a-6513d580fbe9",
   "metadata": {},
   "source": [
    "### Correlation Analysis"
   ]
  },
  {
   "cell_type": "code",
   "execution_count": 29,
   "id": "b29eded2-1942-402d-b72f-e63ffbecd9e6",
   "metadata": {},
   "outputs": [
    {
     "data": {
      "text/html": [
       "<table class=\"dataframe\">\n",
       "<caption>A matrix: 2 × 2 of type dbl</caption>\n",
       "<thead>\n",
       "\t<tr><th></th><th scope=col>Y</th><th scope=col>X</th></tr>\n",
       "</thead>\n",
       "<tbody>\n",
       "\t<tr><th scope=row>Y</th><td>1.0000000</td><td>0.9848352</td></tr>\n",
       "\t<tr><th scope=row>X</th><td>0.9848352</td><td>1.0000000</td></tr>\n",
       "</tbody>\n",
       "</table>\n"
      ],
      "text/latex": [
       "A matrix: 2 × 2 of type dbl\n",
       "\\begin{tabular}{r|ll}\n",
       "  & Y & X\\\\\n",
       "\\hline\n",
       "\tY & 1.0000000 & 0.9848352\\\\\n",
       "\tX & 0.9848352 & 1.0000000\\\\\n",
       "\\end{tabular}\n"
      ],
      "text/markdown": [
       "\n",
       "A matrix: 2 × 2 of type dbl\n",
       "\n",
       "| <!--/--> | Y | X |\n",
       "|---|---|---|\n",
       "| Y | 1.0000000 | 0.9848352 |\n",
       "| X | 0.9848352 | 1.0000000 |\n",
       "\n"
      ],
      "text/plain": [
       "  Y         X        \n",
       "Y 1.0000000 0.9848352\n",
       "X 0.9848352 1.0000000"
      ]
     },
     "metadata": {},
     "output_type": "display_data"
    }
   ],
   "source": [
    "cor(dataset_regression)"
   ]
  },
  {
   "cell_type": "markdown",
   "id": "7c26f379-f447-4d56-a672-62470a7994ce",
   "metadata": {},
   "source": [
    "### Linear Regression Model"
   ]
  },
  {
   "cell_type": "code",
   "execution_count": 31,
   "id": "c2b2572a-bdfe-433e-a3f7-3f3eeb25ea0e",
   "metadata": {},
   "outputs": [
    {
     "data": {
      "text/plain": [
       "\n",
       "Call:\n",
       "lm(formula = Y ~ X, data = dataset_regression)\n",
       "\n",
       "Coefficients:\n",
       "(Intercept)            X  \n",
       "   207.9033       0.2973  \n"
      ]
     },
     "metadata": {},
     "output_type": "display_data"
    }
   ],
   "source": [
    "model_regression <- lm(formula = Y ~ X, data = dataset_regression)\n",
    "model_regression"
   ]
  },
  {
   "cell_type": "code",
   "execution_count": 32,
   "id": "9e0c6dfd-6bfb-422c-b80c-6d7f210a9295",
   "metadata": {},
   "outputs": [
    {
     "data": {
      "text/plain": [
       "\n",
       "Call:\n",
       "lm(formula = Y ~ X, data = dataset_regression)\n",
       "\n",
       "Residuals:\n",
       "    Min      1Q  Median      3Q     Max \n",
       "-202.49 -125.96  -22.28  140.53  260.67 \n",
       "\n",
       "Coefficients:\n",
       "             Estimate Std. Error t value Pr(>|t|)    \n",
       "(Intercept) 2.079e+02  5.013e+01   4.148 0.000136 ***\n",
       "X           2.973e-01  7.559e-03  39.328  < 2e-16 ***\n",
       "---\n",
       "Signif. codes:  0 ‘***’ 0.001 ‘**’ 0.01 ‘*’ 0.05 ‘.’ 0.1 ‘ ’ 1\n",
       "\n",
       "Residual standard error: 143.2 on 48 degrees of freedom\n",
       "Multiple R-squared:  0.9699,\tAdjusted R-squared:  0.9693 \n",
       "F-statistic:  1547 on 1 and 48 DF,  p-value: < 2.2e-16\n"
      ]
     },
     "metadata": {},
     "output_type": "display_data"
    }
   ],
   "source": [
    "summary(model_regression)"
   ]
  },
  {
   "cell_type": "markdown",
   "id": "9965eabb-a240-4c6d-b10d-36415db5145e",
   "metadata": {},
   "source": [
    "### Getting the in-sample predictions"
   ]
  },
  {
   "cell_type": "code",
   "execution_count": 35,
   "id": "28f2073b-14b5-4e42-a609-ad8945bc86b0",
   "metadata": {},
   "outputs": [
    {
     "data": {
      "text/html": [
       "<table class=\"dataframe\">\n",
       "<caption>A data.frame: 6 × 3</caption>\n",
       "<thead>\n",
       "\t<tr><th></th><th scope=col>Y</th><th scope=col>X</th><th scope=col>Y_estimated</th></tr>\n",
       "\t<tr><th></th><th scope=col>&lt;dbl&gt;</th><th scope=col>&lt;dbl&gt;</th><th scope=col>&lt;dbl&gt;</th></tr>\n",
       "</thead>\n",
       "<tbody>\n",
       "\t<tr><th scope=row>1</th><td>3011</td><td>9714</td><td>3095.785</td></tr>\n",
       "\t<tr><th scope=row>2</th><td>1305</td><td>3728</td><td>1316.203</td></tr>\n",
       "\t<tr><th scope=row>3</th><td>1879</td><td>6062</td><td>2010.079</td></tr>\n",
       "\t<tr><th scope=row>4</th><td>2654</td><td>8845</td><td>2837.439</td></tr>\n",
       "\t<tr><th scope=row>5</th><td>2849</td><td>8378</td><td>2698.605</td></tr>\n",
       "\t<tr><th scope=row>6</th><td>1068</td><td>3338</td><td>1200.260</td></tr>\n",
       "</tbody>\n",
       "</table>\n"
      ],
      "text/latex": [
       "A data.frame: 6 × 3\n",
       "\\begin{tabular}{r|lll}\n",
       "  & Y & X & Y\\_estimated\\\\\n",
       "  & <dbl> & <dbl> & <dbl>\\\\\n",
       "\\hline\n",
       "\t1 & 3011 & 9714 & 3095.785\\\\\n",
       "\t2 & 1305 & 3728 & 1316.203\\\\\n",
       "\t3 & 1879 & 6062 & 2010.079\\\\\n",
       "\t4 & 2654 & 8845 & 2837.439\\\\\n",
       "\t5 & 2849 & 8378 & 2698.605\\\\\n",
       "\t6 & 1068 & 3338 & 1200.260\\\\\n",
       "\\end{tabular}\n"
      ],
      "text/markdown": [
       "\n",
       "A data.frame: 6 × 3\n",
       "\n",
       "| <!--/--> | Y &lt;dbl&gt; | X &lt;dbl&gt; | Y_estimated &lt;dbl&gt; |\n",
       "|---|---|---|---|\n",
       "| 1 | 3011 | 9714 | 3095.785 |\n",
       "| 2 | 1305 | 3728 | 1316.203 |\n",
       "| 3 | 1879 | 6062 | 2010.079 |\n",
       "| 4 | 2654 | 8845 | 2837.439 |\n",
       "| 5 | 2849 | 8378 | 2698.605 |\n",
       "| 6 | 1068 | 3338 | 1200.260 |\n",
       "\n"
      ],
      "text/plain": [
       "  Y    X    Y_estimated\n",
       "1 3011 9714 3095.785   \n",
       "2 1305 3728 1316.203   \n",
       "3 1879 6062 2010.079   \n",
       "4 2654 8845 2837.439   \n",
       "5 2849 8378 2698.605   \n",
       "6 1068 3338 1200.260   "
      ]
     },
     "metadata": {},
     "output_type": "display_data"
    }
   ],
   "source": [
    "dataset_regression['Y_estimated'] <- model_regression$fitted.values\n",
    "head(dataset_regression)"
   ]
  },
  {
   "cell_type": "markdown",
   "id": "d47ce4a7-9386-41eb-a156-e79d57c13c47",
   "metadata": {},
   "source": [
    "***\n",
    "## <font color='lightgreen'>Correlation</font>\n",
    "***"
   ]
  },
  {
   "cell_type": "markdown",
   "id": "26266fc8-bc57-40cc-831d-a626b2731030",
   "metadata": {},
   "source": [
    "## <font color='lightgreen'>Covariance</font>\n",
    "***"
   ]
  },
  {
   "cell_type": "markdown",
   "id": "396542f0-ef01-415a-b18a-2ad6ca450cd8",
   "metadata": {},
   "source": [
    "Covariance, or joint variance, is the measure of the degree of numerical interdependence (or interrelationship) between two variables. It is defined as follows:"
   ]
  },
  {
   "cell_type": "markdown",
   "id": "511cba5d-f900-41f3-b5ea-40a2d2ba6cdc",
   "metadata": {},
   "source": [
    "### Population covariance\n",
    "\n",
    "# $$\\sigma_{xy} = \\frac 1n\\sum_{i=1}^{n}(X_i-\\mu_x)(Y_i-\\mu_y)$$"
   ]
  },
  {
   "cell_type": "markdown",
   "id": "bb7c771e-d98e-4d8b-bf2c-5f12e6b64f23",
   "metadata": {},
   "source": [
    "### Sample covariance\n",
    "\n",
    "# $$S_{xy} = \\frac 1{n-1}\\sum_{i=1}^{n}(X_i-\\bar{X})(Y_i-\\bar{Y})$$"
   ]
  },
  {
   "cell_type": "markdown",
   "id": "466b7a9e-df9e-41eb-b901-6b7f930f943b",
   "metadata": {},
   "source": [
    "### Generating a random sample"
   ]
  },
  {
   "cell_type": "code",
   "execution_count": 36,
   "id": "126e5cfb-678a-4ec4-8207-1960b9480e5d",
   "metadata": {},
   "outputs": [],
   "source": [
    "sample <- data.frame(\n",
    "    Age = c(39, 29, 21, 49, 29, 34, 32, 32, 24, 53, 28, 28, 46, 58, 41, 43, 31, 55, 52, 54),\n",
    "    Income = c(1500, 1000, 3500, 1570, 600, 1200, 2000, 500, 1300, 600, 1500, 3000, 0, 550, 1500, 1600, 746, 1000, 0, 1400),\n",
    "    Years.Of.Study = c(6, 7, 12, 13, 9, 12, 12, 6, 7, 5, 7, 16, 12, 3, 12, 9, 1, 6, 1, 6),\n",
    "    Height = c(1.6162, 1.7525, 1.6940, 1.8041, 1.7854, 1.7468, 1.6633, 1.6937, 1.6569, 1.6671, 1.6786, 1.6730, 1.7853, 1.6090, 1.7833, 1.6709, 1.6392, 1.6861, 1.7107, 1.7288)\n",
    ")"
   ]
  },
  {
   "cell_type": "markdown",
   "id": "3b0d81ec-f6b3-4109-b20d-adce92c8d5e2",
   "metadata": {},
   "source": [
    "### Obtaining the covariance matrix"
   ]
  },
  {
   "cell_type": "code",
   "execution_count": 37,
   "id": "0f6987e7-64d5-44d1-b48b-fa26eebac0d4",
   "metadata": {},
   "outputs": [
    {
     "data": {
      "text/html": [
       "<table class=\"dataframe\">\n",
       "<caption>A matrix: 4 × 4 of type dbl</caption>\n",
       "<thead>\n",
       "\t<tr><th></th><th scope=col>Age</th><th scope=col>Income</th><th scope=col>Years.Of.Study</th><th scope=col>Height</th></tr>\n",
       "</thead>\n",
       "<tbody>\n",
       "\t<tr><th scope=row>Age</th><td> 1.344105e+02</td><td> -4947.96842</td><td> -16.4105263</td><td> 0.016483684</td></tr>\n",
       "\t<tr><th scope=row>Income</th><td>-4.947968e+03</td><td>764668.32632</td><td>2209.0210526</td><td>-7.139630000</td></tr>\n",
       "\t<tr><th scope=row>Years.Of.Study</th><td>-1.641053e+01</td><td>  2209.02105</td><td>  16.9368421</td><td> 0.111258421</td></tr>\n",
       "\t<tr><th scope=row>Height</th><td> 1.648368e-02</td><td>    -7.13963</td><td>   0.1112584</td><td> 0.003353907</td></tr>\n",
       "</tbody>\n",
       "</table>\n"
      ],
      "text/latex": [
       "A matrix: 4 × 4 of type dbl\n",
       "\\begin{tabular}{r|llll}\n",
       "  & Age & Income & Years.Of.Study & Height\\\\\n",
       "\\hline\n",
       "\tAge &  1.344105e+02 &  -4947.96842 &  -16.4105263 &  0.016483684\\\\\n",
       "\tIncome & -4.947968e+03 & 764668.32632 & 2209.0210526 & -7.139630000\\\\\n",
       "\tYears.Of.Study & -1.641053e+01 &   2209.02105 &   16.9368421 &  0.111258421\\\\\n",
       "\tHeight &  1.648368e-02 &     -7.13963 &    0.1112584 &  0.003353907\\\\\n",
       "\\end{tabular}\n"
      ],
      "text/markdown": [
       "\n",
       "A matrix: 4 × 4 of type dbl\n",
       "\n",
       "| <!--/--> | Age | Income | Years.Of.Study | Height |\n",
       "|---|---|---|---|---|\n",
       "| Age |  1.344105e+02 |  -4947.96842 |  -16.4105263 |  0.016483684 |\n",
       "| Income | -4.947968e+03 | 764668.32632 | 2209.0210526 | -7.139630000 |\n",
       "| Years.Of.Study | -1.641053e+01 |   2209.02105 |   16.9368421 |  0.111258421 |\n",
       "| Height |  1.648368e-02 |     -7.13963 |    0.1112584 |  0.003353907 |\n",
       "\n"
      ],
      "text/plain": [
       "               Age           Income       Years.Of.Study Height      \n",
       "Age             1.344105e+02  -4947.96842  -16.4105263    0.016483684\n",
       "Income         -4.947968e+03 764668.32632 2209.0210526   -7.139630000\n",
       "Years.Of.Study -1.641053e+01   2209.02105   16.9368421    0.111258421\n",
       "Height          1.648368e-02     -7.13963    0.1112584    0.003353907"
      ]
     },
     "metadata": {},
     "output_type": "display_data"
    }
   ],
   "source": [
    "cov_matrix <- cov(sample)\n",
    "cov_matrix"
   ]
  },
  {
   "cell_type": "markdown",
   "id": "389fe39e-a026-4b6d-9018-80fe65b37873",
   "metadata": {},
   "source": [
    "### Identifying variances on the main diagonal of the matrix"
   ]
  },
  {
   "cell_type": "code",
   "execution_count": 38,
   "id": "7527c75f-bc46-4024-925d-320bd190e18d",
   "metadata": {},
   "outputs": [
    {
     "data": {
      "text/html": [
       "134.410526315789"
      ],
      "text/latex": [
       "134.410526315789"
      ],
      "text/markdown": [
       "134.410526315789"
      ],
      "text/plain": [
       "[1] 134.4105"
      ]
     },
     "metadata": {},
     "output_type": "display_data"
    }
   ],
   "source": [
    "var(sample$Age)"
   ]
  },
  {
   "cell_type": "markdown",
   "id": "8dca676b-2253-435f-80ca-ccab4a088813",
   "metadata": {},
   "source": [
    "***\n",
    "## <font color='lightgreen'>Covariance Interpretation</font>\n",
    "***"
   ]
  },
  {
   "cell_type": "markdown",
   "id": "55684297-d0f1-484a-8fe1-fa0a4fb7f1e7",
   "metadata": {},
   "source": [
    "Positive $S_{xy}$ value indicates a positive linear association between x and y, that is, as the value of x increases, the value of y also increases. In this case, we can see in the figure below that the points that have the greatest influence on $S_{xy}$ must be in quadrants I and III.\n",
    "\n",
    "If the value of $S_{xy}$ is negative, we have an indication of a negative linear association between x and y, that is, as x increases, the value of y decreases. In this case, we can see in the figure below that the points that have the greatest influence on $S_{xy}$ must be in quadrants II and IV.\n",
    "\n",
    "Finally, if the points are uniformly distributed across the quadrants, the value of $S_{xy}$ will approach zero, indicating that there is no linear association between x and y.\n",
    "\n",
    "<img src=\"https://caelum-online-public.s3.amazonaws.com/1273-estatistica-parte4/01/img026.png\" width=50%>"
   ]
  },
  {
   "cell_type": "markdown",
   "id": "8000346f-950a-431f-b33c-653e7a87cd1b",
   "metadata": {},
   "source": [
    "### Checking the existence of a negative linear association"
   ]
  },
  {
   "cell_type": "code",
   "execution_count": 40,
   "id": "cfd762be-8bed-40f6-b04a-14bb99b57440",
   "metadata": {},
   "outputs": [
    {
     "data": {
      "image/png": "[encoded data removed]",
      "text/plain": [
       "plot without title"
      ]
     },
     "metadata": {
      "image/png": {
       "height": 360,
       "width": 720
      }
     },
     "output_type": "display_data"
    }
   ],
   "source": [
    "graphic <- sample[, c('Income', 'Age')]\n",
    "\n",
    "ggplot(data = graphic, aes(x = Income, y = Age)) +\n",
    "    geom_point(size = 2, stroke = 0) +\n",
    "    geom_hline(yintercept = mean(sample$Age), color = 'black') +\n",
    "    geom_vline(xintercept = mean(sample$Income), color = 'black')"
   ]
  },
  {
   "cell_type": "markdown",
   "id": "cdbba1f0-e218-4bd7-8722-3292b54fcaaf",
   "metadata": {},
   "source": [
    "### Checking the existence of a positive linear association"
   ]
  },
  {
   "cell_type": "code",
   "execution_count": 43,
   "id": "8400831e-5a10-4364-ad6c-7f1e268f1b5b",
   "metadata": {},
   "outputs": [
    {
     "data": {
      "image/png": "[encoded data removed]",
      "text/plain": [
       "plot without title"
      ]
     },
     "metadata": {
      "image/png": {
       "height": 360,
       "width": 720
      }
     },
     "output_type": "display_data"
    }
   ],
   "source": [
    "graphic <- sample[, c('Income', 'Years.Of.Study')]\n",
    "\n",
    "ggplot(data = graphic, aes(x = Income, y = Years.Of.Study)) +\n",
    "    geom_point(size = 2, stroke = 0) +\n",
    "    geom_hline(yintercept = mean(sample$Years.Of.Study), color = 'black') +\n",
    "    geom_vline(xintercept = mean(sample$Income), color = 'black')"
   ]
  },
  {
   "cell_type": "markdown",
   "id": "b1ed9815-21b0-4fda-9336-36586ba6d55c",
   "metadata": {},
   "source": [
    "### Checking the non-existence of a linear association between the variables"
   ]
  },
  {
   "cell_type": "code",
   "execution_count": 45,
   "id": "f5931796-2d11-44d3-9044-9dcfae0a8028",
   "metadata": {},
   "outputs": [
    {
     "data": {
      "image/png": "[encoded data removed]",
      "text/plain": [
       "plot without title"
      ]
     },
     "metadata": {
      "image/png": {
       "height": 360,
       "width": 720
      }
     },
     "output_type": "display_data"
    }
   ],
   "source": [
    "graphic <- sample[, c('Income', 'Height')]\n",
    "\n",
    "ggplot(data = graphic, aes(x = Income, y = Height)) +\n",
    "    geom_point(size = 2, stroke = 0) +\n",
    "    geom_hline(yintercept = mean(sample$Height), color = 'black') +\n",
    "    geom_vline(xintercept = mean(sample$Income), color = 'black')"
   ]
  },
  {
   "cell_type": "markdown",
   "id": "596e5a36-9e79-4074-8026-f10bafb36e11",
   "metadata": {},
   "source": [
    "### <font color='red'>Important Note:</font>\n",
    "> From what has been presented, it may seem that high values, both positive and negative, for covariance indicate strong linear relationships between the variables involved. However, a problem when using covariance as a measure of the strength of the linear relationship is that the value of the covariance depends on the units of measurement for x and y.\n",
    ">\n",
    "> A measure of the relationship between two variables that is not affected by the units of measurement for x and y is the correlation coefficient that we will see in the next topic."
   ]
  },
  {
   "cell_type": "code",
   "execution_count": null,
   "id": "2a526d07-b4da-4832-9101-d02d9d6eea22",
   "metadata": {},
   "outputs": [],
   "source": []
  },
  {
   "cell_type": "code",
   "execution_count": null,
   "id": "6db408e8-40c4-4193-8f00-686f77cbabd4",
   "metadata": {},
   "outputs": [],
   "source": []
  },
  {
   "cell_type": "code",
   "execution_count": null,
   "id": "74d13931-df40-4af4-92da-1bc52e76ad89",
   "metadata": {},
   "outputs": [],
   "source": []
  },
  {
   "cell_type": "code",
   "execution_count": null,
   "id": "f11c06df-0b92-4cac-aaaf-8a75edde6c0a",
   "metadata": {},
   "outputs": [],
   "source": []
  },
  {
   "cell_type": "code",
   "execution_count": null,
   "id": "03e4a77c-4cf1-4aa9-8241-315bb66d7d1b",
   "metadata": {},
   "outputs": [],
   "source": []
  },
  {
   "cell_type": "code",
   "execution_count": null,
   "id": "eeac0157-21e1-4997-8372-d831367d2db0",
   "metadata": {},
   "outputs": [],
   "source": []
  },
  {
   "cell_type": "code",
   "execution_count": null,
   "id": "f82de8b5-a804-4d19-8724-2e5c78c5d047",
   "metadata": {},
   "outputs": [],
   "source": []
  },
  {
   "cell_type": "code",
   "execution_count": null,
   "id": "14c9853b-5bf5-4708-a0a6-923cb2ab601b",
   "metadata": {},
   "outputs": [],
   "source": []
  },
  {
   "cell_type": "code",
   "execution_count": null,
   "id": "e18fff90-ffc2-46ea-ba68-352f1b5b5ca4",
   "metadata": {},
   "outputs": [],
   "source": []
  },
  {
   "cell_type": "code",
   "execution_count": null,
   "id": "58dded01-fbf2-4e16-b330-9c20208e2774",
   "metadata": {},
   "outputs": [],
   "source": []
  },
  {
   "cell_type": "code",
   "execution_count": null,
   "id": "a57d37e5-fc90-474a-8c9f-cb8d0e782230",
   "metadata": {},
   "outputs": [],
   "source": []
  },
  {
   "cell_type": "code",
   "execution_count": null,
   "id": "ffd61924-53d5-4237-82d7-010a59c23d4a",
   "metadata": {},
   "outputs": [],
   "source": []
  },
  {
   "cell_type": "code",
   "execution_count": null,
   "id": "63b5bea9-f904-4c16-a8bb-c9d2641a5229",
   "metadata": {},
   "outputs": [],
   "source": []
  },
  {
   "cell_type": "code",
   "execution_count": null,
   "id": "f2ff1c55-86cb-4e17-af00-194f07ef6465",
   "metadata": {},
   "outputs": [],
   "source": []
  },
  {
   "cell_type": "code",
   "execution_count": null,
   "id": "54466226-74be-421e-a7c4-b4d17e66f2e8",
   "metadata": {},
   "outputs": [],
   "source": []
  },
  {
   "cell_type": "code",
   "execution_count": null,
   "id": "f425c680-6688-400b-9c54-c0fcd07232b8",
   "metadata": {},
   "outputs": [],
   "source": []
  },
  {
   "cell_type": "code",
   "execution_count": null,
   "id": "300b30c9-850b-4777-8496-60bf9f5c7e4e",
   "metadata": {},
   "outputs": [],
   "source": []
  },
  {
   "cell_type": "code",
   "execution_count": null,
   "id": "48694072-f9cf-4f6d-9022-77720c8bff63",
   "metadata": {},
   "outputs": [],
   "source": []
  },
  {
   "cell_type": "code",
   "execution_count": null,
   "id": "22d58148-58d5-4f1f-998c-97efb310615c",
   "metadata": {},
   "outputs": [],
   "source": []
  },
  {
   "cell_type": "code",
   "execution_count": null,
   "id": "20de05ea-9608-4af8-8206-4ffb6bfba883",
   "metadata": {},
   "outputs": [],
   "source": []
  },
  {
   "cell_type": "code",
   "execution_count": null,
   "id": "e3913c2a-d70e-4a0b-8bd3-7fe4fba3c77a",
   "metadata": {},
   "outputs": [],
   "source": []
  },
  {
   "cell_type": "code",
   "execution_count": null,
   "id": "4ed6c0bc-498e-4eed-9311-c2e2397fc5a8",
   "metadata": {},
   "outputs": [],
   "source": []
  },
  {
   "cell_type": "code",
   "execution_count": null,
   "id": "77ffc1b9-e890-4baf-90b7-7fcdf84316a3",
   "metadata": {},
   "outputs": [],
   "source": []
  },
  {
   "cell_type": "code",
   "execution_count": null,
   "id": "f6ddbf15-e511-49f1-8bf7-bee1860ed7ad",
   "metadata": {},
   "outputs": [],
   "source": []
  },
  {
   "cell_type": "code",
   "execution_count": null,
   "id": "03e5ac00-b00a-414e-922d-870308977408",
   "metadata": {},
   "outputs": [],
   "source": []
  },
  {
   "cell_type": "code",
   "execution_count": null,
   "id": "04d4219b-8527-4cf7-a0d3-c637f63f96f7",
   "metadata": {},
   "outputs": [],
   "source": []
  },
  {
   "cell_type": "code",
   "execution_count": null,
   "id": "d134eaad-dd7e-4dc0-9866-82c591efa7b3",
   "metadata": {},
   "outputs": [],
   "source": []
  },
  {
   "cell_type": "code",
   "execution_count": null,
   "id": "40ce14b1-cdca-42f0-b051-efe44108af37",
   "metadata": {},
   "outputs": [],
   "source": []
  },
  {
   "cell_type": "code",
   "execution_count": null,
   "id": "d9040382-8f0e-41df-b7a0-51af0693e382",
   "metadata": {},
   "outputs": [],
   "source": []
  },
  {
   "cell_type": "code",
   "execution_count": null,
   "id": "c3507394-b09d-49e6-8377-21910b7ede13",
   "metadata": {},
   "outputs": [],
   "source": []
  },
  {
   "cell_type": "code",
   "execution_count": null,
   "id": "fee476dd-619a-4da6-a15e-2502fb8e7f53",
   "metadata": {},
   "outputs": [],
   "source": []
  },
  {
   "cell_type": "code",
   "execution_count": null,
   "id": "662a43ad-0245-4b23-b321-f950606c71cd",
   "metadata": {},
   "outputs": [],
   "source": []
  },
  {
   "cell_type": "code",
   "execution_count": null,
   "id": "c822a6e2-f41e-4a07-a7e9-1399c91e424c",
   "metadata": {},
   "outputs": [],
   "source": []
  },
  {
   "cell_type": "code",
   "execution_count": null,
   "id": "bc2be2e1-dd78-4bd1-98db-6087f100dc1f",
   "metadata": {},
   "outputs": [],
   "source": []
  },
  {
   "cell_type": "code",
   "execution_count": null,
   "id": "a396200f-8253-4855-b4d8-6a83bc2bead6",
   "metadata": {},
   "outputs": [],
   "source": []
  },
  {
   "cell_type": "code",
   "execution_count": null,
   "id": "a97255b0-d6db-42ca-a2d6-b51aa60ef2a1",
   "metadata": {},
   "outputs": [],
   "source": []
  },
  {
   "cell_type": "code",
   "execution_count": null,
   "id": "77c64e3d-92e2-42af-9976-cca1ae5ad3c2",
   "metadata": {},
   "outputs": [],
   "source": []
  },
  {
   "cell_type": "code",
   "execution_count": null,
   "id": "4e1b08ff-5c97-4add-9eca-20325afcb59b",
   "metadata": {},
   "outputs": [],
   "source": []
  },
  {
   "cell_type": "code",
   "execution_count": null,
   "id": "bb419a43-a4ba-4b67-b0da-5a116f142ba8",
   "metadata": {},
   "outputs": [],
   "source": []
  },
  {
   "cell_type": "code",
   "execution_count": null,
   "id": "5955930b-6622-4f33-ae7d-eb41b6c15da3",
   "metadata": {},
   "outputs": [],
   "source": []
  },
  {
   "cell_type": "code",
   "execution_count": null,
   "id": "adda1dab-6701-4607-b4fe-d5980ae82b97",
   "metadata": {},
   "outputs": [],
   "source": []
  },
  {
   "cell_type": "code",
   "execution_count": null,
   "id": "ca739824-03bf-4f91-a811-2b54cd9fdbda",
   "metadata": {},
   "outputs": [],
   "source": []
  },
  {
   "cell_type": "code",
   "execution_count": null,
   "id": "79dbb70d-75bb-42d5-823a-3952256203df",
   "metadata": {},
   "outputs": [],
   "source": []
  },
  {
   "cell_type": "code",
   "execution_count": null,
   "id": "91f0043c-54c6-485c-93f2-76213706c0bf",
   "metadata": {},
   "outputs": [],
   "source": []
  },
  {
   "cell_type": "code",
   "execution_count": null,
   "id": "4f159541-518e-491c-9dda-28813ff909bf",
   "metadata": {},
   "outputs": [],
   "source": []
  },
  {
   "cell_type": "code",
   "execution_count": null,
   "id": "337d494c-690a-4d94-86df-d22a6225e6b8",
   "metadata": {},
   "outputs": [],
   "source": []
  },
  {
   "cell_type": "code",
   "execution_count": null,
   "id": "1c09f089-8af7-4205-b24a-3ef04b985af1",
   "metadata": {},
   "outputs": [],
   "source": []
  },
  {
   "cell_type": "code",
   "execution_count": null,
   "id": "2f4e2929-d896-494e-a137-8a2d2669ac50",
   "metadata": {},
   "outputs": [],
   "source": []
  },
  {
   "cell_type": "code",
   "execution_count": null,
   "id": "21a42aa8-e1bb-45ba-9ec8-d945279daab2",
   "metadata": {},
   "outputs": [],
   "source": []
  },
  {
   "cell_type": "code",
   "execution_count": null,
   "id": "c0056533-33c6-4ce4-9b80-1f78eecbdfef",
   "metadata": {},
   "outputs": [],
   "source": []
  },
  {
   "cell_type": "code",
   "execution_count": null,
   "id": "2bdc4d5b-4978-4875-ae68-ca5fe10b5448",
   "metadata": {},
   "outputs": [],
   "source": []
  },
  {
   "cell_type": "code",
   "execution_count": null,
   "id": "d43aba0c-62e0-444b-8b5e-370e63fbba96",
   "metadata": {},
   "outputs": [],
   "source": []
  },
  {
   "cell_type": "code",
   "execution_count": null,
   "id": "8337ad40-1eb7-4280-8ec1-be23a27be1fc",
   "metadata": {},
   "outputs": [],
   "source": []
  },
  {
   "cell_type": "code",
   "execution_count": null,
   "id": "84847124-25ee-4b25-a1fe-f61a695735d5",
   "metadata": {},
   "outputs": [],
   "source": []
  },
  {
   "cell_type": "code",
   "execution_count": null,
   "id": "2504f946-ab56-42f6-94d1-577b218ed932",
   "metadata": {},
   "outputs": [],
   "source": []
  },
  {
   "cell_type": "code",
   "execution_count": null,
   "id": "a74f0646-8ab3-45f3-94cd-b01447c226ff",
   "metadata": {},
   "outputs": [],
   "source": []
  },
  {
   "cell_type": "code",
   "execution_count": null,
   "id": "aeb36ceb-4037-4eb1-9258-56b2c9a0e0d4",
   "metadata": {},
   "outputs": [],
   "source": []
  },
  {
   "cell_type": "code",
   "execution_count": null,
   "id": "5b2db9a1-52a2-4a08-a7f3-527de5c18f38",
   "metadata": {},
   "outputs": [],
   "source": []
  },
  {
   "cell_type": "code",
   "execution_count": null,
   "id": "fae70a68-ea29-4861-8bc8-516fdcebf5c1",
   "metadata": {},
   "outputs": [],
   "source": []
  },
  {
   "cell_type": "code",
   "execution_count": null,
   "id": "88990c92-5d85-4b49-b46f-1cd5f2b9adb4",
   "metadata": {},
   "outputs": [],
   "source": []
  },
  {
   "cell_type": "code",
   "execution_count": null,
   "id": "18932867-02c0-4446-a417-db31decb7692",
   "metadata": {},
   "outputs": [],
   "source": []
  },
  {
   "cell_type": "code",
   "execution_count": null,
   "id": "8b5cadcc-a18a-4f1c-8d4a-97f5c6465c57",
   "metadata": {},
   "outputs": [],
   "source": []
  },
  {
   "cell_type": "code",
   "execution_count": null,
   "id": "d7473953-7dd6-4be7-ac60-bcdbd17a7ff9",
   "metadata": {},
   "outputs": [],
   "source": []
  },
  {
   "cell_type": "code",
   "execution_count": null,
   "id": "91d96d41-7120-4f2b-bbe1-c51d33a623ca",
   "metadata": {},
   "outputs": [],
   "source": []
  },
  {
   "cell_type": "code",
   "execution_count": null,
   "id": "b975cb64-8347-439e-81c6-4a03da9597a9",
   "metadata": {},
   "outputs": [],
   "source": []
  },
  {
   "cell_type": "code",
   "execution_count": null,
   "id": "4e915a9c-08b8-4ac7-a946-8ea83e01b1ef",
   "metadata": {},
   "outputs": [],
   "source": []
  },
  {
   "cell_type": "code",
   "execution_count": null,
   "id": "c49f413c-180b-47da-a43d-a6c83d939cd9",
   "metadata": {},
   "outputs": [],
   "source": []
  },
  {
   "cell_type": "code",
   "execution_count": null,
   "id": "7b893aea-c35a-489c-b828-305cfc764784",
   "metadata": {},
   "outputs": [],
   "source": []
  },
  {
   "cell_type": "code",
   "execution_count": null,
   "id": "a3bc6f40-e80c-4d94-b590-2c183bcf2b47",
   "metadata": {},
   "outputs": [],
   "source": []
  },
  {
   "cell_type": "code",
   "execution_count": null,
   "id": "49f590f6-a76b-4b43-bf72-0dd13db7cab8",
   "metadata": {},
   "outputs": [],
   "source": []
  }
 ],
 "metadata": {
  "kernelspec": {
   "display_name": "R",
   "language": "R",
   "name": "ir"
  },
  "language_info": {
   "codemirror_mode": "r",
   "file_extension": ".r",
   "mimetype": "text/x-r-source",
   "name": "R",
   "pygments_lexer": "r",
   "version": "4.3.1"
  }
 },
 "nbformat": 4,
 "nbformat_minor": 5
}
